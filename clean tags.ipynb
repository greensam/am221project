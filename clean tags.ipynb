{
 "cells": [
  {
   "cell_type": "code",
   "execution_count": 8,
   "metadata": {
    "collapsed": true
   },
   "outputs": [],
   "source": [
    "import os\n",
    "import csv"
   ]
  },
  {
   "cell_type": "code",
   "execution_count": 33,
   "metadata": {
    "collapsed": false
   },
   "outputs": [
    {
     "name": "stdout",
     "output_type": "stream",
     "text": [
      "[\"'#WisconsinvsPittsburgh'\", \"'#Badgers'\", \"'#Panthers'\", \"'#Wisconsin'\", \"'#Pittsburgh'\", \"'#MakeEmBelieve'\", \"'#Fieldof64'\", \"'#WisconsinBasketball'\", \"'#H2P'\", \"'#WVUvsSFA'\", \"'#WestVirginia'\", \"'#WVU'\", \"'#HailWV'\", \"'#PressVirginia'\", \"'#Mountaineers'\", \"'#Lumberjacks'\", \"'#SFA'\", \"'#AxeEm'\", \"'#A&MvGreenBay'\", \"'#TexasA&M'\", \"'#Aggies'\", \"'#Gigem'\", \"'#TAMU'\", \"'#12thMan'\", \"'#SFA'\", \"'#AggieHoops'\", \"'#RP40'\", \"'#HLMBB'\", \"'#ContinueTheRise'\", \"'#GreenBay'\", \"'#OregonvsHolyCross'\", \"'#Oregon'\", \"'#Ducks'\", \"'#GoDucks'\", \"'#HolyCross'\", \"'#Crusaders'\", \"'#RiseTogether'\", \"'#XaviervsWeberState'\", \"'#Xavier'\", \"'#Musketeers'\", \"'#LetsGoX'\", \"'#LetsMarch'\", \"'#Wildcats'\", \"'#WeberState'\", \"'#WeAreWeber'\", \"'#BigSkyMBB'\", \"''\", \"'#NotreDamevsMichigan'\", \"'#NotreDame'\", \"'#Michigan'\", \"'#UMich'\", \"'#NotDoneYet'\", \"'#FightingIrish'\", \"'#Wolverines'\", \"'#Squad100'\", \"'#GoBlue'\", \"'#TexasvsNorthernIowa'\", \"'#UT'\", \"'#NorthernIowa'\", \"'#Longhorns'\", \"'#HookEm'\", \"'#Horns'\", \"'#Panthers'\", \"'#PantherNation'\", \"'#UNI'\", \"'#UTvsUNI'\", \"'#UNIFight'\", \"'#StJoesvsCincy'\", \"'#Cincinnati'\", \"'#Cincy'\", \"'#StJoes'\", \"'#Hawks'\", \"'#BearCats'\", \"'#Dancin6'\", \"'#StJosephs'\", \"'#THWND'\"]\n"
     ]
    }
   ],
   "source": [
    "lines = []\n",
    "with open(\"fridaytags.csv\") as f:\n",
    "    reader = csv.reader(f, delimiter=\" \")\n",
    "    for line in reader:\n",
    "        line = [\"\\'\" + word + \"\\'\" for word in line ]\n",
    "        lines = lines + line\n",
    "print lines\n",
    "with open(\"cleantags.csv\", \"w\") as f:\n",
    "    w = csv.writer(f)\n",
    "    w.writerow(lines)"
   ]
  },
  {
   "cell_type": "code",
   "execution_count": null,
   "metadata": {
    "collapsed": true
   },
   "outputs": [],
   "source": []
  }
 ],
 "metadata": {
  "kernelspec": {
   "display_name": "Python 2",
   "language": "python",
   "name": "python2"
  },
  "language_info": {
   "codemirror_mode": {
    "name": "ipython",
    "version": 2
   },
   "file_extension": ".py",
   "mimetype": "text/x-python",
   "name": "python",
   "nbconvert_exporter": "python",
   "pygments_lexer": "ipython2",
   "version": "2.7.11"
  }
 },
 "nbformat": 4,
 "nbformat_minor": 0
}

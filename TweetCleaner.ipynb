{
 "cells": [
  {
   "cell_type": "code",
   "execution_count": 31,
   "metadata": {
    "collapsed": true
   },
   "outputs": [],
   "source": [
    "import json\n",
    "import unicodecsv as csv\n",
    "import unicodedata\n",
    "import codecs"
   ]
  },
  {
   "cell_type": "code",
   "execution_count": 32,
   "metadata": {
    "collapsed": false
   },
   "outputs": [],
   "source": [
    "class TweetReader:\n",
    "    \"\"\"\n",
    "    Utility class providing conversation of our dumbly formatted\n",
    "    files containing scraped tweets into python dictionaries\n",
    "    sequententially, which can then be easily applied to clean and output \n",
    "    to a file.\n",
    "    \"\"\"\n",
    "    def __init__(self, infile, outfile):\n",
    "        self.infile_str = infile\n",
    "        self.outfile_str = outfile\n",
    "        self.infile = codecs.open(infile, 'r', encoding='utf-8')\n",
    "        self.line_count = 0\n",
    "        self.base = \"\"\n",
    "        \n",
    "        if not self.outfile_str is None:\n",
    "            self.outfile = open(outfile, 'w')\n",
    "        else:\n",
    "            self.outfile = None\n",
    "    \n",
    "    def init_outfile(self, outfile_str):\n",
    "        if not self.outfile is None and self.outfile_str is None:\n",
    "            raise Exception('Use update method to update Reader outfile.')\n",
    "        \n",
    "        self.outfile_str = outfile_str\n",
    "        self.outfile = open(self.outfile_str, 'w')\n",
    "        return True\n",
    "    \n",
    "    def update_outfile(self, outfile_str):\n",
    "        if self.outfile is None or self.outfile_str is None:\n",
    "            raise Exception('Use init method to initialize Reader outfile.')\n",
    "        \n",
    "        self.outfile_str = outfile_str\n",
    "        self.outfile = open(self.outfile_str,'w')\n",
    "              \n",
    "    def __iter__(self):\n",
    "        return self\n",
    "    \"\"\"\n",
    "    Attempt to read an object from the input file. Malformed input file will cause an exception.\n",
    "    \"\"\"\n",
    "    def next(self):\n",
    "        def to_json(st):\n",
    "            return json.loads(st)\n",
    "        \n",
    "        while True:\n",
    "            try:\n",
    "                line = next(self.infile)\n",
    "                self.line_count += 1\n",
    "                if self.line_count % 500000 == 0:\n",
    "                    print \"Hit 500000, total: {0}\".format(self.line_count)\n",
    "            except StopIteration:\n",
    "                print \"hit end of input file\"\n",
    "                try:\n",
    "                    obj = to_json(self.base)\n",
    "                    self.base = \"\"\n",
    "                except:\n",
    "                    raise StopIteration()\n",
    "                \n",
    "            if line.strip() == '}{':\n",
    "                self.base += '}'\n",
    "                try:\n",
    "                    obj = json.loads(self.base)\n",
    "                except Exception as e:\n",
    "                    print line\n",
    "                    print self.base\n",
    "                    raise e\n",
    "                self.base = '{'\n",
    "                return obj\n",
    "            else:\n",
    "                self.base += line\n",
    "    \"\"\"\n",
    "    Attempt to read an input JSON object, then apply the argument clean \n",
    "    \"\"\"\n",
    "    def read_and_clean(self, clean_function):\n",
    "        obj = self.next()\n",
    "        cleaned = clean_function(obj)\n",
    "        return cleaned\n",
    "    \n",
    "    def write(self, obj):\n",
    "        if self.outfile is None:\n",
    "            raise Exception(\"Method requires outfile.\")\n",
    "            \n",
    "        writer = csv.DictWriter(self.outfile, fieldnames=obj.keys())\n",
    "        writer.writerow(obj)\n",
    "        return True\n",
    "    \n",
    "    def clean_and_write(self, obj, clean):\n",
    "        self.write(clean(obj))\n",
    "        return True\n",
    "    \n",
    "    def clean_and_write_all(self,clean,count=None):\n",
    "        c = 0\n",
    "        error_count = 0\n",
    "        for obj in self:\n",
    "            if obj is None:\n",
    "                continue\n",
    "            self.clean_and_write(obj,clean)\n",
    "            if not count is None:\n",
    "                if c > count:\n",
    "                    break\n",
    "                else:\n",
    "                    c += 1\n",
    "        print \"Converted {0} tweets from source file {1} to \\\n",
    "                output file {2}\".format(c, self.infile_str, self.outfile_str)\n",
    "        print \"{0} write attempts failed\".format(error_count)"
   ]
  },
  {
   "cell_type": "code",
   "execution_count": 33,
   "metadata": {
    "collapsed": false
   },
   "outputs": [],
   "source": [
    "tr = TweetReader('firstround/sunday27.json', 'converted/sunday3-27.csv')"
   ]
  },
  {
   "cell_type": "code",
   "execution_count": 34,
   "metadata": {
    "collapsed": true
   },
   "outputs": [],
   "source": [
    "def clean(tw):\n",
    "    return {'text':tw['text'], 'time':tw['timestamp_ms']}"
   ]
  },
  {
   "cell_type": "code",
   "execution_count": 35,
   "metadata": {
    "collapsed": false
   },
   "outputs": [
    {
     "name": "stdout",
     "output_type": "stream",
     "text": [
      "Hit 500000, total: 500000\n",
      "Hit 500000, total: 1000000\n",
      "Hit 500000, total: 1500000\n",
      "Hit 500000, total: 2000000\n",
      "Hit 500000, total: 2500000\n",
      "Hit 500000, total: 3000000\n",
      "Hit 500000, total: 3500000\n",
      "Hit 500000, total: 4000000\n",
      "Hit 500000, total: 4500000\n",
      "Hit 500000, total: 5000000\n",
      "Hit 500000, total: 5500000\n",
      "Hit 500000, total: 6000000\n",
      "Hit 500000, total: 6500000\n",
      "Hit 500000, total: 7000000\n",
      "Hit 500000, total: 7500000\n",
      "Hit 500000, total: 8000000\n",
      "Hit 500000, total: 8500000\n",
      "Hit 500000, total: 9000000\n",
      "Hit 500000, total: 9500000\n",
      "Hit 500000, total: 10000000\n",
      "Hit 500000, total: 10500000\n",
      "Hit 500000, total: 11000000\n",
      "Hit 500000, total: 11500000\n",
      "Hit 500000, total: 12000000\n",
      "Hit 500000, total: 12500000\n",
      "Hit 500000, total: 13000000\n",
      "Hit 500000, total: 13500000\n",
      "Hit 500000, total: 14000000\n",
      "hit end of input file\n",
      "hit end of input file\n",
      "Converted 0 tweets from source file firstround/sunday27.json to                 output file converted/sunday3-27.csv\n",
      "0 write attempts failed\n"
     ]
    }
   ],
   "source": [
    "tr.clean_and_write_all(clean)"
   ]
  },
  {
   "cell_type": "code",
   "execution_count": 36,
   "metadata": {
    "collapsed": true
   },
   "outputs": [],
   "source": [
    "tr = TweetReader('firstround/saturday3-26.json', 'converted/saturday3-26.csv')"
   ]
  },
  {
   "cell_type": "code",
   "execution_count": 37,
   "metadata": {
    "collapsed": false
   },
   "outputs": [
    {
     "name": "stdout",
     "output_type": "stream",
     "text": [
      "Hit 500000, total: 500000\n",
      "Hit 500000, total: 1000000\n",
      "Hit 500000, total: 1500000\n",
      "Hit 500000, total: 2000000\n",
      "Hit 500000, total: 2500000\n",
      "hit end of input file\n",
      "hit end of input file\n",
      "Converted 0 tweets from source file firstround/saturday3-26.json to                 output file converted/saturday3-26.csv\n",
      "0 write attempts failed\n"
     ]
    }
   ],
   "source": [
    "tr.clean_and_write_all(clean)"
   ]
  },
  {
   "cell_type": "code",
   "execution_count": null,
   "metadata": {
    "collapsed": true
   },
   "outputs": [],
   "source": []
  }
 ],
 "metadata": {
  "kernelspec": {
   "display_name": "Python 2",
   "language": "python",
   "name": "python2"
  },
  "language_info": {
   "codemirror_mode": {
    "name": "ipython",
    "version": 2
   },
   "file_extension": ".py",
   "mimetype": "text/x-python",
   "name": "python",
   "nbconvert_exporter": "python",
   "pygments_lexer": "ipython2",
   "version": "2.7.11"
  }
 },
 "nbformat": 4,
 "nbformat_minor": 0
}

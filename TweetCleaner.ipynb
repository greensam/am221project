{
 "cells": [
  {
   "cell_type": "code",
   "execution_count": 171,
   "metadata": {
    "collapsed": true
   },
   "outputs": [],
   "source": [
    "import json\n",
    "import unicodecsv as csv\n",
    "import unicodedata\n",
    "import codecs"
   ]
  },
  {
   "cell_type": "code",
   "execution_count": 175,
   "metadata": {
    "collapsed": false
   },
   "outputs": [],
   "source": [
    "class TweetReader:\n",
    "    \"\"\"\n",
    "    Utility class providing conversation of our dumbly formatted\n",
    "    files containing scraped tweets into python dictionaries\n",
    "    sequententially, which can then be easily applied to clean and output \n",
    "    to a file.\n",
    "    \"\"\"\n",
    "    def __init__(self, infile, outfile):\n",
    "        self.infile_str = infile\n",
    "        self.outfile_str = outfile\n",
    "        self.infile = codecs.open(infile, 'r', encoding='utf-8')\n",
    "        self.base = \"\"\n",
    "        \n",
    "        if not self.outfile_str is None:\n",
    "            self.outfile = open(outfile, 'w')\n",
    "        else:\n",
    "            self.outfile = None\n",
    "    \n",
    "    def init_outfile(self, outfile_str):\n",
    "        if not self.outfile is None and self.outfile_str is None:\n",
    "            raise Exception('Use update method to update Reader outfile.')\n",
    "        \n",
    "        self.outfile_str = outfile_str\n",
    "        self.outfile = open(self.outfile_str, 'w')\n",
    "        return True\n",
    "    \n",
    "    def update_outfile(self, outfile_str):\n",
    "        if self.outfile is None or self.outfile_str is None:\n",
    "            raise Exception('Use init method to initialize Reader outfile.')\n",
    "        \n",
    "        self.outfile_str = outfile_str\n",
    "        self.outfile = open(self.outfile_str,'w')\n",
    "              \n",
    "    def __iter__(self):\n",
    "        return self\n",
    "    \"\"\"\n",
    "    Attempt to read an object from the input file. Malformed input file will cause an exception.\n",
    "    \"\"\"\n",
    "    def next(self):\n",
    "        def to_json(st):\n",
    "            return json.loads(st)\n",
    "        \n",
    "        assert(self.base is \"\" or self.base is \"{\")\n",
    "        \n",
    "        while True:\n",
    "            try:\n",
    "                line = next(self.infile)\n",
    "            except StopIteration:\n",
    "                return to_json(self.base)\n",
    "                \n",
    "            if '}{' in line:\n",
    "                self.base += '}'\n",
    "                obj = json.loads(self.base)\n",
    "                self.base = '{'\n",
    "                return obj\n",
    "            else:\n",
    "                self.base += line\n",
    "    \"\"\"\n",
    "    Attempt to read an input JSON object, then apply the argument clean \n",
    "    \"\"\"\n",
    "    def read_and_clean(self, clean_function):\n",
    "        obj = self.next()\n",
    "    \n",
    "        cleaned = clean_function(obj)\n",
    "        return cleaned\n",
    "        \n",
    "    def clean_and_write(self, clean_function):\n",
    "        if self.outfile is None:\n",
    "            raise Exception(\"Method requires outfile.\")\n",
    "        \n",
    "        obj = self.read_and_clean(clean_function)\n",
    "        writer = csv.DictWriter(self.outfile, fieldnames=obj.keys())\n",
    "        writer.writerow(obj)"
   ]
  },
  {
   "cell_type": "code",
   "execution_count": 176,
   "metadata": {
    "collapsed": false
   },
   "outputs": [],
   "source": [
    "tr = TweetReader('firstround/sunday27.json', 'example.csv')"
   ]
  },
  {
   "cell_type": "code",
   "execution_count": 179,
   "metadata": {
    "collapsed": true
   },
   "outputs": [],
   "source": [
    "def clean(tw):\n",
    "    return {'text':tw['text'], 'time':tw['timestamp_ms']}"
   ]
  },
  {
   "cell_type": "code",
   "execution_count": 180,
   "metadata": {
    "collapsed": false
   },
   "outputs": [],
   "source": [
    "for _ in range(100):\n",
    "    tr.clean_and_write(clean)"
   ]
  },
  {
   "cell_type": "code",
   "execution_count": null,
   "metadata": {
    "collapsed": true
   },
   "outputs": [],
   "source": []
  },
  {
   "cell_type": "code",
   "execution_count": null,
   "metadata": {
    "collapsed": true
   },
   "outputs": [],
   "source": []
  }
 ],
 "metadata": {
  "kernelspec": {
   "display_name": "Python 2",
   "language": "python",
   "name": "python2"
  },
  "language_info": {
   "codemirror_mode": {
    "name": "ipython",
    "version": 2
   },
   "file_extension": ".py",
   "mimetype": "text/x-python",
   "name": "python",
   "nbconvert_exporter": "python",
   "pygments_lexer": "ipython2",
   "version": "2.7.11"
  }
 },
 "nbformat": 4,
 "nbformat_minor": 0
}

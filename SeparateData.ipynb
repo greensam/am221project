{
 "cells": [
  {
   "cell_type": "code",
   "execution_count": 13,
   "metadata": {
    "collapsed": false
   },
   "outputs": [],
   "source": [
    "%matplotlib inline\n",
    "import unicodecsv as csv\n",
    "import numpy as np\n",
    "import pandas as pd"
   ]
  },
  {
   "cell_type": "code",
   "execution_count": 15,
   "metadata": {
    "collapsed": true
   },
   "outputs": [],
   "source": [
    "import unicodecsv as csv\n",
    "\n",
    "def filtertweetcsv(treader, filtertags, outfile):\n",
    "    with open(outfile, 'w') as f:\n",
    "        wr = csv.DictWriter(f,fieldnames=['text','time'])\n",
    "        wr.writeheader()\n",
    "        for row in treader:\n",
    "            if any(tag in row['text'] for tag in filtertags):\n",
    "                wr.writerow(row)\n",
    "    return True\n",
    "\n",
    "def filtertweets(inpath, outfile, tags):\n",
    "    with open(inpath, 'r') as f:\n",
    "        rdr = csv.DictReader(f)\n",
    "        return filtertweetcsv(rdr, tags , outfile)"
   ]
  },
  {
   "cell_type": "code",
   "execution_count": 16,
   "metadata": {
    "collapsed": true
   },
   "outputs": [],
   "source": [
    "DaytonCuse = [\"#Dayton\" ,\"#Flyers\", \"#TrueTeam\", \"#GoFlyers\", \"#Syracuse\", \"#OrangeCrush\" ,\"#CuseMode\" ,\"#StLouis\"]\n",
    "infile = 'converted/firstroufriday2nd.csv'\n",
    "outfile = 'separated/DaytonSyracuse.csv'\n",
    "filtertweets(infile,outfile,DaytonCuse)"
   ]
  },
  {
   "cell_type": "code",
   "execution_count": 18,
   "metadata": {
    "collapsed": false
   },
   "outputs": [
    {
     "data": {
      "text/plain": [
       "True"
      ]
     },
     "execution_count": 18,
     "metadata": {},
     "output_type": "execute_result"
    }
   ],
   "source": [
    "NovaAsheville = [\"#VillanovavsAsheville\" ,\n",
    "                 \"#Villanova\", \"#Nova\" ,\"#NovaMBB\",\n",
    "                 \"#NovaNation\", \"#LetsMarchNova\" ,\"#OurTownOurTeam\",\n",
    "                 \"#Bulldogs\" ,\"#Cinderella\", \"#UNCAsheville\", \"#Asheville\"]\n",
    "outfile = 'separated/VillanovaAsheville.csv'\n",
    "filtertweets(infile,outfile,NovaAsheville)"
   ]
  },
  {
   "cell_type": "code",
   "execution_count": 19,
   "metadata": {
    "collapsed": false
   },
   "outputs": [
    {
     "data": {
      "text/plain": [
       "True"
      ]
     },
     "execution_count": 19,
     "metadata": {},
     "output_type": "execute_result"
    }
   ],
   "source": [
    "OregonVCU = [\"#OregonStatevsVCU\", \"#Rams\", \"#Beavers\" ,\n",
    "                \"#LetsGoVCU\", \"#VCU\" ,\"#OregonState\", \n",
    "                \"#oregonstatebasketball\", \"#BeaverNation\" ,\"#GoBeavs\"]\n",
    "outfile = 'separated/OregonStateVCU.csv'\n",
    "filtertweets(infile,outfile,OregonVCU)"
   ]
  },
  {
   "cell_type": "code",
   "execution_count": 20,
   "metadata": {
    "collapsed": false
   },
   "outputs": [
    {
     "data": {
      "text/plain": [
       "True"
      ]
     },
     "execution_count": 20,
     "metadata": {},
     "output_type": "execute_result"
    }
   ],
   "source": [
    "CalHawaii = [\"#CalvsHawaii\" ,\"#Cal\", \"#LetsDance\" ,\"#GoldenBears\",\n",
    "                \"#RainbowWarriors\", \"#Hawaii\" ,\"#GoBears\",\n",
    "                \"#CalFamily\", \"#HawaiiMBB\" ,\"#RoadWarriors\" ,\"#GoBows\"]\n",
    "outfile= 'separated/CalHawaii.csv'\n",
    "filtertweets(infile,outfile,CalHawaii)"
   ]
  },
  {
   "cell_type": "code",
   "execution_count": 23,
   "metadata": {
    "collapsed": false
   },
   "outputs": [
    {
     "data": {
      "text/plain": [
       "True"
      ]
     },
     "execution_count": 23,
     "metadata": {},
     "output_type": "execute_result"
    }
   ],
   "source": [
    "msumtsutags = '#MSUvsMTSU #MSU #MichiganState \\\n",
    "    #MiddleTennesseeState #MTSU \\\n",
    "    #BlueRaiders #DancingRaiders #Spartans #GoGreen #GoWhite'.split()\n",
    "outfile = 'separated/MichStateMiddTenn.csv'\n",
    "filtertweets(infile,outfile,msumtsutags)"
   ]
  },
  {
   "cell_type": "code",
   "execution_count": 27,
   "metadata": {
    "collapsed": false
   },
   "outputs": [
    {
     "data": {
      "text/plain": [
       "True"
      ]
     },
     "execution_count": 27,
     "metadata": {},
     "output_type": "execute_result"
    }
   ],
   "source": [
    "iowatempletags = '#IowavsTemple #Hawkeyes\\\n",
    "                    #Iowa #Temple #Owls #BeatIowa #TUMBB'.split()\n",
    "outfile = 'separated/IowaTemple.csv'\n",
    "filtertweets(infile, outfile, iowatempletags)"
   ]
  },
  {
   "cell_type": "code",
   "execution_count": 44,
   "metadata": {
    "collapsed": false
   },
   "outputs": [
    {
     "data": {
      "text/plain": [
       "True"
      ]
     },
     "execution_count": 44,
     "metadata": {},
     "output_type": "execute_result"
    }
   ],
   "source": [
    "OkCSU = \"#OklahomavsCSU #Oklahoma #OU #Sooners\\\n",
    "        #CSUB #OUvsCSUB #BuddyBuckets #CSUBelieve\\\n",
    "        #AllRunners\".split()\n",
    "outfile = 'separated/OklaCSU.csv'\n",
    "filtertweets(infile,outfile,OkCSU)"
   ]
  },
  {
   "cell_type": "code",
   "execution_count": 30,
   "metadata": {
    "collapsed": false
   },
   "outputs": [
    {
     "data": {
      "text/plain": [
       "True"
      ]
     },
     "execution_count": 30,
     "metadata": {},
     "output_type": "execute_result"
    }
   ],
   "source": [
    "mdsdsu = '#MarylandvsSDSU #WeWill\\\n",
    "            #Maryland #Terrapins #SDSU\\\n",
    "            #Jackrabbits #MarchTogether'.split()\n",
    "outfile = 'separated/MarylandSDSU.csv'\n",
    "filtertweets(infile,outfile,mdsdsu)"
   ]
  },
  {
   "cell_type": "code",
   "execution_count": 32,
   "metadata": {
    "collapsed": false
   },
   "outputs": [
    {
     "data": {
      "text/plain": [
       "True"
      ]
     },
     "execution_count": 32,
     "metadata": {},
     "output_type": "execute_result"
    }
   ],
   "source": [
    "wiscopitt = '#WisconsinvsPittsburgh #Badgers\\\n",
    "                #Panthers #Wisconsin #Pittsburgh\\\n",
    "                #MakeEmBelieve #Fieldof64\\\n",
    "                #WisconsinBasketball #H2P'.split()\n",
    "outfile='separated/WiscoPit.csv'\n",
    "filtertweets(infile,outfile,wiscopitt)"
   ]
  },
  {
   "cell_type": "code",
   "execution_count": 35,
   "metadata": {
    "collapsed": false
   },
   "outputs": [
    {
     "data": {
      "text/plain": [
       "True"
      ]
     },
     "execution_count": 35,
     "metadata": {},
     "output_type": "execute_result"
    }
   ],
   "source": [
    "WVUSFA = '#WVUvsSFA #WestVirginia #WVU #HailWV #PressVirginia\\\n",
    "#Mountaineers #Lumberjacks #SFA #AxeEm'.split()\n",
    "outfile = 'separated/WvuSFA.csv'\n",
    "filtertweets(infile,outfile,WVUSFA)"
   ]
  },
  {
   "cell_type": "code",
   "execution_count": 36,
   "metadata": {
    "collapsed": false
   },
   "outputs": [
    {
     "data": {
      "text/plain": [
       "True"
      ]
     },
     "execution_count": 36,
     "metadata": {},
     "output_type": "execute_result"
    }
   ],
   "source": [
    "aggies = '#A&MvGreenBay #TexasA&M #Aggies #Gigem\\\n",
    "            #TAMU #12thMan #SFA #AggieHoops #RP40 #HLMBB \\\n",
    "            #ContinueTheRise #GreenBay'.split()\n",
    "outfile = 'separated/TexasGB.csv'\n",
    "filtertweets(infile,outfile,aggies)"
   ]
  },
  {
   "cell_type": "code",
   "execution_count": 37,
   "metadata": {
    "collapsed": false
   },
   "outputs": [
    {
     "data": {
      "text/plain": [
       "True"
      ]
     },
     "execution_count": 37,
     "metadata": {},
     "output_type": "execute_result"
    }
   ],
   "source": [
    "oregonHC = '#OregonvsHolyCross #Oregon #Ducks\\\n",
    "            #GoDucks #HolyCross #Crusaders #RiseTogether'.split()\n",
    "outfile = 'separated/OregonHC.csv'\n",
    "filtertweets(infile,outfile,oregonHC)"
   ]
  },
  {
   "cell_type": "code",
   "execution_count": 39,
   "metadata": {
    "collapsed": false
   },
   "outputs": [
    {
     "data": {
      "text/plain": [
       "True"
      ]
     },
     "execution_count": 39,
     "metadata": {},
     "output_type": "execute_result"
    }
   ],
   "source": [
    "xavierWeb = '#XaviervsWeberState #Xavier #Musketeers \\\n",
    "                    #LetsGoX #LetsMarch #Wildcats\\\n",
    "                    #WeberState #WeAreWeber #BigSkyMBB'.split()\n",
    "outfile='separated/XavierWeberState.csv'\n",
    "filtertweets(infile,outfile,xavierWeb)"
   ]
  },
  {
   "cell_type": "code",
   "execution_count": 40,
   "metadata": {
    "collapsed": false
   },
   "outputs": [
    {
     "data": {
      "text/plain": [
       "True"
      ]
     },
     "execution_count": 40,
     "metadata": {},
     "output_type": "execute_result"
    }
   ],
   "source": [
    "ndMich = '#NotreDamevsMichigan #NotreDame\\\n",
    "            #Michigan #UMich #NotDoneYet #FightingIrish\\\n",
    "            #Wolverines #Squad100 #GoBlue'.split()\n",
    "outfile='separated/NDMichigan.csv'\n",
    "filtertweets(infile,outfile,ndMich)"
   ]
  },
  {
   "cell_type": "code",
   "execution_count": 41,
   "metadata": {
    "collapsed": false
   },
   "outputs": [
    {
     "data": {
      "text/plain": [
       "True"
      ]
     },
     "execution_count": 41,
     "metadata": {},
     "output_type": "execute_result"
    }
   ],
   "source": [
    "texNI = '#TexasvsNorthernIowa #UT #NorthernIowa #Longhorns\\\n",
    "            #HookEm #Horns #Panthers #PantherNation\\\n",
    "            #UNI #UTvsUNI #UNIFight'.split()\n",
    "outfile='separated/TexasNorthernIowa.csv'\n",
    "filtertweets(infile,outfile,texNI)"
   ]
  },
  {
   "cell_type": "code",
   "execution_count": 43,
   "metadata": {
    "collapsed": false,
    "scrolled": true
   },
   "outputs": [
    {
     "data": {
      "text/plain": [
       "True"
      ]
     },
     "execution_count": 43,
     "metadata": {},
     "output_type": "execute_result"
    }
   ],
   "source": [
    "stJoeCinc = '#StJoesvsCincy #Cincinnati #Cincy #StJoes\\\n",
    "                #Hawks #BearCats #Dancin6\\\n",
    "                #StJosephs #THWND'.split()\n",
    "outfile='separated/StJosephsCincinnati.csv'\n",
    "filtertweets(infile,outfile,stJoeCinc)"
   ]
  },
  {
   "cell_type": "markdown",
   "metadata": {},
   "source": [
    "Conversions for 3/20 "
   ]
  },
  {
   "cell_type": "code",
   "execution_count": 45,
   "metadata": {
    "collapsed": true
   },
   "outputs": [],
   "source": [
    "infile = 'converted/sunday3-20.csv'"
   ]
  },
  {
   "cell_type": "code",
   "execution_count": 48,
   "metadata": {
    "collapsed": false
   },
   "outputs": [
    {
     "data": {
      "text/plain": [
       "True"
      ]
     },
     "execution_count": 48,
     "metadata": {},
     "output_type": "execute_result"
    }
   ],
   "source": [
    "ianova = '#IowavsVillanova #Hawkeyes #Iowa #Villanova\\\n",
    "        #Nova #NovaMBB #NovaNation #LetsMarchNova'.split()\n",
    "outfile = 'separated/IowaVillanova.csv'\n",
    "filtertweets(infile,outfile,ianova)"
   ]
  },
  {
   "cell_type": "code",
   "execution_count": 49,
   "metadata": {
    "collapsed": false
   },
   "outputs": [
    {
     "data": {
      "text/plain": [
       "True"
      ]
     },
     "execution_count": 49,
     "metadata": {},
     "output_type": "execute_result"
    }
   ],
   "source": [
    "NdSfa = ' #NotreDamevsSFA #Lumberjacks #SFA\\\n",
    "        #AxeEm #NotreDamevsMichigan \\\n",
    "        #NotreDame #NotDoneYet'.split()\n",
    "outfile = 'separated/ndfsa.csv'\n",
    "filtertweets(infile,outfile,NdSfa)"
   ]
  },
  {
   "cell_type": "code",
   "execution_count": 50,
   "metadata": {
    "collapsed": false
   },
   "outputs": [
    {
     "data": {
      "text/plain": [
       "True"
      ]
     },
     "execution_count": 50,
     "metadata": {},
     "output_type": "execute_result"
    }
   ],
   "source": [
    "vcuok = '#VCUvsOklahoma #Oklahoma #OU #Sooners\\\n",
    "            #BuddyBuckets #Rams\\\n",
    "            #LetsGoVCU #VCU'.split()\n",
    "outfile = 'separated/vcuok.csv'\n",
    "filtertweets(infile,outfile,vcuok)"
   ]
  },
  {
   "cell_type": "code",
   "execution_count": 51,
   "metadata": {
    "collapsed": false
   },
   "outputs": [
    {
     "data": {
      "text/plain": [
       "True"
      ]
     },
     "execution_count": 51,
     "metadata": {},
     "output_type": "execute_result"
    }
   ],
   "source": [
    "cusemtsu = '#SyracusevsMTSU #MiddleTennesseeState #MTSU #BlueRaiders #DancingRaiders #Syracuse #OrangeCrush #CuseMode'.split()\n",
    "outfile = 'separated/SyracuseMTSU.csv'\n",
    "filtertweets(infile,outfile,cusemtsu)"
   ]
  },
  {
   "cell_type": "code",
   "execution_count": 53,
   "metadata": {
    "collapsed": false
   },
   "outputs": [
    {
     "data": {
      "text/plain": [
       "True"
      ]
     },
     "execution_count": 53,
     "metadata": {},
     "output_type": "execute_result"
    }
   ],
   "source": [
    "mdhawaii = '#MarylandvsHawaii #WeWill #Maryland #Terrapins\\\n",
    "#RainbowWarriors #Hawaii #HawaiiMBB #RoadWarriors #GoBows'.split()\n",
    "\n",
    "outfile = 'separated/MdHawaii.csv'\n",
    "filtertweets(infile,outfile,mdhawaii)"
   ]
  },
  {
   "cell_type": "code",
   "execution_count": 54,
   "metadata": {
    "collapsed": false
   },
   "outputs": [
    {
     "data": {
      "text/plain": [
       "True"
      ]
     },
     "execution_count": 54,
     "metadata": {},
     "output_type": "execute_result"
    }
   ],
   "source": [
    "unitex = '#UNIvsTAMU #TexasA&M #Aggies #Gigem #TAMU #12thMan #SFA #AggieHoops #Panthers #PantherNation #UNI #NorthernIowa #UNIFight'.split()\n",
    "outfile = \"separated/UniTexas.csv\"\n",
    "filtertweets(infile,outfile,unitex)"
   ]
  },
  {
   "cell_type": "code",
   "execution_count": 55,
   "metadata": {
    "collapsed": false
   },
   "outputs": [
    {
     "data": {
      "text/plain": [
       "True"
      ]
     },
     "execution_count": 55,
     "metadata": {},
     "output_type": "execute_result"
    }
   ],
   "source": [
    "wiscoxav = ' #WisconsinvsXavier  #Fieldof64 #WisconsinBasketball \\\n",
    "#H2P #Wisconsin #Badgers  #Xavier #Musketeers #LetsGoX #LetsMarch'.split()\n",
    "outfile = 'separated/WisconsonXavier.csv'\n",
    "filtertweets(infile,outfile,wiscoxav)"
   ]
  },
  {
   "cell_type": "code",
   "execution_count": 56,
   "metadata": {
    "collapsed": false
   },
   "outputs": [
    {
     "data": {
      "text/plain": [
       "True"
      ]
     },
     "execution_count": 56,
     "metadata": {},
     "output_type": "execute_result"
    }
   ],
   "source": [
    "oregonstj = ' #OregonvsStJoes #Oregon #Ducks #GoDucks #StJosephs\\\n",
    "                #THWND #StJoes #Hawks'.split()\n",
    "outfile = 'separated/OregonStJoes.csv'\n",
    "filtertweets(infile,outfile,oregonstj)"
   ]
  },
  {
   "cell_type": "markdown",
   "metadata": {},
   "source": [
    "Games from Thursday 3/24"
   ]
  },
  {
   "cell_type": "code",
   "execution_count": 57,
   "metadata": {
    "collapsed": true
   },
   "outputs": [],
   "source": [
    "infile = 'converted/thursday3-24.csv'"
   ]
  },
  {
   "cell_type": "code",
   "execution_count": 59,
   "metadata": {
    "collapsed": false
   },
   "outputs": [
    {
     "data": {
      "text/plain": [
       "True"
      ]
     },
     "execution_count": 59,
     "metadata": {},
     "output_type": "execute_result"
    }
   ],
   "source": [
    "MiamiNova = '#MiamivsVillanova #Miami #Villanova #Nova #NovaMBB\\\n",
    "            #NovaNation #LetsMarchNova #GoCanes\\\n",
    "            #Hurricanes'.split()\n",
    "outfile = 'separated/MiamiNova.csv'\n",
    "filtertweets(infile, outfile, MiamiNova)"
   ]
  },
  {
   "cell_type": "code",
   "execution_count": 60,
   "metadata": {
    "collapsed": false
   },
   "outputs": [
    {
     "data": {
      "text/plain": [
       "True"
      ]
     },
     "execution_count": 60,
     "metadata": {},
     "output_type": "execute_result"
    }
   ],
   "source": [
    "TexAMOkla = '#TAMUvsOU #TexasA&MvsOU #Oklahoma #TexasA&M #Oklahoma \\\n",
    "            #OU #Sooners  #BuddyBuckets #TexasA&M\\\n",
    "            #Aggies #Gigem #TAMU #12thMan #AggieHoops'.split()\n",
    "outfile = 'separated/TexAMOkla.csv'\n",
    "filtertweets(infile,outfile,TexAMOkla)"
   ]
  },
  {
   "cell_type": "code",
   "execution_count": 61,
   "metadata": {
    "collapsed": false
   },
   "outputs": [
    {
     "data": {
      "text/plain": [
       "True"
      ]
     },
     "execution_count": 61,
     "metadata": {},
     "output_type": "execute_result"
    }
   ],
   "source": [
    "MDKan = '#MarylandvsKansas #MarylandvsKU #Maryland \\\n",
    "        #Kansas #KU #WeWill #Maryland #Terrapins #Jayhawks\\\n",
    "        #kubball #Kansas #RockChalk'.split()\n",
    "outfile = 'separated/MDKansas.csv'\n",
    "filtertweets(infile,outfile,MDKan)"
   ]
  },
  {
   "cell_type": "code",
   "execution_count": 62,
   "metadata": {
    "collapsed": false
   },
   "outputs": [
    {
     "data": {
      "text/plain": [
       "True"
      ]
     },
     "execution_count": 62,
     "metadata": {},
     "output_type": "execute_result"
    }
   ],
   "source": [
    "DukeOregon = '#DukevsOregon #Duke #BlueDevils #GoDuke\\\n",
    "            #Oregon #Ducks #GoDucks'.split()\n",
    "outfile = 'separated/DukeOregon.csv'\n",
    "filtertweets(infile,outfile,DukeOregon)"
   ]
  },
  {
   "cell_type": "markdown",
   "metadata": {},
   "source": [
    "Separations for Friday 3/25 (2 games)"
   ]
  },
  {
   "cell_type": "code",
   "execution_count": 63,
   "metadata": {
    "collapsed": true
   },
   "outputs": [],
   "source": [
    "infile = 'converted/friday25.csv'"
   ]
  },
  {
   "cell_type": "code",
   "execution_count": 65,
   "metadata": {
    "collapsed": false
   },
   "outputs": [
    {
     "data": {
      "text/plain": [
       "True"
      ]
     },
     "execution_count": 65,
     "metadata": {},
     "output_type": "execute_result"
    }
   ],
   "source": [
    "ZagaCuse = '#GonzagavsSyracuse #Zags #Gonzaga #GoZags\\\n",
    "            #UnitedWeZag #zagup #Syracuse #Syracuse \\\n",
    "            #OrangeCrush #CuseMode'.split()\n",
    "outfile = 'separated/GonzagaSyracuse.csv'\n",
    "filtertweets(infile,outfile,ZagaCuse)"
   ]
  },
  {
   "cell_type": "code",
   "execution_count": 66,
   "metadata": {
    "collapsed": false
   },
   "outputs": [
    {
     "data": {
      "text/plain": [
       "True"
      ]
     },
     "execution_count": 66,
     "metadata": {},
     "output_type": "execute_result"
    }
   ],
   "source": [
    "InDUNC = '#IUvsUNC #IndianavsUNC #Indiana #UNC\\\n",
    "            #Hoosiers #IU #ForIndiana #iubb #TarHeels\\\n",
    "            #HeelsLockIn #UNCBBall'.split()\n",
    "outfile = 'separated/IndianaUnc.csv'\n",
    "filtertweets(infile,outfile,InDUNC)"
   ]
  },
  {
   "cell_type": "markdown",
   "metadata": {},
   "source": [
    "Separation for Saturday 3/26"
   ]
  },
  {
   "cell_type": "code",
   "execution_count": 67,
   "metadata": {
    "collapsed": true
   },
   "outputs": [],
   "source": [
    "infile = 'converted/saturday3-26.csv'"
   ]
  },
  {
   "cell_type": "code",
   "execution_count": 69,
   "metadata": {
    "collapsed": false
   },
   "outputs": [
    {
     "data": {
      "text/plain": [
       "True"
      ]
     },
     "execution_count": 69,
     "metadata": {},
     "output_type": "execute_result"
    }
   ],
   "source": [
    "OROK = '#OregonvsOklahoma #Oregon #Ducks #GoDucks #Oklahoma\\\n",
    "        #Oklahoma #OU #Sooners  #BuddyBuckets'.split()\n",
    "outfile = 'separated/OregonOkla.csv'\n",
    "filtertweets(infile,outfile,OROK)"
   ]
  },
  {
   "cell_type": "code",
   "execution_count": 71,
   "metadata": {
    "collapsed": false
   },
   "outputs": [
    {
     "data": {
      "text/plain": [
       "True"
      ]
     },
     "execution_count": 71,
     "metadata": {},
     "output_type": "execute_result"
    }
   ],
   "source": [
    "KansasVill = '#KansasvsVillanova #Villanova #Nova\\\n",
    "                #NovaMBB #NovaNation\\\n",
    "                #LetsMarchNova #Jayhawks #kubball #Kansas\\\n",
    "                #RockChalk #Kansas #KU'.split()\n",
    "outfile = 'separated/KansasVillanova.csv'\n",
    "filtertweets(infile,outfile,KansasVill)"
   ]
  },
  {
   "cell_type": "markdown",
   "metadata": {},
   "source": [
    "Separation for Sunday 3/27"
   ]
  },
  {
   "cell_type": "code",
   "execution_count": 76,
   "metadata": {
    "collapsed": true
   },
   "outputs": [],
   "source": [
    "infile = 'converted/sunday27.csv'"
   ]
  },
  {
   "cell_type": "code",
   "execution_count": 77,
   "metadata": {
    "collapsed": false
   },
   "outputs": [
    {
     "data": {
      "text/plain": [
       "True"
      ]
     },
     "execution_count": 77,
     "metadata": {},
     "output_type": "execute_result"
    }
   ],
   "source": [
    "UVAcuse = '#SyracusevsVirginia #Syracuse #Syracuse #OrangeCrush\\\n",
    "            #CuseMode #Virginia #UVA #GoHoos #Cavaliers'.split()\n",
    "outfile = 'separated/UVAcuse'\n",
    "filtertweets(infile,outfile,UVAcuse)"
   ]
  },
  {
   "cell_type": "code",
   "execution_count": 78,
   "metadata": {
    "collapsed": false
   },
   "outputs": [
    {
     "data": {
      "text/plain": [
       "True"
      ]
     },
     "execution_count": 78,
     "metadata": {},
     "output_type": "execute_result"
    }
   ],
   "source": [
    "UNCND = '#UNCvsND #UNCvsNotreDame #UNC #TarHeels #HeelsLockIn\\\n",
    "        #UNCBBall #NotreDame #NotDoneYet'.split()\n",
    "outfile = 'separated/UncND.csv'\n",
    "filtertweets(infile,outfile,UNCND)"
   ]
  },
  {
   "cell_type": "code",
   "execution_count": null,
   "metadata": {
    "collapsed": true
   },
   "outputs": [],
   "source": []
  }
 ],
 "metadata": {
  "kernelspec": {
   "display_name": "Python 2",
   "language": "python",
   "name": "python2"
  },
  "language_info": {
   "codemirror_mode": {
    "name": "ipython",
    "version": 2
   },
   "file_extension": ".py",
   "mimetype": "text/x-python",
   "name": "python",
   "nbconvert_exporter": "python",
   "pygments_lexer": "ipython2",
   "version": "2.7.11"
  }
 },
 "nbformat": 4,
 "nbformat_minor": 0
}

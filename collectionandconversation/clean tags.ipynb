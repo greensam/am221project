{
 "cells": [
  {
   "cell_type": "code",
   "execution_count": 1,
   "metadata": {
    "collapsed": true
   },
   "outputs": [],
   "source": [
    "import os\n",
    "import csv"
   ]
  },
  {
   "cell_type": "code",
   "execution_count": 2,
   "metadata": {
    "collapsed": false
   },
   "outputs": [
    {
     "name": "stdout",
     "output_type": "stream",
     "text": [
      "[\"'#GonzagavsSyracuse'\", \"'#Zags'\", \"'#Gonzaga'\", \"'#GoZags'\", \"'#UnitedWeZag'\", \"'#zagup'\", \"'#Syracuse'\", \"'#Syracuse'\", \"'#OrangeCrush'\", \"'#CuseMode'\", \"'#IUvsUNC'\", \"'#IndianavsUNC'\", \"'#Indiana'\", \"'#UNC'\", \"''\", \"'#Hoosiers'\", \"'#IU'\", \"'#ForIndiana'\", \"'#iubb'\", \"'#TarHeels'\", \"'#HeelsLockIn'\", \"'#UNCBBall'\"]\n"
     ]
    }
   ],
   "source": [
    "lines = []\n",
    "with open(\"friday25.csv\") as f:\n",
    "    reader = csv.reader(f, delimiter=\" \")\n",
    "    for line in reader:\n",
    "        line = [\"\\'\" + word + \"\\'\" for word in line ]\n",
    "        lines = lines + line\n",
    "print lines\n",
    "with open(\"cleantags.csv\", \"w\") as f:\n",
    "    w = csv.writer(f)\n",
    "    w.writerow(lines)"
   ]
  },
  {
   "cell_type": "code",
   "execution_count": null,
   "metadata": {
    "collapsed": true
   },
   "outputs": [],
   "source": []
  }
 ],
 "metadata": {
  "kernelspec": {
   "display_name": "Python 2",
   "language": "python",
   "name": "python2"
  },
  "language_info": {
   "codemirror_mode": {
    "name": "ipython",
    "version": 2
   },
   "file_extension": ".py",
   "mimetype": "text/x-python",
   "name": "python",
   "nbconvert_exporter": "python",
   "pygments_lexer": "ipython2",
   "version": "2.7.11"
  }
 },
 "nbformat": 4,
 "nbformat_minor": 0
}

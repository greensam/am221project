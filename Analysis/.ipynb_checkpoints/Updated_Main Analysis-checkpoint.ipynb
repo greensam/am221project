{
 "cells": [
  {
   "cell_type": "code",
   "execution_count": 154,
   "metadata": {
    "collapsed": false
   },
   "outputs": [],
   "source": [
    "%matplotlib inline \n",
    "\n",
    "import requests\n",
    "from bs4 import BeautifulSoup\n",
    "from bs4 import NavigableString\n",
    "import pandas as pd\n",
    "import StringIO\n",
    "import urllib\n",
    "from datetime import date, datetime, timedelta\n",
    "import itertools\n",
    "import matplotlib.pyplot as plt\n",
    "import numpy as np\n",
    "import matplotlib.patches as mpatches\n",
    "from scipy.stats.stats import pearsonr, describe\n",
    "import math\n",
    "import sys\n",
    "from sentiment import Classifier\n",
    "import pytz\n",
    "import ggplot\n",
    "\n",
    "from sklearn.linear_model import LogisticRegression\n",
    "from sklearn.cross_validation import train_test_split\n",
    "from sklearn import metrics\n",
    "from sklearn.cross_validation import cross_val_score\n",
    "\n",
    "import pytz\n",
    "from dateutil import parser\n",
    "from scipy import stats\n",
    "\n",
    "plt.style.use('ggplot')"
   ]
  },
  {
   "cell_type": "code",
   "execution_count": 10,
   "metadata": {
    "collapsed": false
   },
   "outputs": [
    {
     "name": "stdout",
     "output_type": "stream",
     "text": [
      "Tweet 1000 of 4491\n",
      "\n",
      "Tweet 2000 of 4491\n",
      "\n",
      "Tweet 3000 of 4491\n",
      "\n",
      "Tweet 4000 of 4491\n",
      "\n"
     ]
    },
    {
     "name": "stderr",
     "output_type": "stream",
     "text": [
      "/usr/local/lib/python2.7/site-packages/bs4/__init__.py:166: UserWarning: No parser was explicitly specified, so I'm using the best available HTML parser for this system (\"html.parser\"). This usually isn't a problem, but if you run this code on another system, or in a different virtual environment, it may use a different parser and behave differently.\n",
      "\n",
      "To get rid of this warning, change this:\n",
      "\n",
      " BeautifulSoup([your markup])\n",
      "\n",
      "to this:\n",
      "\n",
      " BeautifulSoup([your markup], \"html.parser\")\n",
      "\n",
      "  markup_type=markup_type))\n"
     ]
    }
   ],
   "source": [
    "classifier = Classifier()"
   ]
  },
  {
   "cell_type": "code",
   "execution_count": 11,
   "metadata": {
    "collapsed": true
   },
   "outputs": [],
   "source": [
    "# Simple lambda function\n",
    "def split(x, num):\n",
    "    return int(x.split('-')[num])\n",
    "\n",
    "# Write a function that scrapes the team trend graph for each game\n",
    "def ncaatrendgraph(gameid):\n",
    "\n",
    "    # Scrape the reference team page\n",
    "    url = 'http://espn.go.com/mens-college-basketball/playbyplay?gameId=' + str(gameid)\n",
    "    html = urllib.urlopen(url)\n",
    "    soup = BeautifulSoup(html, \"html.parser\") \n",
    "\n",
    "    # Identify which team is which from the basic page\n",
    "    teams = soup.find_all('div', {'class', \"team-container\"})\n",
    "\n",
    "    away = str(teams[0].find('span', {'class', 'long-name'}).contents[0]).split(';')[0]\n",
    "    home = str(teams[1].find('span', {'class', 'long-name'}).contents[0]).split(';')[0]\n",
    "\n",
    "    # # Run through the table and get all the relevant events from that quarter\n",
    "    qes = []\n",
    "    tps = len(soup.find_all('table'))-1\n",
    "    for num in range(1,tps):\n",
    "        for item in soup.find_all('table')[num].find_all('tr')[1:]:\n",
    "            event = []\n",
    "            for td in item.find_all('td'):\n",
    "                if len(td.contents) > 0:\n",
    "                    if 'img' in str(td.contents[0]):\n",
    "                        event.append(str(td.contents[0]['src']).split('/')[-1].split('.')[0].upper())\n",
    "                    else:\n",
    "                        if ':' in str(td.contents[0]):\n",
    "                            if num > 2:\n",
    "                                minutes = 4-int(td.contents[0].split(':')[0]) + 40 + ((num-3)*5)\n",
    "                            else:\n",
    "                                minutes = 19-int(td.contents[0].split(':')[0]) +((num-1)*20)\n",
    "                            seconds = 60-int(td.contents[0].split(':')[1])\n",
    "\n",
    "                            # Make an adjustment for exact minute calculations\n",
    "                            if seconds == 60:\n",
    "                                minutes = minutes + 1\n",
    "                                seconds = 0\n",
    "\n",
    "                            event.append(minutes)\n",
    "                            event.append(seconds)\n",
    "                        else:\n",
    "                            event.append(str(td.contents[0]))\n",
    "            qes.append(event)\n",
    "\n",
    "    # Make this data into a Dataframe\n",
    "    bsd = pd.DataFrame(qes, columns = ['Minutes', 'Seconds', 'Team', 'Event', 'Score'])\n",
    "    bsd[away] = bsd['Score'].apply(lambda x: split(x, 0))\n",
    "    bsd[home] = bsd['Score'].apply(lambda x: split(x, 1))\n",
    "    bsd = bsd.drop('Score', 1)\n",
    "\n",
    "    # # Write a quick function converting the minutes and seconds to a percentage\n",
    "    if (tps) == 3:\n",
    "        numminutes = 40\n",
    "    else:\n",
    "        numminutes = 40 + 5*(tps-3)\n",
    "    lengame = numminutes*60.0\n",
    "    bsd['PercDone'] = [float(100*round((mins*60+sec)/lengame,4)) for (mins, sec) in zip(bsd['Minutes'], bsd['Seconds'])]\n",
    "    return bsd"
   ]
  },
  {
   "cell_type": "code",
   "execution_count": 12,
   "metadata": {
    "collapsed": false
   },
   "outputs": [],
   "source": [
    "# Write a function that processes the events that happen during this period\n",
    "\"\"\"\n",
    "Gamedata: The dataframe containing all the data above\n",
    "Start: The time at which you'd like to start looking (%H:%M, ex. 7:20 (EST))\n",
    "Finish: The time at which you'd like to stop looking (see above)\n",
    "\"\"\"\n",
    "def gamevents(gamedata, start, finish, begin, end):\n",
    "    start_conv = datetime.strptime(start, '%H:%M')\n",
    "    finish_conv = datetime.strptime(finish, '%H:%M')\n",
    "        \n",
    "    # Make quick sanity checks\n",
    "    if start_conv < begin:\n",
    "        start_conv = begin\n",
    "    if finish_conv > end:\n",
    "        finish_conv = end\n",
    "    # Check where each event is in relation to halftime\n",
    "    sloc, endloc = 0, 0\n",
    "    lenhalf = 20*60\n",
    "    htbegin = begin + timedelta(0, (end-begin).seconds/2 - lenhalf/2)\n",
    "    htend = begin + timedelta(0,(end-begin).seconds/2 + lenhalf/2)\n",
    "    if start_conv > htend:\n",
    "        sloc = 1\n",
    "    if finish_conv > htend:\n",
    "        endloc = 1\n",
    "        \n",
    "    # Assume for now that both are on the same side of halftime\n",
    "    if endloc == 0:\n",
    "        ttb1, ttb2 = (start_conv - begin).seconds, (finish_conv - begin).seconds\n",
    "        perc1, perc2 = round(100*(1.0*ttb1)/(2*(htbegin-begin).seconds),2), round(100*(1.0*ttb2)/(2*(htbegin-begin).seconds),2)\n",
    "    elif endloc == 1:\n",
    "        ttb1, ttb2 = (start_conv - htend).seconds, (finish_conv - htend).seconds\n",
    "        perc1, perc2 = round(100*(1.0*ttb1)/(end-htend).seconds,2)+50, round(100*(1.0*ttb2)/(end-htend).seconds,2)+50\n",
    "    \n",
    "    # Grab the data from the gamedata\n",
    "    return gamedata[(gamedata['PercDone'] > perc1) & (gamedata['PercDone'] < perc2)]"
   ]
  },
  {
   "cell_type": "code",
   "execution_count": 260,
   "metadata": {
    "collapsed": false,
    "scrolled": false
   },
   "outputs": [],
   "source": [
    "gp1, gp2, tp1, tp2 = \"Syracuse\", \"Virginia\", \"18:09\", \"20:14\"\n",
    "gmdat = pd.read_csv(\"GameMetadata.csv\")\n",
    "metadat = gmdat[((gmdat['Team1'] == gp1) | (gmdat['Team1'] == gp2)) & ((gmdat['Team2'] == gp1) | (gmdat['Team2'] == gp2))]\n",
    "eid = int(metadat['espn_id'].iloc[0])\n",
    "begin, end = datetime.strptime(metadat['Start'].iloc[0], '%H:%M'), datetime.strptime(metadat['End'].iloc[0], '%H:%M')\n",
    "lenhalf = 20*60\n",
    "\n",
    "# Grab the game data for the time period\n",
    "dt1 = ncaatrendgraph(eid) # Usually gdata\n",
    "#     dt1 = gamevents(gdata, tp1, tp2, begin, end)\n",
    "\n",
    "# Grab the relevant data from the twitter file\n",
    "fname = metadat['Filename'].iloc[0]\n",
    "tweets =  pd.read_csv(fname)\n",
    "tweets['time_chg'] = tweets['time'].apply(lambda x: x.split(' ')[3])\n",
    "\n",
    "indices = []\n",
    "for num in range(0, len(tweets['time_chg'])):\n",
    "    tweetstamp = datetime.strptime(tweets['time_chg'].iloc[num], \"%H:%M:%S\") - timedelta(hours=4)\n",
    "    \n",
    "    if tweetstamp.hour >= 20:\n",
    "        tweetstamp = tweetstamp + timedelta(days=1)\n",
    "    \n",
    "    if (tweetstamp > begin) and (tweetstamp < end):\n",
    "        indices.append(num)\n",
    "#         if (tweetstamp > datetime.strptime(tp1, '%H:%M')) and (tweetstamp < datetime.strptime(tp2, '%H:%M')):\n",
    "#             indices.append(num)\n",
    "dt2 = tweets[tweets.index.isin(indices)]"
   ]
  },
  {
   "cell_type": "code",
   "execution_count": 261,
   "metadata": {
    "collapsed": false
   },
   "outputs": [
    {
     "data": {
      "text/html": [
       "<div>\n",
       "<table border=\"1\" class=\"dataframe\">\n",
       "  <thead>\n",
       "    <tr style=\"text-align: right;\">\n",
       "      <th></th>\n",
       "      <th>text</th>\n",
       "      <th>time</th>\n",
       "      <th>time_chg</th>\n",
       "    </tr>\n",
       "  </thead>\n",
       "  <tbody>\n",
       "    <tr>\n",
       "      <th>1957</th>\n",
       "      <td>RT @Cuse_MBB: The Orange starting 5\\r\\n#CuseMo...</td>\n",
       "      <td>Sun Mar 27 22:09:02 +0000 2016</td>\n",
       "      <td>22:09:02</td>\n",
       "    </tr>\n",
       "    <tr>\n",
       "      <th>1958</th>\n",
       "      <td>RT @Cuse_MBB: The Orange starting 5\\r\\n#CuseMo...</td>\n",
       "      <td>Sun Mar 27 22:09:04 +0000 2016</td>\n",
       "      <td>22:09:04</td>\n",
       "    </tr>\n",
       "    <tr>\n",
       "      <th>1959</th>\n",
       "      <td>RT @Cuse_MBB: The Orange starting 5\\r\\n#CuseMo...</td>\n",
       "      <td>Sun Mar 27 22:09:08 +0000 2016</td>\n",
       "      <td>22:09:08</td>\n",
       "    </tr>\n",
       "    <tr>\n",
       "      <th>1960</th>\n",
       "      <td>RT @Cuse_MBB: Here come the Orange!\\r\\n🍊🏀 #C...</td>\n",
       "      <td>Sun Mar 27 22:09:08 +0000 2016</td>\n",
       "      <td>22:09:08</td>\n",
       "    </tr>\n",
       "    <tr>\n",
       "      <th>1961</th>\n",
       "      <td>Syracuse fans vs. Doug Gottlieb: A play in one...</td>\n",
       "      <td>Sun Mar 27 22:09:08 +0000 2016</td>\n",
       "      <td>22:09:08</td>\n",
       "    </tr>\n",
       "    <tr>\n",
       "      <th>1962</th>\n",
       "      <td>#CuseMode</td>\n",
       "      <td>Sun Mar 27 22:09:09 +0000 2016</td>\n",
       "      <td>22:09:09</td>\n",
       "    </tr>\n",
       "    <tr>\n",
       "      <th>1963</th>\n",
       "      <td>RT @Cuse_MBB: Syracuse vs. Virginia\\r\\n#Elite8...</td>\n",
       "      <td>Sun Mar 27 22:09:11 +0000 2016</td>\n",
       "      <td>22:09:11</td>\n",
       "    </tr>\n",
       "    <tr>\n",
       "      <th>1964</th>\n",
       "      <td>RT @UVAMensHoops: #UVA starters vs. @Cuse_MBB:...</td>\n",
       "      <td>Sun Mar 27 22:09:12 +0000 2016</td>\n",
       "      <td>22:09:12</td>\n",
       "    </tr>\n",
       "    <tr>\n",
       "      <th>1965</th>\n",
       "      <td>Let's go 'Cuse! Win or Lose it's all house mon...</td>\n",
       "      <td>Sun Mar 27 22:09:13 +0000 2016</td>\n",
       "      <td>22:09:13</td>\n",
       "    </tr>\n",
       "    <tr>\n",
       "      <th>1966</th>\n",
       "      <td>Break rules, get off easy, underachieve, beat ...</td>\n",
       "      <td>Sun Mar 27 22:09:14 +0000 2016</td>\n",
       "      <td>22:09:14</td>\n",
       "    </tr>\n",
       "    <tr>\n",
       "      <th>1967</th>\n",
       "      <td>RT @Cuse_MBB: The Orange starting 5\\r\\n#CuseMo...</td>\n",
       "      <td>Sun Mar 27 22:09:14 +0000 2016</td>\n",
       "      <td>22:09:14</td>\n",
       "    </tr>\n",
       "    <tr>\n",
       "      <th>1968</th>\n",
       "      <td>Same #Syracuse shirt I have worn every game of...</td>\n",
       "      <td>Sun Mar 27 22:09:14 +0000 2016</td>\n",
       "      <td>22:09:14</td>\n",
       "    </tr>\n",
       "    <tr>\n",
       "      <th>1969</th>\n",
       "      <td>RT @Cuse_MBB: The Orange starting 5\\r\\n#CuseMo...</td>\n",
       "      <td>Sun Mar 27 22:09:14 +0000 2016</td>\n",
       "      <td>22:09:14</td>\n",
       "    </tr>\n",
       "    <tr>\n",
       "      <th>1970</th>\n",
       "      <td>RT @SportsWatch1: #Syracuse #Orange vs #Virgin...</td>\n",
       "      <td>Sun Mar 27 22:09:17 +0000 2016</td>\n",
       "      <td>22:09:17</td>\n",
       "    </tr>\n",
       "    <tr>\n",
       "      <th>1971</th>\n",
       "      <td>RT @fullcourtprez: Time to watch 2-3 zone for ...</td>\n",
       "      <td>Sun Mar 27 22:09:18 +0000 2016</td>\n",
       "      <td>22:09:18</td>\n",
       "    </tr>\n",
       "    <tr>\n",
       "      <th>1972</th>\n",
       "      <td>RT @fullcourtprez: Time to watch 2-3 zone for ...</td>\n",
       "      <td>Sun Mar 27 22:09:19 +0000 2016</td>\n",
       "      <td>22:09:19</td>\n",
       "    </tr>\n",
       "    <tr>\n",
       "      <th>1973</th>\n",
       "      <td>Have been trying to think of a bigger UVA spor...</td>\n",
       "      <td>Sun Mar 27 22:09:20 +0000 2016</td>\n",
       "      <td>22:09:20</td>\n",
       "    </tr>\n",
       "    <tr>\n",
       "      <th>1974</th>\n",
       "      <td>Here we go... 🏀 #MarchMadness #GoHoos</td>\n",
       "      <td>Sun Mar 27 22:09:24 +0000 2016</td>\n",
       "      <td>22:09:24</td>\n",
       "    </tr>\n",
       "    <tr>\n",
       "      <th>1975</th>\n",
       "      <td>I'm picking #UVA and #UNC to move on tonight. ...</td>\n",
       "      <td>Sun Mar 27 22:09:28 +0000 2016</td>\n",
       "      <td>22:09:28</td>\n",
       "    </tr>\n",
       "    <tr>\n",
       "      <th>1976</th>\n",
       "      <td>RT @UVAMensHoops: #UVA starters vs. @Cuse_MBB:...</td>\n",
       "      <td>Sun Mar 27 22:09:30 +0000 2016</td>\n",
       "      <td>22:09:30</td>\n",
       "    </tr>\n",
       "    <tr>\n",
       "      <th>1977</th>\n",
       "      <td>RT @Cuse_MBB: The Orange starting 5\\r\\n#CuseMo...</td>\n",
       "      <td>Sun Mar 27 22:09:30 +0000 2016</td>\n",
       "      <td>22:09:30</td>\n",
       "    </tr>\n",
       "    <tr>\n",
       "      <th>1978</th>\n",
       "      <td>RT @ccarlsononSU: Definitely going to be a pro...</td>\n",
       "      <td>Sun Mar 27 22:09:32 +0000 2016</td>\n",
       "      <td>22:09:32</td>\n",
       "    </tr>\n",
       "    <tr>\n",
       "      <th>1979</th>\n",
       "      <td>RT @Cuse_MBB: Here come the Orange!\\r\\n🍊🏀 #C...</td>\n",
       "      <td>Sun Mar 27 22:09:34 +0000 2016</td>\n",
       "      <td>22:09:34</td>\n",
       "    </tr>\n",
       "    <tr>\n",
       "      <th>1980</th>\n",
       "      <td>RT @Cuse_MBB: Focus time\\r\\n \\r\\n#CuseMode 🍊�...</td>\n",
       "      <td>Sun Mar 27 22:09:34 +0000 2016</td>\n",
       "      <td>22:09:34</td>\n",
       "    </tr>\n",
       "    <tr>\n",
       "      <th>1981</th>\n",
       "      <td>RT @UVaDeanJ: Jack's ready for the game! #UVA ...</td>\n",
       "      <td>Sun Mar 27 22:09:35 +0000 2016</td>\n",
       "      <td>22:09:35</td>\n",
       "    </tr>\n",
       "    <tr>\n",
       "      <th>1982</th>\n",
       "      <td>Here we go Cuse...#Elite8 #CuseMode</td>\n",
       "      <td>Sun Mar 27 22:09:36 +0000 2016</td>\n",
       "      <td>22:09:36</td>\n",
       "    </tr>\n",
       "    <tr>\n",
       "      <th>1983</th>\n",
       "      <td>@SportsCenter @carmeloanthony #GoOrange #CuseMode</td>\n",
       "      <td>Sun Mar 27 22:09:37 +0000 2016</td>\n",
       "      <td>22:09:37</td>\n",
       "    </tr>\n",
       "    <tr>\n",
       "      <th>1984</th>\n",
       "      <td>RT @Cuse_MBB: The Orange starting 5\\r\\n#CuseMo...</td>\n",
       "      <td>Sun Mar 27 22:09:38 +0000 2016</td>\n",
       "      <td>22:09:38</td>\n",
       "    </tr>\n",
       "    <tr>\n",
       "      <th>1985</th>\n",
       "      <td>RT @ECutty19: Let's go Cuse 🍊🍊 #CuseMode #Wi...</td>\n",
       "      <td>Sun Mar 27 22:09:38 +0000 2016</td>\n",
       "      <td>22:09:38</td>\n",
       "    </tr>\n",
       "    <tr>\n",
       "      <th>1986</th>\n",
       "      <td>RT @UVAMensHoops: #UVA starters vs. @Cuse_MBB:...</td>\n",
       "      <td>Sun Mar 27 22:09:39 +0000 2016</td>\n",
       "      <td>22:09:39</td>\n",
       "    </tr>\n",
       "    <tr>\n",
       "      <th>...</th>\n",
       "      <td>...</td>\n",
       "      <td>...</td>\n",
       "      <td>...</td>\n",
       "    </tr>\n",
       "    <tr>\n",
       "      <th>11013</th>\n",
       "      <td>What a comeback! #Syracuse Finna beat Virginia...</td>\n",
       "      <td>Mon Mar 28 00:13:57 +0000 2016</td>\n",
       "      <td>00:13:57</td>\n",
       "    </tr>\n",
       "    <tr>\n",
       "      <th>11014</th>\n",
       "      <td>RT @Cuse_MBB: 15-0 run, part of a larger 25-4 ...</td>\n",
       "      <td>Mon Mar 28 00:13:57 +0000 2016</td>\n",
       "      <td>00:13:57</td>\n",
       "    </tr>\n",
       "    <tr>\n",
       "      <th>11015</th>\n",
       "      <td>MADNESS! #Syracuse</td>\n",
       "      <td>Mon Mar 28 00:13:57 +0000 2016</td>\n",
       "      <td>00:13:57</td>\n",
       "    </tr>\n",
       "    <tr>\n",
       "      <th>11016</th>\n",
       "      <td>CUSE!!! You always know how to make me feel be...</td>\n",
       "      <td>Mon Mar 28 00:13:58 +0000 2016</td>\n",
       "      <td>00:13:58</td>\n",
       "    </tr>\n",
       "    <tr>\n",
       "      <th>11017</th>\n",
       "      <td>I Had Virginia Taking It But #CuseMode 🍊</td>\n",
       "      <td>Mon Mar 28 00:13:58 +0000 2016</td>\n",
       "      <td>00:13:58</td>\n",
       "    </tr>\n",
       "    <tr>\n",
       "      <th>11018</th>\n",
       "      <td>Good night #UVA ... 💃🏾💃🏾</td>\n",
       "      <td>Mon Mar 28 00:13:58 +0000 2016</td>\n",
       "      <td>00:13:58</td>\n",
       "    </tr>\n",
       "    <tr>\n",
       "      <th>11019</th>\n",
       "      <td>#HoustonBound #CuseMode</td>\n",
       "      <td>Mon Mar 28 00:13:58 +0000 2016</td>\n",
       "      <td>00:13:58</td>\n",
       "    </tr>\n",
       "    <tr>\n",
       "      <th>11020</th>\n",
       "      <td>Final Four bound baby❗️❗️❗️🍊🍊 #CuseMode</td>\n",
       "      <td>Mon Mar 28 00:13:58 +0000 2016</td>\n",
       "      <td>00:13:58</td>\n",
       "    </tr>\n",
       "    <tr>\n",
       "      <th>11021</th>\n",
       "      <td>#Virginia are known as the #Cavs and due to th...</td>\n",
       "      <td>Mon Mar 28 00:13:58 +0000 2016</td>\n",
       "      <td>00:13:58</td>\n",
       "    </tr>\n",
       "    <tr>\n",
       "      <th>11022</th>\n",
       "      <td>RT @SleeperAthletes: The No. 10 seed #Syracuse...</td>\n",
       "      <td>Mon Mar 28 00:13:58 +0000 2016</td>\n",
       "      <td>00:13:58</td>\n",
       "    </tr>\n",
       "    <tr>\n",
       "      <th>11023</th>\n",
       "      <td>Where is the defibrillator??? #Sweet16 #Elite8...</td>\n",
       "      <td>Mon Mar 28 00:13:58 +0000 2016</td>\n",
       "      <td>00:13:58</td>\n",
       "    </tr>\n",
       "    <tr>\n",
       "      <th>11024</th>\n",
       "      <td>There are no words.... #FinalFour #CuseMode @C...</td>\n",
       "      <td>Mon Mar 28 00:13:59 +0000 2016</td>\n",
       "      <td>00:13:59</td>\n",
       "    </tr>\n",
       "    <tr>\n",
       "      <th>11025</th>\n",
       "      <td>'CUSE IN THE FINAL FOUR!!!\\r\\n\\r\\n#Elite8 #Syr...</td>\n",
       "      <td>Mon Mar 28 00:13:59 +0000 2016</td>\n",
       "      <td>00:13:59</td>\n",
       "    </tr>\n",
       "    <tr>\n",
       "      <th>11026</th>\n",
       "      <td>This one's DONE!!!  Nighty night, #Virginia !!...</td>\n",
       "      <td>Mon Mar 28 00:13:59 +0000 2016</td>\n",
       "      <td>00:13:59</td>\n",
       "    </tr>\n",
       "    <tr>\n",
       "      <th>11027</th>\n",
       "      <td>#Syracuse</td>\n",
       "      <td>Mon Mar 28 00:13:59 +0000 2016</td>\n",
       "      <td>00:13:59</td>\n",
       "    </tr>\n",
       "    <tr>\n",
       "      <th>11028</th>\n",
       "      <td>Final fucking four #Syracuse</td>\n",
       "      <td>Mon Mar 28 00:13:59 +0000 2016</td>\n",
       "      <td>00:13:59</td>\n",
       "    </tr>\n",
       "    <tr>\n",
       "      <th>11029</th>\n",
       "      <td>#Syracuse with the W. Huge.</td>\n",
       "      <td>Mon Mar 28 00:13:59 +0000 2016</td>\n",
       "      <td>00:13:59</td>\n",
       "    </tr>\n",
       "    <tr>\n",
       "      <th>11030</th>\n",
       "      <td>GOD I LOVE MY TEAM!!!!!!! #FinalFour #CuseMode</td>\n",
       "      <td>Mon Mar 28 00:13:59 +0000 2016</td>\n",
       "      <td>00:13:59</td>\n",
       "    </tr>\n",
       "    <tr>\n",
       "      <th>11031</th>\n",
       "      <td>Middle Tennessee did #UVa a solid and the #Cav...</td>\n",
       "      <td>Mon Mar 28 00:13:59 +0000 2016</td>\n",
       "      <td>00:13:59</td>\n",
       "    </tr>\n",
       "    <tr>\n",
       "      <th>11032</th>\n",
       "      <td>Ayyyyyeeeeeeee #Syracuse #finalfour 🍊💙🏀</td>\n",
       "      <td>Mon Mar 28 00:13:59 +0000 2016</td>\n",
       "      <td>00:13:59</td>\n",
       "    </tr>\n",
       "    <tr>\n",
       "      <th>11033</th>\n",
       "      <td>Awesome awesome awesome #Syracuse #GoOrange</td>\n",
       "      <td>Mon Mar 28 00:13:59 +0000 2016</td>\n",
       "      <td>00:13:59</td>\n",
       "    </tr>\n",
       "    <tr>\n",
       "      <th>11034</th>\n",
       "      <td>If basketball doesn't work out for this guy, h...</td>\n",
       "      <td>Mon Mar 28 00:13:58 +0000 2016</td>\n",
       "      <td>00:13:58</td>\n",
       "    </tr>\n",
       "    <tr>\n",
       "      <th>11035</th>\n",
       "      <td>#Syracuse #FinalFour</td>\n",
       "      <td>Mon Mar 28 00:13:59 +0000 2016</td>\n",
       "      <td>00:13:59</td>\n",
       "    </tr>\n",
       "    <tr>\n",
       "      <th>11036</th>\n",
       "      <td>I'm calling it now. That.... Is the GREATEST w...</td>\n",
       "      <td>Mon Mar 28 00:13:58 +0000 2016</td>\n",
       "      <td>00:13:58</td>\n",
       "    </tr>\n",
       "    <tr>\n",
       "      <th>11037</th>\n",
       "      <td>From in the bubble to final four #Syracuse 🍊🍊🍊</td>\n",
       "      <td>Mon Mar 28 00:13:59 +0000 2016</td>\n",
       "      <td>00:13:59</td>\n",
       "    </tr>\n",
       "    <tr>\n",
       "      <th>11038</th>\n",
       "      <td>#Syracuse did not deserve to be in the tournam...</td>\n",
       "      <td>Mon Mar 28 00:13:59 +0000 2016</td>\n",
       "      <td>00:13:59</td>\n",
       "    </tr>\n",
       "    <tr>\n",
       "      <th>11039</th>\n",
       "      <td>SWEET BABY JESUS, #Syracuse!!! - #Cuse #FinalF...</td>\n",
       "      <td>Mon Mar 28 00:13:59 +0000 2016</td>\n",
       "      <td>00:13:59</td>\n",
       "    </tr>\n",
       "    <tr>\n",
       "      <th>11040</th>\n",
       "      <td>SYRACUSE!!!\\r\\n#MarchMadness  #FinalFour #Cuse...</td>\n",
       "      <td>Mon Mar 28 00:13:59 +0000 2016</td>\n",
       "      <td>00:13:59</td>\n",
       "    </tr>\n",
       "    <tr>\n",
       "      <th>11041</th>\n",
       "      <td>I can't believe what I just saw!!! #Syracuse #...</td>\n",
       "      <td>Mon Mar 28 00:13:59 +0000 2016</td>\n",
       "      <td>00:13:59</td>\n",
       "    </tr>\n",
       "    <tr>\n",
       "      <th>11045</th>\n",
       "      <td>Final Four baby! #Cuse #CuseNation #Syracuse #...</td>\n",
       "      <td>Mon Mar 28 00:13:59 +0000 2016</td>\n",
       "      <td>00:13:59</td>\n",
       "    </tr>\n",
       "  </tbody>\n",
       "</table>\n",
       "<p>9086 rows × 3 columns</p>\n",
       "</div>"
      ],
      "text/plain": [
       "                                                    text  \\\n",
       "1957   RT @Cuse_MBB: The Orange starting 5\\r\\n#CuseMo...   \n",
       "1958   RT @Cuse_MBB: The Orange starting 5\\r\\n#CuseMo...   \n",
       "1959   RT @Cuse_MBB: The Orange starting 5\\r\\n#CuseMo...   \n",
       "1960   RT @Cuse_MBB: Here come the Orange!\\r\\n🍊🏀 #C...   \n",
       "1961   Syracuse fans vs. Doug Gottlieb: A play in one...   \n",
       "1962                                           #CuseMode   \n",
       "1963   RT @Cuse_MBB: Syracuse vs. Virginia\\r\\n#Elite8...   \n",
       "1964   RT @UVAMensHoops: #UVA starters vs. @Cuse_MBB:...   \n",
       "1965   Let's go 'Cuse! Win or Lose it's all house mon...   \n",
       "1966   Break rules, get off easy, underachieve, beat ...   \n",
       "1967   RT @Cuse_MBB: The Orange starting 5\\r\\n#CuseMo...   \n",
       "1968   Same #Syracuse shirt I have worn every game of...   \n",
       "1969   RT @Cuse_MBB: The Orange starting 5\\r\\n#CuseMo...   \n",
       "1970   RT @SportsWatch1: #Syracuse #Orange vs #Virgin...   \n",
       "1971   RT @fullcourtprez: Time to watch 2-3 zone for ...   \n",
       "1972   RT @fullcourtprez: Time to watch 2-3 zone for ...   \n",
       "1973   Have been trying to think of a bigger UVA spor...   \n",
       "1974              Here we go... 🏀 #MarchMadness #GoHoos   \n",
       "1975   I'm picking #UVA and #UNC to move on tonight. ...   \n",
       "1976   RT @UVAMensHoops: #UVA starters vs. @Cuse_MBB:...   \n",
       "1977   RT @Cuse_MBB: The Orange starting 5\\r\\n#CuseMo...   \n",
       "1978   RT @ccarlsononSU: Definitely going to be a pro...   \n",
       "1979   RT @Cuse_MBB: Here come the Orange!\\r\\n🍊🏀 #C...   \n",
       "1980   RT @Cuse_MBB: Focus time\\r\\n \\r\\n#CuseMode 🍊�...   \n",
       "1981   RT @UVaDeanJ: Jack's ready for the game! #UVA ...   \n",
       "1982                 Here we go Cuse...#Elite8 #CuseMode   \n",
       "1983   @SportsCenter @carmeloanthony #GoOrange #CuseMode   \n",
       "1984   RT @Cuse_MBB: The Orange starting 5\\r\\n#CuseMo...   \n",
       "1985   RT @ECutty19: Let's go Cuse 🍊🍊 #CuseMode #Wi...   \n",
       "1986   RT @UVAMensHoops: #UVA starters vs. @Cuse_MBB:...   \n",
       "...                                                  ...   \n",
       "11013  What a comeback! #Syracuse Finna beat Virginia...   \n",
       "11014  RT @Cuse_MBB: 15-0 run, part of a larger 25-4 ...   \n",
       "11015                                 MADNESS! #Syracuse   \n",
       "11016  CUSE!!! You always know how to make me feel be...   \n",
       "11017          I Had Virginia Taking It But #CuseMode 🍊   \n",
       "11018                       Good night #UVA ... 💃🏾💃🏾   \n",
       "11019                            #HoustonBound #CuseMode   \n",
       "11020          Final Four bound baby❗️❗️❗️🍊🍊 #CuseMode   \n",
       "11021  #Virginia are known as the #Cavs and due to th...   \n",
       "11022  RT @SleeperAthletes: The No. 10 seed #Syracuse...   \n",
       "11023  Where is the defibrillator??? #Sweet16 #Elite8...   \n",
       "11024  There are no words.... #FinalFour #CuseMode @C...   \n",
       "11025  'CUSE IN THE FINAL FOUR!!!\\r\\n\\r\\n#Elite8 #Syr...   \n",
       "11026  This one's DONE!!!  Nighty night, #Virginia !!...   \n",
       "11027                                          #Syracuse   \n",
       "11028                       Final fucking four #Syracuse   \n",
       "11029                        #Syracuse with the W. Huge.   \n",
       "11030     GOD I LOVE MY TEAM!!!!!!! #FinalFour #CuseMode   \n",
       "11031  Middle Tennessee did #UVa a solid and the #Cav...   \n",
       "11032         Ayyyyyeeeeeeee #Syracuse #finalfour 🍊💙🏀   \n",
       "11033        Awesome awesome awesome #Syracuse #GoOrange   \n",
       "11034  If basketball doesn't work out for this guy, h...   \n",
       "11035                               #Syracuse #FinalFour   \n",
       "11036  I'm calling it now. That.... Is the GREATEST w...   \n",
       "11037  From in the bubble to final four #Syracuse 🍊🍊🍊   \n",
       "11038  #Syracuse did not deserve to be in the tournam...   \n",
       "11039  SWEET BABY JESUS, #Syracuse!!! - #Cuse #FinalF...   \n",
       "11040  SYRACUSE!!!\\r\\n#MarchMadness  #FinalFour #Cuse...   \n",
       "11041  I can't believe what I just saw!!! #Syracuse #...   \n",
       "11045  Final Four baby! #Cuse #CuseNation #Syracuse #...   \n",
       "\n",
       "                                 time  time_chg  \n",
       "1957   Sun Mar 27 22:09:02 +0000 2016  22:09:02  \n",
       "1958   Sun Mar 27 22:09:04 +0000 2016  22:09:04  \n",
       "1959   Sun Mar 27 22:09:08 +0000 2016  22:09:08  \n",
       "1960   Sun Mar 27 22:09:08 +0000 2016  22:09:08  \n",
       "1961   Sun Mar 27 22:09:08 +0000 2016  22:09:08  \n",
       "1962   Sun Mar 27 22:09:09 +0000 2016  22:09:09  \n",
       "1963   Sun Mar 27 22:09:11 +0000 2016  22:09:11  \n",
       "1964   Sun Mar 27 22:09:12 +0000 2016  22:09:12  \n",
       "1965   Sun Mar 27 22:09:13 +0000 2016  22:09:13  \n",
       "1966   Sun Mar 27 22:09:14 +0000 2016  22:09:14  \n",
       "1967   Sun Mar 27 22:09:14 +0000 2016  22:09:14  \n",
       "1968   Sun Mar 27 22:09:14 +0000 2016  22:09:14  \n",
       "1969   Sun Mar 27 22:09:14 +0000 2016  22:09:14  \n",
       "1970   Sun Mar 27 22:09:17 +0000 2016  22:09:17  \n",
       "1971   Sun Mar 27 22:09:18 +0000 2016  22:09:18  \n",
       "1972   Sun Mar 27 22:09:19 +0000 2016  22:09:19  \n",
       "1973   Sun Mar 27 22:09:20 +0000 2016  22:09:20  \n",
       "1974   Sun Mar 27 22:09:24 +0000 2016  22:09:24  \n",
       "1975   Sun Mar 27 22:09:28 +0000 2016  22:09:28  \n",
       "1976   Sun Mar 27 22:09:30 +0000 2016  22:09:30  \n",
       "1977   Sun Mar 27 22:09:30 +0000 2016  22:09:30  \n",
       "1978   Sun Mar 27 22:09:32 +0000 2016  22:09:32  \n",
       "1979   Sun Mar 27 22:09:34 +0000 2016  22:09:34  \n",
       "1980   Sun Mar 27 22:09:34 +0000 2016  22:09:34  \n",
       "1981   Sun Mar 27 22:09:35 +0000 2016  22:09:35  \n",
       "1982   Sun Mar 27 22:09:36 +0000 2016  22:09:36  \n",
       "1983   Sun Mar 27 22:09:37 +0000 2016  22:09:37  \n",
       "1984   Sun Mar 27 22:09:38 +0000 2016  22:09:38  \n",
       "1985   Sun Mar 27 22:09:38 +0000 2016  22:09:38  \n",
       "1986   Sun Mar 27 22:09:39 +0000 2016  22:09:39  \n",
       "...                               ...       ...  \n",
       "11013  Mon Mar 28 00:13:57 +0000 2016  00:13:57  \n",
       "11014  Mon Mar 28 00:13:57 +0000 2016  00:13:57  \n",
       "11015  Mon Mar 28 00:13:57 +0000 2016  00:13:57  \n",
       "11016  Mon Mar 28 00:13:58 +0000 2016  00:13:58  \n",
       "11017  Mon Mar 28 00:13:58 +0000 2016  00:13:58  \n",
       "11018  Mon Mar 28 00:13:58 +0000 2016  00:13:58  \n",
       "11019  Mon Mar 28 00:13:58 +0000 2016  00:13:58  \n",
       "11020  Mon Mar 28 00:13:58 +0000 2016  00:13:58  \n",
       "11021  Mon Mar 28 00:13:58 +0000 2016  00:13:58  \n",
       "11022  Mon Mar 28 00:13:58 +0000 2016  00:13:58  \n",
       "11023  Mon Mar 28 00:13:58 +0000 2016  00:13:58  \n",
       "11024  Mon Mar 28 00:13:59 +0000 2016  00:13:59  \n",
       "11025  Mon Mar 28 00:13:59 +0000 2016  00:13:59  \n",
       "11026  Mon Mar 28 00:13:59 +0000 2016  00:13:59  \n",
       "11027  Mon Mar 28 00:13:59 +0000 2016  00:13:59  \n",
       "11028  Mon Mar 28 00:13:59 +0000 2016  00:13:59  \n",
       "11029  Mon Mar 28 00:13:59 +0000 2016  00:13:59  \n",
       "11030  Mon Mar 28 00:13:59 +0000 2016  00:13:59  \n",
       "11031  Mon Mar 28 00:13:59 +0000 2016  00:13:59  \n",
       "11032  Mon Mar 28 00:13:59 +0000 2016  00:13:59  \n",
       "11033  Mon Mar 28 00:13:59 +0000 2016  00:13:59  \n",
       "11034  Mon Mar 28 00:13:58 +0000 2016  00:13:58  \n",
       "11035  Mon Mar 28 00:13:59 +0000 2016  00:13:59  \n",
       "11036  Mon Mar 28 00:13:58 +0000 2016  00:13:58  \n",
       "11037  Mon Mar 28 00:13:59 +0000 2016  00:13:59  \n",
       "11038  Mon Mar 28 00:13:59 +0000 2016  00:13:59  \n",
       "11039  Mon Mar 28 00:13:59 +0000 2016  00:13:59  \n",
       "11040  Mon Mar 28 00:13:59 +0000 2016  00:13:59  \n",
       "11041  Mon Mar 28 00:13:59 +0000 2016  00:13:59  \n",
       "11045  Mon Mar 28 00:13:59 +0000 2016  00:13:59  \n",
       "\n",
       "[9086 rows x 3 columns]"
      ]
     },
     "execution_count": 261,
     "metadata": {},
     "output_type": "execute_result"
    }
   ],
   "source": [
    "dt2"
   ]
  },
  {
   "cell_type": "code",
   "execution_count": 257,
   "metadata": {
    "collapsed": false
   },
   "outputs": [
    {
     "data": {
      "text/plain": [
       "datetime.datetime(1900, 1, 1, 20, 14)"
      ]
     },
     "execution_count": 257,
     "metadata": {},
     "output_type": "execute_result"
    }
   ],
   "source": [
    "end"
   ]
  },
  {
   "cell_type": "code",
   "execution_count": 262,
   "metadata": {
    "collapsed": true
   },
   "outputs": [],
   "source": [
    "\"\"\"\n",
    "Large function that will return to you the relevant game events and then a list of tweets (with their times) \n",
    "from the time period that you specify. Currently works by submitting actual times.\n",
    "\n",
    "Inputs:\n",
    "gp1: The first game participant\n",
    "gp2: The second game participant\n",
    "tp1: Beginning of time period (%H:%M, ex. 7:20), measured by EST\n",
    "tp2: End of time period\n",
    "\n",
    "Outputs:\n",
    "dt1: Dataframe containing all the game events from that period \n",
    "dt2: Dataframe containing the tweets from that period\n",
    "\"\"\"\n",
    "\n",
    "def databytime(gp1, gp2, tp1, tp2):\n",
    "    \n",
    "    # Get the important metadata and define a useful constant\n",
    "    gmdat = pd.read_csv(\"GameMetadata.csv\")\n",
    "    metadat = gmdat[((gmdat['Team1'] == gp1) | (gmdat['Team1'] == gp2)) & ((gmdat['Team2'] == gp1) | (gmdat['Team2'] == gp2))]\n",
    "    eid = int(metadat['espn_id'].iloc[0])\n",
    "    begin, end = datetime.strptime(metadat['Start'].iloc[0], '%H:%M'), datetime.strptime(metadat['End'].iloc[0], '%H:%M')\n",
    "    lenhalf = 20*60\n",
    "    \n",
    "    # Grab the game data for the time period\n",
    "    dt1 = ncaatrendgraph(eid) # Usually gdata\n",
    "#     dt1 = gamevents(gdata, tp1, tp2, begin, end)\n",
    "    \n",
    "    # Grab the relevant data from the twitter file\n",
    "    fname = metadat['Filename'].iloc[0]\n",
    "    tweets =  pd.read_csv(fname)\n",
    "    tweets['time_chg'] = tweets['time'].apply(lambda x: x.split(' ')[3])\n",
    "    \n",
    "    indices = []\n",
    "    for num in range(0, len(tweets['time_chg'])):\n",
    "        tweetstamp = datetime.strptime(tweets['time_chg'].iloc[num], \"%H:%M:%S\") - timedelta(hours=4)\n",
    "        \n",
    "        if tweetstamp.hour >= 20:\n",
    "            tweetstamp = tweetstamp + timedelta(days=1)\n",
    "        \n",
    "        if (tweetstamp > begin) and (tweetstamp < end):\n",
    "            if (tweetstamp > datetime.strptime(tp1, '%H:%M')) and (tweetstamp < datetime.strptime(tp2, '%H:%M')):\n",
    "                indices.append(num)\n",
    "    dt2 = tweets[tweets.index.isin(indices)]\n",
    "    \n",
    "    return dt1, dt2"
   ]
  },
  {
   "cell_type": "code",
   "execution_count": 109,
   "metadata": {
    "collapsed": false
   },
   "outputs": [],
   "source": [
    "def getgamemeta(gp1, gp2):\n",
    "    gmdat = pd.read_csv(\"GameMetadata.csv\")\n",
    "    metadat = gmdat[((gmdat['Team1'] == gp1) | (gmdat['Team1'] == gp2)) & ((gmdat['Team2'] == gp1) | (gmdat['Team2'] == gp2))]\n",
    "    eid = int(metadat['espn_id'].iloc[0])\n",
    "    begin, end = datetime.strptime(metadat['Start'].iloc[0], '%H:%M'), datetime.strptime(metadat['End'].iloc[0], '%H:%M')\n",
    "    lenhalf = 20*60\n",
    "    htbegin = begin + timedelta(0, (end-begin).seconds/2 - lenhalf/2)\n",
    "    htend = begin + timedelta(0,(end-begin).seconds/2 + lenhalf/2)\n",
    "    \n",
    "    return {'meta': metadat,\n",
    "            'start': begin,\n",
    "            'end': end,\n",
    "            'htstart':htbegin, \n",
    "            'htend': htend} \n"
   ]
  },
  {
   "cell_type": "code",
   "execution_count": 117,
   "metadata": {
    "collapsed": false
   },
   "outputs": [],
   "source": [
    "\"\"\"\n",
    "Large function that will return to you the relevant game events and then a list of tweets (with their times) \n",
    "from the time period that you specify. Currently works by submitting actual times.\n",
    "\n",
    "Inputs:\n",
    "gp1: The first game participant\n",
    "gp2: The second game participant\n",
    "gtp1: Beginning of game time period (20:00 -- Halftime, 35:00 -- After halftime)\n",
    "gtp2: End of game time period\n",
    "\n",
    "Outputs:\n",
    "dt1: Dataframe containing all the game events from that period \n",
    "dt2: Dataframe containing the tweets from that period\n",
    "\"\"\"\n",
    "def databygametime(gp1, gp2, gtp1, gtp2):\n",
    "    \n",
    "    # Get the important metadata and define a useful constant\n",
    "    gmdat = pd.read_csv(\"GameMetadata.csv\")\n",
    "    metadat = gmdat[((gmdat['Team1'] == gp1) | (gmdat['Team1'] == gp2)) & ((gmdat['Team2'] == gp1) | (gmdat['Team2'] == gp2))]\n",
    "    eid = int(metadat['espn_id'].iloc[0])\n",
    "    begin, end = datetime.strptime(metadat['Start'].iloc[0], '%H:%M'), datetime.strptime(metadat['End'].iloc[0], '%H:%M')\n",
    "    lenhalf = 20*60\n",
    "    htbegin = begin + timedelta(0, (end-begin).seconds/2 - lenhalf/2)\n",
    "    htend = begin + timedelta(0,(end-begin).seconds/2 + lenhalf/2)\n",
    "    \n",
    "    # Grab the initial data by mapping gametimes to parts of the game\n",
    "    fullgamedat = ncaatrendgraph(eid)\n",
    "    bmin, bsec = gtp1.split(\":\")\n",
    "    emin, esec = gtp2.split(\":\")\n",
    "    btot = int(bmin)*60 + int(bsec)\n",
    "    etot = int(emin)*60 + int(bsec)\n",
    "    maxmin = np.max(fullgamedat['Minutes'])*60\n",
    "    bperc, eperc = (100.0*btot)/maxmin, (100.0*etot)/maxmin\n",
    "    dt1 = fullgamedat[(fullgamedat['PercDone'] >= bperc) & (fullgamedat['PercDone'] <= eperc)]\n",
    "    \n",
    "    # Use the percentages of the game to map gametimes to actual times\n",
    "    acttimes = []\n",
    "    for item in [bperc, eperc]:\n",
    "        hperc = (item*2)/100\n",
    "        if item <= 50.0:\n",
    "            secdelt = round((htbegin-begin).seconds*hperc,0)\n",
    "            acttimes.append(secdelt)\n",
    "        elif item > 50.0:\n",
    "            secdelt = round((end-htend).seconds*(hperc-1.0) + (htend-begin).seconds,0)\n",
    "            acttimes.append(secdelt)\n",
    "    \n",
    "    # Convert the time to usable timedelt objects\n",
    "    tp1, tp2 = begin + timedelta(0,seconds = acttimes[0]), begin + timedelta(0,seconds = acttimes[1])\n",
    "    tp1, tp2 = str(tp1).split(\" \")[1], str(tp2).split(\" \")[1]\n",
    "    \n",
    "    # Get the relevant Tweets over that time period using identical code to before\n",
    "    fname = metadat['Filename'].iloc[0]\n",
    "    tweets =  pd.read_csv(fname)\n",
    "    tweets['time_chg'] = tweets['time'].apply(lambda x: x.split(' ')[3])\n",
    "    \n",
    "    indices = []\n",
    "    for num in range(0, len(tweets['time_chg'])):\n",
    "        tweetstamp = datetime.strptime(tweets['time_chg'].iloc[num], \"%H:%M:%S\") - timedelta(hours=4)\n",
    "        if (tweetstamp > begin) and (tweetstamp < end):\n",
    "            if (tweetstamp > datetime.strptime(tp1, '%H:%M:%S')) and (tweetstamp < datetime.strptime(tp2, '%H:%M:%S')):\n",
    "                indices.append(num)\n",
    "    dt2 = tweets[tweets.index.isin(indices)]\n",
    "    return dt1, dt2"
   ]
  },
  {
   "cell_type": "code",
   "execution_count": 121,
   "metadata": {
    "collapsed": false
   },
   "outputs": [],
   "source": [
    "samp1, samp2 = databygametime('Virginia', 'Syracuse', '0:00', '40:00')"
   ]
  },
  {
   "cell_type": "code",
   "execution_count": 26,
   "metadata": {
    "collapsed": true
   },
   "outputs": [],
   "source": [
    "fullevents, fulltweets = databygametime('Virginia', 'Syracuse', '0:00', '100:00')"
   ]
  },
  {
   "cell_type": "code",
   "execution_count": 27,
   "metadata": {
    "collapsed": false
   },
   "outputs": [],
   "source": [
    "samp3, samp4 = databytime('Virginia', 'Syracuse', '18:10', '18:20')"
   ]
  },
  {
   "cell_type": "code",
   "execution_count": 28,
   "metadata": {
    "collapsed": false
   },
   "outputs": [
    {
     "data": {
      "text/plain": [
       "array(['neutral'], dtype=object)"
      ]
     },
     "execution_count": 28,
     "metadata": {},
     "output_type": "execute_result"
    }
   ],
   "source": [
    "tw = samp4.iloc[120]['text']\n",
    "classifier.classify(tw)"
   ]
  },
  {
   "cell_type": "code",
   "execution_count": 29,
   "metadata": {
    "collapsed": false
   },
   "outputs": [
    {
     "data": {
      "text/plain": [
       "array(['neutral'], dtype=object)"
      ]
     },
     "execution_count": 29,
     "metadata": {},
     "output_type": "execute_result"
    }
   ],
   "source": [
    "classifier.classify(\"no doubt absolute best team in the league on their way to a win\")"
   ]
  },
  {
   "cell_type": "code",
   "execution_count": 28,
   "metadata": {
    "collapsed": false
   },
   "outputs": [],
   "source": [
    "samp2['classification'] = samp2['text'].map(lambda t : classifier.classify(t))"
   ]
  },
  {
   "cell_type": "code",
   "execution_count": null,
   "metadata": {
    "collapsed": true
   },
   "outputs": [],
   "source": [
    "### Relevance Classification"
   ]
  },
  {
   "cell_type": "code",
   "execution_count": 30,
   "metadata": {
    "collapsed": true
   },
   "outputs": [],
   "source": [
    "# Write a quick function that will grab the relevant roster items, given a team id\n",
    "def grabroster(teampage):\n",
    "    url = \"http://\" + teampage.split('team')[0] + 'team/stats' + teampage.split('team')[1]\n",
    "    html = urllib.urlopen(url)\n",
    "    soup = BeautifulSoup(html, \"html.parser\") \n",
    "\n",
    "    names = []\n",
    "    for tr in soup.find_all('table')[0].find_all('tr')[2:9]:\n",
    "        for item in tr.find_all('td')[0:1]:\n",
    "            names.append(str(item.contents[0].contents[0]).split(' ')[1])\n",
    "    return names\n",
    "    \n",
    "# Write a function that will return two lists, each of which contains the last names of the top six players (as measured\n",
    "# by playing time), the name of the associated coach for the team, and the \n",
    "def relvtags(gameid):\n",
    "    gameid = 400873651\n",
    "    url = 'http://espn.go.com/mens-college-basketball/playbyplay?gameId=' + str(gameid)\n",
    "    html = urllib.urlopen(url)\n",
    "    soup = BeautifulSoup(html, \"html.parser\") \n",
    "\n",
    "    # Identify which team is which from the basic page\n",
    "    teams = soup.find_all('div', {'class', \"team-container\"}) \n",
    "\n",
    "    # Find the links to the right pages\n",
    "    teamlinks = [str(\"espn.go.com\" + teams[0].find_all('a')[0]['href']), \n",
    "                 str(\"espn.go.com\" + teams[1].find_all('a')[0]['href'])]\n",
    "\n",
    "    # Grab the correct roster for the team\n",
    "    team1, team2 = grabroster(teamlinks[0]), grabroster(teamlinks[1])\n",
    "    coach1, coach2 = coachdict[int(teamlinks[0].split('/')[-1])], coachdict[int(teamlinks[1].split('/')[-1])]\n",
    "    team1.append(coach1.split(' ')[1])\n",
    "    team2.append(coach2.split(' ')[1])\n",
    "    print team1, team2"
   ]
  },
  {
   "cell_type": "code",
   "execution_count": 31,
   "metadata": {
    "collapsed": false
   },
   "outputs": [],
   "source": [
    "# Create the relevant dictionaries for the stuff coming after\n",
    "coachurl = \"http://espn.go.com/mens-college-basketball/story/_/id/14967272/ranking-ncaa-tournament-coaches-players-1-68\"\n",
    "coachhtml = urllib.urlopen(coachurl)\n",
    "coachsoup = BeautifulSoup(coachhtml, \"html.parser\")\n",
    "\n",
    "# Create a useful dictionary for the ids and the coach\n",
    "coachdict = {}\n",
    "for item in coachsoup.find_all('strong'):\n",
    "    name = str(item.contents[0].split('. ')[1][:-2])\n",
    "    \n",
    "    # Get the associated teamid, throwing an exception for Southern (only non-linked team in the database)\n",
    "    if ',' not in name:\n",
    "        gid = int(item.find_all('a')[0]['href'].split('id/')[1].split('/')[0])\n",
    "    else:\n",
    "        gid = 2582\n",
    "        name = name.split(',')[0]\n",
    "    coachdict[gid] = name\n",
    "\n",
    "# Define a dict with tags for each team\n",
    "tagdict = {12: ['#Wildcats', '#Arizona', '#GoCats', '#BearDown', '#AZWildcats', '#watchus', '#APlayersProgram'],\n",
    "           25: ['#Cal', '#LetsDance', '#GoldenBears', '#GoBears', '#CalFamily'],\n",
    "           38: ['#Buffaloes', '#Colorado', '#GoBuffs'],\n",
    "           41: ['#Huskies', '#UConn', '#Connecticut', '#bleedblue', '#GoHuskies', '#UConnbasketball', '#UConnnation'],\n",
    "           43: ['#Bulldogs', '#Yale', '#OneIvy', '#YaleBasketball', '#GoYale'],\n",
    "           62: ['#RainbowWarriors', '#Hawaii', '#HawaiiMBB', '#RoadWarriors', '#GoBows'],\n",
    "           66: ['#Cyclones', '#IowaSt', '#IowaState', '#cyclONEnation'],\n",
    "           84: ['#Hoosiers', '#IU', '#ForIndiana', '#iubb'],\n",
    "           87: ['#NotreDame', '#NotDoneYet', '#FightingIrish'],\n",
    "           96: ['#Kentucky', '#Wildcats', '#Cats', '#BigBlueNation'],\n",
    "           107: ['#HolyCross', '#Crusaders', '#RiseTogether'],\n",
    "           120: ['#WeWill', '#Maryland', '#Terrapins'],\n",
    "           127: ['#Spartans', '#GoGreen', '#GoWhite', '#MSU', '#MichiganState'],\n",
    "           130: ['#Michigan', '#UMich', '#Wolverines', '#Squad100', '#GoBlue'],\n",
    "           150: ['#Duke', '#BlueDevils', '#GoDuke'],\n",
    "           153: ['#UNC', '#TarHeels', '#HeelsLockIn', '#UNCBBall'],\n",
    "           183: ['#Syracuse', '#OrangeCrush', '#CuseMode', '#StLouis'],\n",
    "           201: ['#Oklahoma', '#OU', '#Sooners', '#BuddyBuckets'],\n",
    "           204: ['#Beavers', '#OregonState', '#oregonstatebasketball', '#BeaverNation', '#GoBeavs'],\n",
    "           218: ['#Temple', '#Owls', '#BeatIowa', '#TUMBB'],\n",
    "           221: ['#Pittsburgh', '#Panthers', '#H2P'],\n",
    "           222: ['#Villanova', '#Nova', '#NovaMBB', '#NovaNation', '#LetsMarchNova'],\n",
    "           239: ['#Bears', '#Baylor', '#GoBears'],\n",
    "           245: ['#TexasA&M', '#Aggies', '#Gigem', '#TAMU', '#12thMan', '#AggieHoops'],\n",
    "           251: ['#UT', '#Longhorns', '#HookEm', '#Horns'],\n",
    "           254: ['#Utah', '#Utes', '#goutes', '#Playformore', '#BeatGonzaga'],\n",
    "           258: ['#Virginia', '#Cavaliers', '#Bulldogs', '#UVA', '#GoHoos'],\n",
    "           275: ['#Badgers', '#Wisconsin', '#MakeEmBelieve', '#Fieldof64', '#WisconsinBasketball'],\n",
    "           277: ['#WestVirginia', '#WVU', '#HailWV', '#PressVirginia', '#Mountaineers'],\n",
    "           2031: ['#LittleRocksTeam'],\n",
    "           2046: ['#AustinPeay', '#LetsGoPeay', '#16over1'],\n",
    "           2084: ['#Bison', '#Buffalo', '#UBBulls', '#UBDancing', '#HornsUp'],\n",
    "           2086: ['#Butler', '#Bulldogs', '#GoDawgs'],\n",
    "           2132: ['#Cincinnati', '#Cincy', '#BearCats', '#Dancin6'],\n",
    "           2168: ['#Dayton', '#Flyers', '#TrueTeam', '#GoFlyers'],\n",
    "           2250: ['#Zags', '#Gonzaga', '#GoZags', '#UnitedWeZag', '#zagup'],\n",
    "           2294: ['#Hawkeyes', '#Iowa'],\n",
    "           2305: ['#Jayhawks', '#kubball', '#Kansas', '#RockChalk'],\n",
    "           2390: ['#Hurricanes', '#Miami', '#BeatBuffalo', '#GoCanes'],\n",
    "           2393: ['#MiddleTennesseeState', '#MTSU', '#BlueRaiders', '#DancingRaiders'],\n",
    "           2427: ['#OurTownOurTeam', '#Bulldogs', '#Cinderella', '#UNCAsheville', '#Asheville'],\n",
    "           2460: ['#NorthernIowa', '#Panthers', '#PantherNation', '#UNI', '#UNIFight'],\n",
    "           2483: ['#Oregon', '#Ducks', '#GoDucks'],\n",
    "           2507: ['#Friars', '#PCBB', '#gofriars', '#pcbb', '#dunnions'],\n",
    "           2550: ['#SetonHall', '#HALLin', '#shbb', '#SHUnited'],\n",
    "           2571: ['#SDSU', '#Jackrabbits', '#MarchTogether'],\n",
    "           2603: ['#StJoes', '#Hawks', '#StJosephs', '#THWND'],\n",
    "           2617: ['#Lumberjacks', '#SFA', '#AxeEm'],\n",
    "           2670: ['#Rams', '#LetsGoVCU', '#VCU'],\n",
    "           2692: ['#Wildcats', '#WeberState', '#WeAreWeber', '#BigSkyMBB'],\n",
    "           2724: ['#Wildcats', '#Shockers', '#Shocktheworld', '#WichitaSt'],\n",
    "           2739: ['#RP40', '#HLMBB', '#ContinueTheRise', '#GreenBay'],\n",
    "           2752: ['#Xavier', '#Musketeers', '#LetsGoX', '#LetsMarch'],\n",
    "           2934: ['#CSUBelieve', '#AllRunners', '#CSUB']}"
   ]
  },
  {
   "cell_type": "code",
   "execution_count": 32,
   "metadata": {
    "collapsed": true
   },
   "outputs": [],
   "source": [
    "# Write a quick function that will grab the relevant roster items, given a team id\n",
    "def grabroster(teampage):\n",
    "    url = \"http://\" + teampage.split('team')[0] + 'team/stats' + teampage.split('team')[1]\n",
    "    html = urllib.urlopen(url)\n",
    "    soup = BeautifulSoup(html, \"html.parser\") \n",
    "\n",
    "    names = []\n",
    "    for tr in soup.find_all('table')[0].find_all('tr')[2:9]:\n",
    "        for item in tr.find_all('td')[0:1]:\n",
    "            names.append(str(item.contents[0].contents[0]).split(' ')[1])\n",
    "    return names\n",
    "    \n",
    "# Write a function that will return two lists, each of which contains the last names of the top six players (as measured\n",
    "# by playing time), the name of the associated coach for the team, and the \n",
    "def relvtags(gameid):\n",
    "    url = 'http://espn.go.com/mens-college-basketball/playbyplay?gameId=' + str(gameid)\n",
    "    html = urllib.urlopen(url)\n",
    "    soup = BeautifulSoup(html, \"html.parser\") \n",
    "\n",
    "    # Identify which team is which from the basic page\n",
    "    teams = soup.find_all('div', {'class', \"team-container\"}) \n",
    "\n",
    "    # Find the links to the right pages\n",
    "    teamlinks = [str(\"espn.go.com\" + teams[0].find_all('a')[0]['href']), \n",
    "                 str(\"espn.go.com\" + teams[1].find_all('a')[0]['href'])]\n",
    "\n",
    "    # Grab the correct roster for the team\n",
    "    x = []\n",
    "    for item in teamlinks:\n",
    "        team = grabroster(item)\n",
    "        gid = int(item.split('/')[-1])\n",
    "        team.append(coachdict[gid].split(' ')[1])\n",
    "        for tag in tagdict[gid]:\n",
    "            team.append(tag)\n",
    "            team.append(tag.split('#')[1])\n",
    "        x.append(team)\n",
    "    return x"
   ]
  },
  {
   "cell_type": "code",
   "execution_count": 33,
   "metadata": {
    "collapsed": true
   },
   "outputs": [],
   "source": [
    "# Go through and classify whether a text is in the tweet\n",
    "def textcheck(tweet, array):\n",
    "    relvs = []\n",
    "    for tagset in array:\n",
    "        counter = 0\n",
    "        for word in tagset:\n",
    "            if word in tweet:\n",
    "                counter += 1\n",
    "        # Check if anything showed up\n",
    "        if counter > 0:\n",
    "            relvs.append(1)\n",
    "            relvs.append(counter)\n",
    "        else:\n",
    "            relvs.append(0)\n",
    "        relvs.append(0)\n",
    "    return relvs"
   ]
  },
  {
   "cell_type": "code",
   "execution_count": 36,
   "metadata": {
    "collapsed": true
   },
   "outputs": [],
   "source": [
    "\"\"\"\n",
    "Given relevant keywords for the 2 teams, add what keywords appear for each.\n",
    "\"\"\"\n",
    "def addrelevance(df, wordset):\n",
    "    def textchecksingle(tweet, wset):\n",
    "        twdict = {w:True for w in tweet.split()}\n",
    "        return [w for w in wset if w in twdict]\n",
    "    \n",
    "    df['Team1RelWords'] = df['text'].map(lambda t : textchecksingle(t, tags[0]))\n",
    "    df['Team2RelWords'] = df['text'].map(lambda t : textchecksingle(t,tags[1]))\n",
    "    \n",
    "    t1len = len(tags[0])\n",
    "    t2len = len(tags[1])\n",
    "    \n",
    "    df['Team1RelScore'] = df['Team1RelWords'].map(lambda t : float(len(t))/t1len)\n",
    "    df['Team2RelScore'] = df['Team2RelWords'].map(lambda t : float(len(t))/t2len)\n",
    "    \n",
    "    df['Team1Indc'] = df['Team1RelScore'].map(lambda t: math.ceil(t))\n",
    "    df['Team2Indc'] = df['Team2RelScore'].map(lambda t: math.ceil(t))\n",
    "    \n",
    "    return df"
   ]
  },
  {
   "cell_type": "code",
   "execution_count": 400,
   "metadata": {
    "collapsed": false
   },
   "outputs": [],
   "source": [
    "def tweeteventplotandregression(team1, team2):\n",
    "    gamemeta = getgamemeta(team1, team2)\n",
    "    events, tweets = databygametime(team1, team2, '0:00', '40:00')    \n",
    "    eastern = pytz.timezone('US/Eastern')\n",
    "    tweets.index = tweets['time'].map(lambda x : parser.parse(x).astimezone(eastern))\n",
    "    \n",
    "    lenhalf1, lenhalf2 = gamemeta['htstart']-gamemeta['start'], gamemeta['end']-gamemeta['htend']\n",
    "    events['FirstHalf'] = samp1.apply(lambda r : r['PercDone'] <= 50, axis = 1)\n",
    "\n",
    "    def delta(half, time):\n",
    "        if half == True:\n",
    "            return timedelta(seconds = (lenhalf1.seconds * (time/50)))\n",
    "        else:\n",
    "            return timedelta(seconds = (lenhalf2.seconds * ((time-50)/50)))\n",
    "\n",
    "    events['Delta'] = samp1.apply(lambda r : delta(r['FirstHalf'], r['PercDone']), axis=1)\n",
    "\n",
    "    def addclock(row):\n",
    "        if row['FirstHalf']:\n",
    "            return row['Delta'] + gamemeta['start']\n",
    "        else:\n",
    "            return row['Delta'] + gamemeta['htend']\n",
    "\n",
    "    events['WallClockTime'] = events.apply(addclock, axis=1)\n",
    "    events.index = events['WallClockTime']\n",
    "    \n",
    "#     evtotal = sum(events['Event'].groupby([events.index.hour, events.index.minute]).count())\n",
    "#     twtotal = sum(tweets['text'].groupby([tweets.index.hour,tweets.index.minute]).count())\n",
    "       \n",
    "    # group by hour and minute\n",
    "    eventts = events['Event'].groupby([events.index.hour, events.index.minute]).count() # /evtotal\n",
    "    tweetts = tweets['text'].groupby([tweets.index.hour,tweets.index.minute]).count() # /twtotal\n",
    "    \n",
    "    # convert groupings to dataframe\n",
    "    eventtsdf = eventts.to_frame()\n",
    "    tweettsdf = tweetts.to_frame()\n",
    "    print eventtsdf.columns, tweettsdf.columns\n",
    "    \n",
    "    jointdf = tweettsdf.join(eventtsdf, type='inner').fillna(0)\n",
    "    jointdf.columns = [['text', 'MarginChange']] \n",
    "    \n",
    "    # make plots\n",
    "    jointdf['text'].plot()\n",
    "    jointdf['Event'].plot()\n",
    "    \n",
    "    # run a basic regression\n",
    "    jointdf = jointdf.reset_index()\n",
    "    beginhour, beginminute = simpleconv(gamemeta['htstart']).split(':')\n",
    "    endhour, endminute = simpleconv(gamemeta['htend']).split(':')\n",
    "    jointdf[['level_0', 'level_1']] = jointdf[['level_0', 'level_1']].astype(str)\n",
    "    begid = jointdf[(jointdf['level_0'] == beginhour) & (jointdf['level_1'] == beginminute)].index\n",
    "    endid = jointdf[(jointdf['level_0'] == endhour) & (jointdf['level_1'] == endminute)].index\n",
    "    \n",
    "    reg = slope, intercept, r_value, p_value, slope_std_error = stats.linregress(jointdf['Event'], jointdf['text'])\n",
    "    \n",
    "    preds = intercept + slope*jointdf['Event'].values\n",
    "    plt.figure(figsize = (18,12))\n",
    "    plt.plot(preds)\n",
    "    plt.title('Tweet and Event Volumes', fontsize = 16)\n",
    "    plt.xlabel(\"Minute in Game\", fontsize = 16)\n",
    "    plt.ylabel('Volume (per minute)', fontsize = 16)\n",
    "    plt.axvline(x=begid+1, color = 'black', ls='dashed')\n",
    "    plt.axvline(x=endid-1, color = 'black', ls='dashed')\n",
    "    plt.annotate('Halftime', xy=(((begid+endid)/2)[0]-4,str(5)), fontsize = 16)\n",
    "    plt.legend(['Tweets', 'Game Events'], fontsize = 16)\n",
    "    plt.savefig(team1+team2+'tsvolume.pdf')\n",
    "    \n",
    "    plt.figure()\n",
    "    plt.scatter(jointdf['Event'], jointdf['text'])\n",
    "    plt.plot(jointdf['Event'], preds)\n",
    "    \n",
    "    return (reg)"
   ]
  },
  {
   "cell_type": "code",
   "execution_count": 401,
   "metadata": {
    "collapsed": false
   },
   "outputs": [
    {
     "name": "stdout",
     "output_type": "stream",
     "text": [
      "Int64Index([0], dtype='int64') Int64Index([0], dtype='int64')\n"
     ]
    },
    {
     "ename": "ValueError",
     "evalue": "columns overlap but no suffix specified: Int64Index([0], dtype='int64')",
     "output_type": "error",
     "traceback": [
      "\u001b[0;31m---------------------------------------------------------------------------\u001b[0m",
      "\u001b[0;31mValueError\u001b[0m                                Traceback (most recent call last)",
      "\u001b[0;32m<ipython-input-401-ce7b22a9f3a3>\u001b[0m in \u001b[0;36m<module>\u001b[0;34m()\u001b[0m\n\u001b[0;32m----> 1\u001b[0;31m \u001b[0mtweeteventplotandregression\u001b[0m\u001b[0;34m(\u001b[0m\u001b[0;34m'Syracuse'\u001b[0m\u001b[0;34m,\u001b[0m \u001b[0;34m'Virginia'\u001b[0m\u001b[0;34m)\u001b[0m\u001b[0;34m\u001b[0m\u001b[0m\n\u001b[0m",
      "\u001b[0;32m<ipython-input-400-ce228ff45737>\u001b[0m in \u001b[0;36mtweeteventplotandregression\u001b[0;34m(team1, team2)\u001b[0m\n\u001b[1;32m     37\u001b[0m     \u001b[0;32mprint\u001b[0m \u001b[0meventtsdf\u001b[0m\u001b[0;34m.\u001b[0m\u001b[0mcolumns\u001b[0m\u001b[0;34m,\u001b[0m \u001b[0mtweettsdf\u001b[0m\u001b[0;34m.\u001b[0m\u001b[0mcolumns\u001b[0m\u001b[0;34m\u001b[0m\u001b[0m\n\u001b[1;32m     38\u001b[0m \u001b[0;34m\u001b[0m\u001b[0m\n\u001b[0;32m---> 39\u001b[0;31m     \u001b[0mjointdf\u001b[0m \u001b[0;34m=\u001b[0m \u001b[0mtweettsdf\u001b[0m\u001b[0;34m.\u001b[0m\u001b[0mjoin\u001b[0m\u001b[0;34m(\u001b[0m\u001b[0meventtsdf\u001b[0m\u001b[0;34m)\u001b[0m\u001b[0;34m.\u001b[0m\u001b[0mfillna\u001b[0m\u001b[0;34m(\u001b[0m\u001b[0;36m0\u001b[0m\u001b[0;34m)\u001b[0m\u001b[0;34m\u001b[0m\u001b[0m\n\u001b[0m\u001b[1;32m     40\u001b[0m     \u001b[0mjointdf\u001b[0m\u001b[0;34m.\u001b[0m\u001b[0mcolumns\u001b[0m \u001b[0;34m=\u001b[0m \u001b[0;34m[\u001b[0m\u001b[0;34m[\u001b[0m\u001b[0;34m'text'\u001b[0m\u001b[0;34m,\u001b[0m \u001b[0;34m'MarginChange'\u001b[0m\u001b[0;34m]\u001b[0m\u001b[0;34m]\u001b[0m\u001b[0;34m\u001b[0m\u001b[0m\n\u001b[1;32m     41\u001b[0m \u001b[0;34m\u001b[0m\u001b[0m\n",
      "\u001b[0;32m/usr/local/lib/python2.7/site-packages/pandas/core/frame.pyc\u001b[0m in \u001b[0;36mjoin\u001b[0;34m(self, other, on, how, lsuffix, rsuffix, sort)\u001b[0m\n\u001b[1;32m   4276\u001b[0m         \u001b[0;31m# For SparseDataFrame's benefit\u001b[0m\u001b[0;34m\u001b[0m\u001b[0;34m\u001b[0m\u001b[0m\n\u001b[1;32m   4277\u001b[0m         return self._join_compat(other, on=on, how=how, lsuffix=lsuffix,\n\u001b[0;32m-> 4278\u001b[0;31m                                  rsuffix=rsuffix, sort=sort)\n\u001b[0m\u001b[1;32m   4279\u001b[0m \u001b[0;34m\u001b[0m\u001b[0m\n\u001b[1;32m   4280\u001b[0m     def _join_compat(self, other, on=None, how='left', lsuffix='', rsuffix='',\n",
      "\u001b[0;32m/usr/local/lib/python2.7/site-packages/pandas/core/frame.pyc\u001b[0m in \u001b[0;36m_join_compat\u001b[0;34m(self, other, on, how, lsuffix, rsuffix, sort)\u001b[0m\n\u001b[1;32m   4290\u001b[0m             return merge(self, other, left_on=on, how=how,\n\u001b[1;32m   4291\u001b[0m                          \u001b[0mleft_index\u001b[0m\u001b[0;34m=\u001b[0m\u001b[0mon\u001b[0m \u001b[0;32mis\u001b[0m \u001b[0mNone\u001b[0m\u001b[0;34m,\u001b[0m \u001b[0mright_index\u001b[0m\u001b[0;34m=\u001b[0m\u001b[0mTrue\u001b[0m\u001b[0;34m,\u001b[0m\u001b[0;34m\u001b[0m\u001b[0m\n\u001b[0;32m-> 4292\u001b[0;31m                          suffixes=(lsuffix, rsuffix), sort=sort)\n\u001b[0m\u001b[1;32m   4293\u001b[0m         \u001b[0;32melse\u001b[0m\u001b[0;34m:\u001b[0m\u001b[0;34m\u001b[0m\u001b[0m\n\u001b[1;32m   4294\u001b[0m             \u001b[0;32mif\u001b[0m \u001b[0mon\u001b[0m \u001b[0;32mis\u001b[0m \u001b[0;32mnot\u001b[0m \u001b[0mNone\u001b[0m\u001b[0;34m:\u001b[0m\u001b[0;34m\u001b[0m\u001b[0m\n",
      "\u001b[0;32m/usr/local/lib/python2.7/site-packages/pandas/tools/merge.pyc\u001b[0m in \u001b[0;36mmerge\u001b[0;34m(left, right, how, on, left_on, right_on, left_index, right_index, sort, suffixes, copy, indicator)\u001b[0m\n\u001b[1;32m     33\u001b[0m                          \u001b[0mright_index\u001b[0m\u001b[0;34m=\u001b[0m\u001b[0mright_index\u001b[0m\u001b[0;34m,\u001b[0m \u001b[0msort\u001b[0m\u001b[0;34m=\u001b[0m\u001b[0msort\u001b[0m\u001b[0;34m,\u001b[0m \u001b[0msuffixes\u001b[0m\u001b[0;34m=\u001b[0m\u001b[0msuffixes\u001b[0m\u001b[0;34m,\u001b[0m\u001b[0;34m\u001b[0m\u001b[0m\n\u001b[1;32m     34\u001b[0m                          copy=copy, indicator=indicator)\n\u001b[0;32m---> 35\u001b[0;31m     \u001b[0;32mreturn\u001b[0m \u001b[0mop\u001b[0m\u001b[0;34m.\u001b[0m\u001b[0mget_result\u001b[0m\u001b[0;34m(\u001b[0m\u001b[0;34m)\u001b[0m\u001b[0;34m\u001b[0m\u001b[0m\n\u001b[0m\u001b[1;32m     36\u001b[0m \u001b[0;32mif\u001b[0m \u001b[0m__debug__\u001b[0m\u001b[0;34m:\u001b[0m\u001b[0;34m\u001b[0m\u001b[0m\n\u001b[1;32m     37\u001b[0m     \u001b[0mmerge\u001b[0m\u001b[0;34m.\u001b[0m\u001b[0m__doc__\u001b[0m \u001b[0;34m=\u001b[0m \u001b[0m_merge_doc\u001b[0m \u001b[0;34m%\u001b[0m \u001b[0;34m'\\nleft : DataFrame'\u001b[0m\u001b[0;34m\u001b[0m\u001b[0m\n",
      "\u001b[0;32m/usr/local/lib/python2.7/site-packages/pandas/tools/merge.pyc\u001b[0m in \u001b[0;36mget_result\u001b[0;34m(self)\u001b[0m\n\u001b[1;32m    200\u001b[0m \u001b[0;34m\u001b[0m\u001b[0m\n\u001b[1;32m    201\u001b[0m         llabels, rlabels = items_overlap_with_suffix(ldata.items, lsuf,\n\u001b[0;32m--> 202\u001b[0;31m                                                      rdata.items, rsuf)\n\u001b[0m\u001b[1;32m    203\u001b[0m \u001b[0;34m\u001b[0m\u001b[0m\n\u001b[1;32m    204\u001b[0m         \u001b[0mlindexers\u001b[0m \u001b[0;34m=\u001b[0m \u001b[0;34m{\u001b[0m\u001b[0;36m1\u001b[0m\u001b[0;34m:\u001b[0m \u001b[0mleft_indexer\u001b[0m\u001b[0;34m}\u001b[0m \u001b[0;32mif\u001b[0m \u001b[0mleft_indexer\u001b[0m \u001b[0;32mis\u001b[0m \u001b[0;32mnot\u001b[0m \u001b[0mNone\u001b[0m \u001b[0;32melse\u001b[0m \u001b[0;34m{\u001b[0m\u001b[0;34m}\u001b[0m\u001b[0;34m\u001b[0m\u001b[0m\n",
      "\u001b[0;32m/usr/local/lib/python2.7/site-packages/pandas/core/internals.pyc\u001b[0m in \u001b[0;36mitems_overlap_with_suffix\u001b[0;34m(left, lsuffix, right, rsuffix)\u001b[0m\n\u001b[1;32m   4362\u001b[0m         \u001b[0;32mif\u001b[0m \u001b[0;32mnot\u001b[0m \u001b[0mlsuffix\u001b[0m \u001b[0;32mand\u001b[0m \u001b[0;32mnot\u001b[0m \u001b[0mrsuffix\u001b[0m\u001b[0;34m:\u001b[0m\u001b[0;34m\u001b[0m\u001b[0m\n\u001b[1;32m   4363\u001b[0m             raise ValueError('columns overlap but no suffix specified: %s' %\n\u001b[0;32m-> 4364\u001b[0;31m                              to_rename)\n\u001b[0m\u001b[1;32m   4365\u001b[0m \u001b[0;34m\u001b[0m\u001b[0m\n\u001b[1;32m   4366\u001b[0m         \u001b[0;32mdef\u001b[0m \u001b[0mlrenamer\u001b[0m\u001b[0;34m(\u001b[0m\u001b[0mx\u001b[0m\u001b[0;34m)\u001b[0m\u001b[0;34m:\u001b[0m\u001b[0;34m\u001b[0m\u001b[0m\n",
      "\u001b[0;31mValueError\u001b[0m: columns overlap but no suffix specified: Int64Index([0], dtype='int64')"
     ]
    }
   ],
   "source": [
    "tweeteventplotandregression('Syracuse', 'Virginia')"
   ]
  },
  {
   "cell_type": "code",
   "execution_count": 241,
   "metadata": {
    "collapsed": false,
    "scrolled": true
   },
   "outputs": [],
   "source": [
    "team1, team2 = \"Syracuse\", \"Virginia\"\n",
    "gamemeta = getgamemeta(team1, team2)\n",
    "events, tweets = databytime(team1, team2, simpleconv(gamemeta['start']), simpleconv(gamemeta['end']))  "
   ]
  },
  {
   "cell_type": "code",
   "execution_count": 422,
   "metadata": {
    "collapsed": false
   },
   "outputs": [],
   "source": [
    "def marginplot22(team1, team2):\n",
    "    gamemeta = getgamemeta(team1, team2)\n",
    "    events, tweets = databytime(team1, team2, simpleconv(gamemeta['start']), simpleconv(gamemeta['end']))    \n",
    "    eastern = pytz.timezone('US/Eastern')\n",
    "    tweets.index = tweets['time'].map(lambda x : parser.parse(x).astimezone(eastern))\n",
    "\n",
    "#     events['Delta'] = events.apply(lambda r : timedelta(minutes=r['Minutes']) +\n",
    "#                                                 timedelta(seconds = r['Seconds']), axis=1)\n",
    "#     events['FirstHalf'] = events.apply(lambda r : r['Delta'] < timedelta(minutes=20), axis = 1)\n",
    "\n",
    "#     def addclock(row):\n",
    "#         if row['FirstHalf']:\n",
    "#             return row['Delta'] + gamemeta['start']\n",
    "#         else:\n",
    "#             return row['Delta'] + gamemeta['htend']\n",
    "\n",
    "    lenhalf1, lenhalf2 = gamemeta['htstart']-gamemeta['start'], gamemeta['end']-gamemeta['htend']\n",
    "    events['FirstHalf'] = samp1.apply(lambda r : r['PercDone'] <= 50, axis = 1)\n",
    "\n",
    "    def delta(half, time):\n",
    "        if half == True:\n",
    "            return timedelta(seconds = (lenhalf1.seconds * (time/50)))\n",
    "        else:\n",
    "            return timedelta(seconds = (lenhalf2.seconds * ((time-50)/50)))\n",
    "\n",
    "    events['Delta'] = samp1.apply(lambda r : delta(r['FirstHalf'], r['PercDone']), axis=1)\n",
    "\n",
    "    def addclock(row):\n",
    "        if row['FirstHalf']:\n",
    "            return row['Delta'] + gamemeta['start']\n",
    "        else:\n",
    "            return row['Delta'] + gamemeta['htend']\n",
    "\n",
    "    events['WallClockTime'] = events.apply(addclock, axis=1)\n",
    "    events.index = events['WallClockTime']\n",
    "    \n",
    "    events['Margin'] = events[team1] - events[team2]\n",
    "    events['MarginChange'] = abs(events['Margin'] - events['Margin'].shift())\n",
    "    \n",
    "    marginchangets = events['Margin'].groupby([events.index.hour, events.index.minute]).count()\n",
    "    tweetts = tweets['text'].groupby([tweets.index.hour,tweets.index.minute]).count() # /twtotal\n",
    "    \n",
    "    eventtsdf = marginchangets.to_frame()\n",
    "    eventtsdf.columns = [['Margin']]\n",
    "    tweettsdf = tweetts.to_frame()\n",
    "    tweettsdf.columns = [['text']]\n",
    "        \n",
    "    jointdf = tweettsdf.join(eventtsdf, how = 'outer').fillna(0)\n",
    "    jointdf.columns = [['text', 'Margin']] \n",
    "\n",
    "    # make plots\n",
    "#     normtext = (jointdf['text'] - jointdf['text'].mean())/jointdf['text'].std()\n",
    "#     normmargin = (jointdf['MarginChange'] - jointdf['MarginChange'].mean())/jointdf['MarginChange'].std()\n",
    "    plt.figure(figsize = (18,12))\n",
    "#     (normtext).plot()\n",
    "#     (normmargin).plot()\n",
    "    (jointdf['text']/jointdf['text'].mean()).plot()\n",
    "    (jointdf['Margin']/jointdf['Margin'].mean()).plot()\n",
    "    \n",
    "    # run a basic regression\n",
    "    \n",
    "#     reg = slope, intercept, r_value, p_value, slope_std_error = stats.linregress(normtext[jointdf['MarginChange'] != 0], normmargin[jointdf['MarginChange'] != 0],)\n",
    "    \n",
    "#     preds = intercept + slope*jointdf['MarginChange'].values\n",
    "\n",
    "    # Mark halftime on the plot\n",
    "    jointdf = jointdf.reset_index()\n",
    "    beginhour, beginminute = simpleconv(gamemeta['htstart']).split(':')\n",
    "    endhour, endminute = simpleconv(gamemeta['htend']).split(':')\n",
    "    jointdf[['level_0', 'level_1']] = jointdf[['level_0', 'level_1']].astype(str)\n",
    "    begid = jointdf[(jointdf['level_0'] == beginhour) & (jointdf['level_1'] == beginminute)].index\n",
    "    endid = jointdf[(jointdf['level_0'] == endhour) & (jointdf['level_1'] == endminute)].index\n",
    "    print (begid+endid)/2\n",
    "    \n",
    "    plt.title('Normalized Volume and Game Margin', fontsize = 16)\n",
    "    plt.xlabel(\"Minute in Game, {0} vs {1}\".format(team1, team2), fontsize = 16)\n",
    "    plt.ylabel('z-score', fontsize = 16)\n",
    "    plt.axvline(x=begid+1, color = 'black', ls='dashed')\n",
    "    plt.axvline(x=endid-1, color = 'black', ls='dashed')\n",
    "    plt.annotate('Halftime', xy=(((begid+endid)/2)[0]-4,str(5)), fontsize = 16)\n",
    "    plt.legend(['Tweets', 'Change in Margin'], fontsize = 16)\n",
    "    plt.savefig(team1.replace(' ', '').lower()+team2.replace(' ', '').lower()+'marginzscoreplot.pdf')\n",
    "    "
   ]
  },
  {
   "cell_type": "code",
   "execution_count": 423,
   "metadata": {
    "collapsed": false
   },
   "outputs": [
    {
     "name": "stdout",
     "output_type": "stream",
     "text": [
      "Int64Index([62], dtype='int64')\n"
     ]
    },
    {
     "data": {
      "image/png": "[encoded data removed]",
      "text/plain": [
       "<matplotlib.figure.Figure at 0x11a0c4950>"
      ]
     },
     "metadata": {},
     "output_type": "display_data"
    }
   ],
   "source": [
    "marginplot22('Syracuse', 'Virginia')"
   ]
  },
  {
   "cell_type": "code",
   "execution_count": 382,
   "metadata": {
    "collapsed": false
   },
   "outputs": [],
   "source": [
    "# Write a simple function that converts the datetime to a \"%H:%M\" variable\n",
    "def simpleconv(datetime):\n",
    "    return str(datetime.hour) + \":\" + str(datetime.minute)\n",
    "\n",
    "def marginplot(team1, team2):\n",
    "    gamemeta = getgamemeta(team1, team2)\n",
    "    events, tweets = databytime(team1, team2, simpleconv(gamemeta['start']), simpleconv(gamemeta['end']))    \n",
    "    eastern = pytz.timezone('US/Eastern')\n",
    "    tweets.index = tweets['time'].map(lambda x : parser.parse(x).astimezone(eastern))\n",
    "\n",
    "#     events['Delta'] = events.apply(lambda r : timedelta(minutes=r['Minutes']) +\n",
    "#                                                 timedelta(seconds = r['Seconds']), axis=1)\n",
    "#     events['FirstHalf'] = events.apply(lambda r : r['Delta'] < timedelta(minutes=20), axis = 1)\n",
    "\n",
    "#     def addclock(row):\n",
    "#         if row['FirstHalf']:\n",
    "#             return row['Delta'] + gamemeta['start']\n",
    "#         else:\n",
    "#             return row['Delta'] + gamemeta['htend']\n",
    "\n",
    "    lenhalf1, lenhalf2 = gamemeta['htstart']-gamemeta['start'], gamemeta['end']-gamemeta['htend']\n",
    "    events['FirstHalf'] = samp1.apply(lambda r : r['PercDone'] <= 50, axis = 1)\n",
    "\n",
    "    def delta(half, time):\n",
    "        if half == True:\n",
    "            return timedelta(seconds = (lenhalf1.seconds * (time/50)))\n",
    "        else:\n",
    "            return timedelta(seconds = (lenhalf2.seconds * ((time-50)/50)))\n",
    "\n",
    "    events['Delta'] = samp1.apply(lambda r : delta(r['FirstHalf'], r['PercDone']), axis=1)\n",
    "\n",
    "    def addclock(row):\n",
    "        if row['FirstHalf']:\n",
    "            return row['Delta'] + gamemeta['start']\n",
    "        else:\n",
    "            return row['Delta'] + gamemeta['htend']\n",
    "\n",
    "    events['WallClockTime'] = events.apply(addclock, axis=1)\n",
    "    events.index = events['WallClockTime']\n",
    "    \n",
    "    events['Margin'] = events[team1] - events[team2]\n",
    "    events['MarginChange'] = abs(events['Margin'] - events['Margin'].shift())\n",
    "    \n",
    "    marginchangets = events['Margin'].groupby([events.index.hour, events.index.minute]).mean()\n",
    "    tweetts = tweets['text'].groupby([tweets.index.hour,tweets.index.minute]).count() # /twtotal\n",
    "    \n",
    "    eventtsdf = marginchangets.to_frame()\n",
    "    tweettsdf = tweetts.to_frame()\n",
    "    \n",
    "    jointdf = tweettsdf.join(eventtsdf, how = 'outer').fillna(0)\n",
    "    jointdf.columns = [['text', 'MarginChange']] \n",
    "\n",
    "    # make plots\n",
    "    normtext = (jointdf['text'] - jointdf['text'].mean())/jointdf['text'].std()\n",
    "    normmargin = (jointdf['MarginChange'] - jointdf['MarginChange'].mean())/jointdf['MarginChange'].std()\n",
    "    plt.figure(figsize = (18,12))\n",
    "    (normtext).plot()\n",
    "    (normmargin).plot()\n",
    "    \n",
    "    # run a basic regression\n",
    "    \n",
    "#     reg = slope, intercept, r_value, p_value, slope_std_error = stats.linregress(normtext[jointdf['MarginChange'] != 0], normmargin[jointdf['MarginChange'] != 0],)\n",
    "    \n",
    "#     preds = intercept + slope*jointdf['MarginChange'].values\n",
    "\n",
    "    # Mark halftime on the plot\n",
    "    jointdf = jointdf.reset_index()\n",
    "    beginhour, beginminute = simpleconv(gamemeta['htstart']).split(':')\n",
    "    endhour, endminute = simpleconv(gamemeta['htend']).split(':')\n",
    "    jointdf[['level_0', 'level_1']] = jointdf[['level_0', 'level_1']].astype(str)\n",
    "    begid = jointdf[(jointdf['level_0'] == beginhour) & (jointdf['level_1'] == beginminute)].index\n",
    "    endid = jointdf[(jointdf['level_0'] == endhour) & (jointdf['level_1'] == endminute)].index\n",
    "    print (begid+endid)/2\n",
    "    \n",
    "    plt.title('Normalized Volume and Game Margin', fontsize = 16)\n",
    "    plt.xlabel(\"Minute in Game, {0} vs {1}\".format(team1, team2), fontsize = 16)\n",
    "    plt.ylabel('z-score', fontsize = 16)\n",
    "    plt.axvline(x=begid+1, color = 'black', ls='dashed')\n",
    "    plt.axvline(x=endid-1, color = 'black', ls='dashed')\n",
    "    plt.annotate('Halftime', xy=(((begid+endid)/2)[0]-4,str(5)), fontsize = 16)\n",
    "    plt.legend(['Tweets', 'Change in Margin'], fontsize = 16)\n",
    "    plt.savefig(team1.replace(' ', '').lower()+team2.replace(' ', '').lower()+'marginzscoreplot.pdf')\n",
    "    \n",
    "#     return (reg)"
   ]
  },
  {
   "cell_type": "code",
   "execution_count": 385,
   "metadata": {
    "collapsed": false
   },
   "outputs": [
    {
     "name": "stdout",
     "output_type": "stream",
     "text": [
      "Int64Index([62], dtype='int64')\n"
     ]
    },
    {
     "data": {
      "image/png": "[encoded data removed]",
      "text/plain": [
       "<matplotlib.figure.Figure at 0x114f88e50>"
      ]
     },
     "metadata": {},
     "output_type": "display_data"
    }
   ],
   "source": [
    "marginplot(\"Syracuse\", \"Virginia\")\n",
    "# x = x.reset_index()\n",
    "# beginhour, beginminute = simpleconv(gamemeta['htstart']).split(':')\n",
    "# endhour, endminute = simpleconv(gamemeta['htend']).split(':')\n",
    "# x[['level_0', 'level_1']] = x[['level_0', 'level_1']].astype(str)\n",
    "# begid = x[(x['level_0'] == beginhour) & (x['level_1'] == beginminute)].index\n",
    "# endid = x[(x['level_0'] == endhour) & (x['level_1'] == endminute)].index\n",
    "# # x = x.drop(['level_0', 'level_1'], axis=1)"
   ]
  },
  {
   "cell_type": "code",
   "execution_count": 319,
   "metadata": {
    "collapsed": false
   },
   "outputs": [
    {
     "data": {
      "text/plain": [
       "Int64Index([72], dtype='int64')"
      ]
     },
     "execution_count": 319,
     "metadata": {},
     "output_type": "execute_result"
    }
   ],
   "source": [
    "endid"
   ]
  },
  {
   "cell_type": "code",
   "execution_count": 35,
   "metadata": {
    "collapsed": false
   },
   "outputs": [],
   "source": [
    "tags = relvtags(400873156)"
   ]
  },
  {
   "cell_type": "code",
   "execution_count": 39,
   "metadata": {
    "collapsed": true
   },
   "outputs": [],
   "source": [
    "samp2 = addrelevance(samp2,tags)"
   ]
  },
  {
   "cell_type": "code",
   "execution_count": 37,
   "metadata": {
    "collapsed": false
   },
   "outputs": [],
   "source": [
    "eastern = pytz.timezone('US/Eastern')\n",
    "samp2.index = samp2['time'].map(lambda x : parser.parse(x).astimezone(eastern))"
   ]
  },
  {
   "cell_type": "code",
   "execution_count": 41,
   "metadata": {
    "collapsed": false
   },
   "outputs": [],
   "source": [
    "samp2['Team1RelScore'] = samp2['Team1RelScore'] * 10"
   ]
  },
  {
   "cell_type": "code",
   "execution_count": 43,
   "metadata": {
    "collapsed": true
   },
   "outputs": [],
   "source": [
    "def classlam(t):\n",
    "    cla = classifier.classify(t)\n",
    "    if cla == 'neutral' or cla == 'irrelevant':\n",
    "        return 0\n",
    "    elif cla == 'positive':\n",
    "        return 1\n",
    "    else:\n",
    "        return -1"
   ]
  },
  {
   "cell_type": "code",
   "execution_count": 44,
   "metadata": {
    "collapsed": false
   },
   "outputs": [],
   "source": [
    "samp2['Sentiments'] = samp2['text'].map(classlam)"
   ]
  },
  {
   "cell_type": "code",
   "execution_count": 46,
   "metadata": {
    "collapsed": false
   },
   "outputs": [
    {
     "data": {
      "image/png": "[encoded data removed]",
      "text/plain": [
       "<matplotlib.figure.Figure at 0x117395b10>"
      ]
     },
     "metadata": {},
     "output_type": "display_data"
    }
   ],
   "source": [
    "countts = samp2['text'].groupby([samp2.index.hour, samp2.index.minute]).count().plot()"
   ]
  },
  {
   "cell_type": "code",
   "execution_count": 84,
   "metadata": {
    "collapsed": false
   },
   "outputs": [],
   "source": [
    "gamemeta = getgamemeta('Syracuse', 'Virginia')\n",
    "\n",
    "lenhalf1, lenhalf2 = gamemeta['htstart']-gamemeta['start'], gamemeta['end']-gamemeta['htend']\n",
    "samp1['FirstHalf'] = samp1.apply(lambda r : r['PercDone'] <= 50, axis = 1)\n",
    "\n",
    "def delta(half, time):\n",
    "    if half == True:\n",
    "        return timedelta(seconds = (lenhalf1.seconds * (time/50)))\n",
    "    else:\n",
    "        return timedelta(seconds = (lenhalf2.seconds * (time/50)))\n",
    "\n",
    "samp1['Delta'] = samp1.apply(lambda r : delta(r['FirstHalf'], r['PercDone']), axis=1)\n",
    "\n",
    "def addclock(row):\n",
    "    if row['FirstHalf']:\n",
    "        return row['Delta'] + gamemeta['start']\n",
    "    else:\n",
    "        return row['Delta'] + gamemeta['htend']\n",
    "    \n",
    "samp1['WallClockTime'] = samp1.apply(addclock, axis=1)"
   ]
  },
  {
   "cell_type": "code",
   "execution_count": 86,
   "metadata": {
    "collapsed": false
   },
   "outputs": [],
   "source": [
    "samp1.index = samp1['WallClockTime']"
   ]
  },
  {
   "cell_type": "code",
   "execution_count": 87,
   "metadata": {
    "collapsed": false
   },
   "outputs": [],
   "source": [
    "evtotal = sum(samp1['Event'].groupby([samp1.index.hour, samp1.index.minute]).count())\n",
    "twtotal = sum(samp2['text'].groupby([samp2.index.hour,samp2.index.minute]).count())\n",
    "eventts = samp1['Event'].groupby([samp1.index.hour, samp1.index.minute]).count()/evtotal\n",
    "tweetts = samp2['text'].groupby([samp2.index.hour,samp2.index.minute]).count()/twtotal"
   ]
  },
  {
   "cell_type": "code",
   "execution_count": 88,
   "metadata": {
    "collapsed": false
   },
   "outputs": [],
   "source": [
    "eventtsdf = eventts.to_frame()\n",
    "tweettsdf = tweetts.to_frame()"
   ]
  },
  {
   "cell_type": "code",
   "execution_count": 97,
   "metadata": {
    "collapsed": false,
    "scrolled": false
   },
   "outputs": [
    {
     "ename": "ValueError",
     "evalue": "columns overlap but no suffix specified: Int64Index([0], dtype='int64')",
     "output_type": "error",
     "traceback": [
      "\u001b[0;31m---------------------------------------------------------------------------\u001b[0m",
      "\u001b[0;31mValueError\u001b[0m                                Traceback (most recent call last)",
      "\u001b[0;32m<ipython-input-97-45149f675fd4>\u001b[0m in \u001b[0;36m<module>\u001b[0;34m()\u001b[0m\n\u001b[0;32m----> 1\u001b[0;31m \u001b[0mjointdf\u001b[0m \u001b[0;34m=\u001b[0m \u001b[0mtweettsdf\u001b[0m\u001b[0;34m.\u001b[0m\u001b[0mjoin\u001b[0m\u001b[0;34m(\u001b[0m\u001b[0meventtsdf\u001b[0m\u001b[0;34m)\u001b[0m\u001b[0;34m.\u001b[0m\u001b[0mfillna\u001b[0m\u001b[0;34m(\u001b[0m\u001b[0;36m0\u001b[0m\u001b[0;34m)\u001b[0m\u001b[0;34m\u001b[0m\u001b[0m\n\u001b[0m",
      "\u001b[0;32m/usr/local/lib/python2.7/site-packages/pandas/core/frame.pyc\u001b[0m in \u001b[0;36mjoin\u001b[0;34m(self, other, on, how, lsuffix, rsuffix, sort)\u001b[0m\n\u001b[1;32m   4276\u001b[0m         \u001b[0;31m# For SparseDataFrame's benefit\u001b[0m\u001b[0;34m\u001b[0m\u001b[0;34m\u001b[0m\u001b[0m\n\u001b[1;32m   4277\u001b[0m         return self._join_compat(other, on=on, how=how, lsuffix=lsuffix,\n\u001b[0;32m-> 4278\u001b[0;31m                                  rsuffix=rsuffix, sort=sort)\n\u001b[0m\u001b[1;32m   4279\u001b[0m \u001b[0;34m\u001b[0m\u001b[0m\n\u001b[1;32m   4280\u001b[0m     def _join_compat(self, other, on=None, how='left', lsuffix='', rsuffix='',\n",
      "\u001b[0;32m/usr/local/lib/python2.7/site-packages/pandas/core/frame.pyc\u001b[0m in \u001b[0;36m_join_compat\u001b[0;34m(self, other, on, how, lsuffix, rsuffix, sort)\u001b[0m\n\u001b[1;32m   4290\u001b[0m             return merge(self, other, left_on=on, how=how,\n\u001b[1;32m   4291\u001b[0m                          \u001b[0mleft_index\u001b[0m\u001b[0;34m=\u001b[0m\u001b[0mon\u001b[0m \u001b[0;32mis\u001b[0m \u001b[0mNone\u001b[0m\u001b[0;34m,\u001b[0m \u001b[0mright_index\u001b[0m\u001b[0;34m=\u001b[0m\u001b[0mTrue\u001b[0m\u001b[0;34m,\u001b[0m\u001b[0;34m\u001b[0m\u001b[0m\n\u001b[0;32m-> 4292\u001b[0;31m                          suffixes=(lsuffix, rsuffix), sort=sort)\n\u001b[0m\u001b[1;32m   4293\u001b[0m         \u001b[0;32melse\u001b[0m\u001b[0;34m:\u001b[0m\u001b[0;34m\u001b[0m\u001b[0m\n\u001b[1;32m   4294\u001b[0m             \u001b[0;32mif\u001b[0m \u001b[0mon\u001b[0m \u001b[0;32mis\u001b[0m \u001b[0;32mnot\u001b[0m \u001b[0mNone\u001b[0m\u001b[0;34m:\u001b[0m\u001b[0;34m\u001b[0m\u001b[0m\n",
      "\u001b[0;32m/usr/local/lib/python2.7/site-packages/pandas/tools/merge.pyc\u001b[0m in \u001b[0;36mmerge\u001b[0;34m(left, right, how, on, left_on, right_on, left_index, right_index, sort, suffixes, copy, indicator)\u001b[0m\n\u001b[1;32m     33\u001b[0m                          \u001b[0mright_index\u001b[0m\u001b[0;34m=\u001b[0m\u001b[0mright_index\u001b[0m\u001b[0;34m,\u001b[0m \u001b[0msort\u001b[0m\u001b[0;34m=\u001b[0m\u001b[0msort\u001b[0m\u001b[0;34m,\u001b[0m \u001b[0msuffixes\u001b[0m\u001b[0;34m=\u001b[0m\u001b[0msuffixes\u001b[0m\u001b[0;34m,\u001b[0m\u001b[0;34m\u001b[0m\u001b[0m\n\u001b[1;32m     34\u001b[0m                          copy=copy, indicator=indicator)\n\u001b[0;32m---> 35\u001b[0;31m     \u001b[0;32mreturn\u001b[0m \u001b[0mop\u001b[0m\u001b[0;34m.\u001b[0m\u001b[0mget_result\u001b[0m\u001b[0;34m(\u001b[0m\u001b[0;34m)\u001b[0m\u001b[0;34m\u001b[0m\u001b[0m\n\u001b[0m\u001b[1;32m     36\u001b[0m \u001b[0;32mif\u001b[0m \u001b[0m__debug__\u001b[0m\u001b[0;34m:\u001b[0m\u001b[0;34m\u001b[0m\u001b[0m\n\u001b[1;32m     37\u001b[0m     \u001b[0mmerge\u001b[0m\u001b[0;34m.\u001b[0m\u001b[0m__doc__\u001b[0m \u001b[0;34m=\u001b[0m \u001b[0m_merge_doc\u001b[0m \u001b[0;34m%\u001b[0m \u001b[0;34m'\\nleft : DataFrame'\u001b[0m\u001b[0;34m\u001b[0m\u001b[0m\n",
      "\u001b[0;32m/usr/local/lib/python2.7/site-packages/pandas/tools/merge.pyc\u001b[0m in \u001b[0;36mget_result\u001b[0;34m(self)\u001b[0m\n\u001b[1;32m    200\u001b[0m \u001b[0;34m\u001b[0m\u001b[0m\n\u001b[1;32m    201\u001b[0m         llabels, rlabels = items_overlap_with_suffix(ldata.items, lsuf,\n\u001b[0;32m--> 202\u001b[0;31m                                                      rdata.items, rsuf)\n\u001b[0m\u001b[1;32m    203\u001b[0m \u001b[0;34m\u001b[0m\u001b[0m\n\u001b[1;32m    204\u001b[0m         \u001b[0mlindexers\u001b[0m \u001b[0;34m=\u001b[0m \u001b[0;34m{\u001b[0m\u001b[0;36m1\u001b[0m\u001b[0;34m:\u001b[0m \u001b[0mleft_indexer\u001b[0m\u001b[0;34m}\u001b[0m \u001b[0;32mif\u001b[0m \u001b[0mleft_indexer\u001b[0m \u001b[0;32mis\u001b[0m \u001b[0;32mnot\u001b[0m \u001b[0mNone\u001b[0m \u001b[0;32melse\u001b[0m \u001b[0;34m{\u001b[0m\u001b[0;34m}\u001b[0m\u001b[0;34m\u001b[0m\u001b[0m\n",
      "\u001b[0;32m/usr/local/lib/python2.7/site-packages/pandas/core/internals.pyc\u001b[0m in \u001b[0;36mitems_overlap_with_suffix\u001b[0;34m(left, lsuffix, right, rsuffix)\u001b[0m\n\u001b[1;32m   4362\u001b[0m         \u001b[0;32mif\u001b[0m \u001b[0;32mnot\u001b[0m \u001b[0mlsuffix\u001b[0m \u001b[0;32mand\u001b[0m \u001b[0;32mnot\u001b[0m \u001b[0mrsuffix\u001b[0m\u001b[0;34m:\u001b[0m\u001b[0;34m\u001b[0m\u001b[0m\n\u001b[1;32m   4363\u001b[0m             raise ValueError('columns overlap but no suffix specified: %s' %\n\u001b[0;32m-> 4364\u001b[0;31m                              to_rename)\n\u001b[0m\u001b[1;32m   4365\u001b[0m \u001b[0;34m\u001b[0m\u001b[0m\n\u001b[1;32m   4366\u001b[0m         \u001b[0;32mdef\u001b[0m \u001b[0mlrenamer\u001b[0m\u001b[0;34m(\u001b[0m\u001b[0mx\u001b[0m\u001b[0;34m)\u001b[0m\u001b[0;34m:\u001b[0m\u001b[0;34m\u001b[0m\u001b[0m\n",
      "\u001b[0;31mValueError\u001b[0m: columns overlap but no suffix specified: Int64Index([0], dtype='int64')"
     ]
    }
   ],
   "source": [
    "jointdf = tweettsdf.join(eventtsdf).fillna(0)"
   ]
  },
  {
   "cell_type": "code",
   "execution_count": 90,
   "metadata": {
    "collapsed": false
   },
   "outputs": [
    {
     "ename": "NameError",
     "evalue": "name 'jointdf' is not defined",
     "output_type": "error",
     "traceback": [
      "\u001b[0;31m---------------------------------------------------------------------------\u001b[0m",
      "\u001b[0;31mNameError\u001b[0m                                 Traceback (most recent call last)",
      "\u001b[0;32m<ipython-input-90-79e5b3c57ab2>\u001b[0m in \u001b[0;36m<module>\u001b[0;34m()\u001b[0m\n\u001b[0;32m----> 1\u001b[0;31m \u001b[0mjointdf\u001b[0m\u001b[0;34m[\u001b[0m\u001b[0;34m'text'\u001b[0m\u001b[0;34m]\u001b[0m\u001b[0;34m.\u001b[0m\u001b[0mplot\u001b[0m\u001b[0;34m(\u001b[0m\u001b[0;34m)\u001b[0m\u001b[0;34m\u001b[0m\u001b[0m\n\u001b[0m\u001b[1;32m      2\u001b[0m \u001b[0mjointdf\u001b[0m\u001b[0;34m[\u001b[0m\u001b[0;34m'Event'\u001b[0m\u001b[0;34m]\u001b[0m\u001b[0;34m.\u001b[0m\u001b[0mplot\u001b[0m\u001b[0;34m(\u001b[0m\u001b[0;34m)\u001b[0m\u001b[0;34m\u001b[0m\u001b[0m\n",
      "\u001b[0;31mNameError\u001b[0m: name 'jointdf' is not defined"
     ]
    }
   ],
   "source": [
    "jointdf['text'].plot()\n",
    "jointdf['Event'].plot()"
   ]
  },
  {
   "cell_type": "code",
   "execution_count": null,
   "metadata": {
    "collapsed": true
   },
   "outputs": [],
   "source": [
    "stats.linregress(jointdf['Event'], jointdf['text'])"
   ]
  },
  {
   "cell_type": "code",
   "execution_count": null,
   "metadata": {
    "collapsed": true
   },
   "outputs": [],
   "source": [
    "jointdf['text'].plot()\n",
    "jointdf['Event'].plot()\n",
    "plt.savefig('tweetandevent.pdf')"
   ]
  }
 ],
 "metadata": {
  "kernelspec": {
   "display_name": "Python 2",
   "language": "python",
   "name": "python2"
  },
  "language_info": {
   "codemirror_mode": {
    "name": "ipython",
    "version": 2
   },
   "file_extension": ".py",
   "mimetype": "text/x-python",
   "name": "python",
   "nbconvert_exporter": "python",
   "pygments_lexer": "ipython2",
   "version": "2.7.11"
  }
 },
 "nbformat": 4,
 "nbformat_minor": 0
}

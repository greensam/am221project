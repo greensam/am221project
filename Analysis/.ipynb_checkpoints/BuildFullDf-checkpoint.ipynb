{
 "cells": [
  {
   "cell_type": "code",
   "execution_count": 3,
   "metadata": {
    "collapsed": true
   },
   "outputs": [],
   "source": [
    "import utilities\n",
    "import pandas as pd\n",
    "from dateutil import parser"
   ]
  },
  {
   "cell_type": "code",
   "execution_count": 4,
   "metadata": {
    "collapsed": false
   },
   "outputs": [],
   "source": [
    "def buildfulldf(system='Sam'):\n",
    "    metadata = pd.read_csv('GameMetadata.csv')\n",
    "    df = pd.DataFrame()\n",
    "    errorcount = 0\n",
    "    teampairs= []\n",
    "    for row in metadata.iterrows():\n",
    "        row = row[1]\n",
    "        \n",
    "        team1 = row['Team1']\n",
    "        team2 = row['Team2']\n",
    "        \n",
    "        teampairs.append((team1,team2))\n",
    "\n",
    "    return teampairs\n",
    "\n",
    "        \n",
    "#         try:\n",
    "#             events,tweets = utilities.databytime(team1, team2, start, end)\n",
    "#         except Exception as e:\n",
    "#             errorcount += 1\n",
    "#             print e, team1, team2\n",
    "#             continue\n",
    "#     print errorcount\n",
    "        "
   ]
  },
  {
   "cell_type": "code",
   "execution_count": 5,
   "metadata": {
    "collapsed": false,
    "scrolled": true
   },
   "outputs": [
    {
     "data": {
      "text/plain": [
       "[('Middle Tennessee', 'Michigan State'),\n",
       " ('Holy Cross', 'Oregon'),\n",
       " ('UNC Asheville', 'Villanova'),\n",
       " ('CSU Bakersfield', 'Oklahoma'),\n",
       " ('Stephen F. Austin', 'West Virginia'),\n",
       " ('Weber State', 'Xavier'),\n",
       " ('Green Bay', 'Texas A&M'),\n",
       " ('South Dakota State', 'Maryland'),\n",
       " ('Hawaii', 'California'),\n",
       " ('Temple', 'Iowa'),\n",
       " ('Syracuse', 'Dayton'),\n",
       " ('VCU', 'Oregon State'),\n",
       " ('Pittsburgh', 'Wisconsin'),\n",
       " ('Northern Iowa', 'Texas'),\n",
       " ('Michigan', 'Notre Dame'),\n",
       " ('Cincinnati', \"Saint Joseph's\"),\n",
       " ('Connecticut', 'Kansas'),\n",
       " ('UNC', 'Providence'),\n",
       " ('Butler', 'Virginia'),\n",
       " ('Wichita State', 'Miami'),\n",
       " ('Indiana', 'Kentucky'),\n",
       " ('Gonzaga', 'Utah'),\n",
       " ('Yale', 'Duke'),\n",
       " ('Arkansas-Little Rock', 'Iowa State'),\n",
       " (\"Saint Joseph's\", 'Oregon'),\n",
       " ('Iowa', 'Villanova'),\n",
       " ('VCU', 'Oklahoma'),\n",
       " ('Wisconsin', 'Xavier'),\n",
       " ('Northern Iowa', 'Texas A&M'),\n",
       " ('Hawaii', 'Maryland'),\n",
       " ('Stephen F. Austin', 'Notre Dame'),\n",
       " ('Middle Tennessee', 'Syracuse'),\n",
       " ('Maryland', 'Kansas'),\n",
       " ('Duke', 'Oregon'),\n",
       " ('Miami', 'Villanova'),\n",
       " ('Texas A&M', 'Oklahoma'),\n",
       " ('UNC', 'Indiana'),\n",
       " ('Gonzaga', 'Syracuse'),\n",
       " ('Oklahoma', 'Oregon'),\n",
       " ('Villanova', 'Kansas'),\n",
       " ('Syracuse', 'Virginia'),\n",
       " ('UNC', 'Notre Dame'),\n",
       " ('UNC', 'Villanova'),\n",
       " (nan, nan),\n",
       " (nan, nan),\n",
       " (nan, nan),\n",
       " (nan, nan),\n",
       " (nan, nan),\n",
       " (nan, nan),\n",
       " (nan, nan),\n",
       " (nan, nan),\n",
       " (nan, nan),\n",
       " (nan, nan)]"
      ]
     },
     "execution_count": 5,
     "metadata": {},
     "output_type": "execute_result"
    }
   ],
   "source": [
    "buildfulldf()"
   ]
  },
  {
   "cell_type": "code",
   "execution_count": null,
   "metadata": {
    "collapsed": true
   },
   "outputs": [],
   "source": []
  }
 ],
 "metadata": {
  "kernelspec": {
   "display_name": "Python 2",
   "language": "python",
   "name": "python2"
  },
  "language_info": {
   "codemirror_mode": {
    "name": "ipython",
    "version": 2
   },
   "file_extension": ".py",
   "mimetype": "text/x-python",
   "name": "python",
   "nbconvert_exporter": "python",
   "pygments_lexer": "ipython2",
   "version": "2.7.11"
  }
 },
 "nbformat": 4,
 "nbformat_minor": 0
}

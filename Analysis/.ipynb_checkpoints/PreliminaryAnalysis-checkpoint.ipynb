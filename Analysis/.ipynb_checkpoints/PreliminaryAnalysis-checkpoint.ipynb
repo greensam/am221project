{
 "cells": [
  {
   "cell_type": "code",
   "execution_count": 1,
   "metadata": {
    "collapsed": true
   },
   "outputs": [],
   "source": [
    "%matplotlib inline\n",
    "import pandas as pd\n",
    "import numpy as np\n",
    "import unicodecsv as csv\n",
    "from dateutil import parser\n",
    "import pytz\n",
    "import matplotlib.pyplot as plt"
   ]
  },
  {
   "cell_type": "code",
   "execution_count": 2,
   "metadata": {
    "collapsed": true
   },
   "outputs": [],
   "source": [
    "datadirpath = '/Users/SamuelGreen/Dropbox/__JuniorSpring/AM221/Project/separated/'\n",
    "metadatafile = 'GameMetadata.csv'"
   ]
  },
  {
   "cell_type": "code",
   "execution_count": 3,
   "metadata": {
    "collapsed": false
   },
   "outputs": [],
   "source": [
    "# read metadata\n",
    "metadata = pd.read_csv(metadatafile)\n",
    "# convert metadata to date format"
   ]
  },
  {
   "cell_type": "code",
   "execution_count": 4,
   "metadata": {
    "collapsed": false
   },
   "outputs": [
    {
     "data": {
      "text/html": [
       "<div style=\"max-height:1000px;max-width:1500px;overflow:auto;\">\n",
       "<table border=\"1\" class=\"dataframe\">\n",
       "  <thead>\n",
       "    <tr style=\"text-align: right;\">\n",
       "      <th></th>\n",
       "      <th>Filename</th>\n",
       "      <th>Filename_old</th>\n",
       "      <th>espn_id</th>\n",
       "      <th>Round</th>\n",
       "      <th>StartDate</th>\n",
       "      <th>EndDate</th>\n",
       "      <th>Team1</th>\n",
       "      <th>Team2</th>\n",
       "      <th>Start</th>\n",
       "      <th>End</th>\n",
       "      <th>End Time Source</th>\n",
       "      <th>DT_Start</th>\n",
       "      <th>DT_End</th>\n",
       "    </tr>\n",
       "  </thead>\n",
       "  <tbody>\n",
       "    <tr>\n",
       "      <th>0</th>\n",
       "      <td>MichStateMiddTenn_clean.csv</td>\n",
       "      <td>MichStateMiddTenn.csv</td>\n",
       "      <td>400871286</td>\n",
       "      <td>R64</td>\n",
       "      <td>18-Mar</td>\n",
       "      <td>18-Mar</td>\n",
       "      <td>Middle Tennessee</td>\n",
       "      <td>Michigan State</td>\n",
       "      <td>14:50</td>\n",
       "      <td>16:54</td>\n",
       "      <td>https://twitter.com/marchmadness/status/710932...</td>\n",
       "      <td>3/18/2016 14:50:00</td>\n",
       "      <td>3/18/2016 16:54:00</td>\n",
       "    </tr>\n",
       "  </tbody>\n",
       "</table>\n",
       "</div>"
      ],
      "text/plain": [
       "                      Filename           Filename_old    espn_id Round  \\\n",
       "0  MichStateMiddTenn_clean.csv  MichStateMiddTenn.csv  400871286   R64   \n",
       "\n",
       "  StartDate EndDate             Team1           Team2  Start    End  \\\n",
       "0    18-Mar  18-Mar  Middle Tennessee  Michigan State  14:50  16:54   \n",
       "\n",
       "                                     End Time Source            DT_Start  \\\n",
       "0  https://twitter.com/marchmadness/status/710932...  3/18/2016 14:50:00   \n",
       "\n",
       "               DT_End  \n",
       "0  3/18/2016 16:54:00  "
      ]
     },
     "execution_count": 4,
     "metadata": {},
     "output_type": "execute_result"
    }
   ],
   "source": [
    "testgame = metadata[0:1]\n",
    "testgame"
   ]
  },
  {
   "cell_type": "code",
   "execution_count": 5,
   "metadata": {
    "collapsed": true
   },
   "outputs": [],
   "source": [
    "\"\"\"\n",
    "Given a row of gamemetadate with the expected format,\n",
    "pulls out the data and filters it on the start \n",
    "and end time of the game. \n",
    "\n",
    "Likely bugs: not handling start and end times of the game intelligently for a.m./p.m. \n",
    "corner case, but should allow for analysis for most games\n",
    "\"\"\"\n",
    "def getandfilter(gamemeta):\n",
    "    datapath = datadirpath + gamemeta['Filename']\n",
    "    startstr = gamemeta['DT_Start']\n",
    "    endstr = gamemeta['DT_End']\n",
    "    \n",
    "    start = parser.parse(startstr)\n",
    "    end = parser.parse(endstr)\n",
    "\n",
    "    eastern = pytz.timezone('US/Eastern')\n",
    "    df = pd.read_csv(datapath)\n",
    "    try:\n",
    "        df = df[pd.notnull(df['time'])]\n",
    "        df['time'] = df['time'].apply(lambda x: parser.parse(x).astimezone(eastern))\n",
    "    except:\n",
    "        print gamemeta['Filename'], 'not converted to datetime in file'\n",
    "        return None\n",
    "    \n",
    "    df.index = df['time']\n",
    "    del df['time']\n",
    "    df = df.between_time(start, end)\n",
    "    return df"
   ]
  },
  {
   "cell_type": "code",
   "execution_count": null,
   "metadata": {
    "collapsed": false
   },
   "outputs": [
    {
     "name": "stdout",
     "output_type": "stream",
     "text": [
      "MichStateMiddTenn_clean.csv not converted to datetime in file\n",
      "None or Empty: MichStateMiddTenn_clean.csv\n",
      "None or Empty: TexasNorthernIowa_clean.csv\n",
      "None or Empty: NDMichigan_clean.csv\n",
      "None or Empty: StJosephsCincinnati_clean.csv\n",
      "UNCProvidence_clean.csv not converted to datetime in file\n",
      "None or Empty: UNCProvidence_clean.csv\n",
      "None or Empty:"
     ]
    }
   ],
   "source": [
    "count = 0\n",
    "for row in metadata.iterrows():\n",
    "    df = getandfilter(row[1])\n",
    "    if not df is None and not df.empty:\n",
    "        ax = df.groupby([df.index.hour,df.index.minute]).count().plot()\n",
    "        fig = ax.get_figure()\n",
    "        fig.savefig('{0}_timeseries.pdf'.format(row[1]['Filename'].split('.csv')[0]))\n",
    "        plt.close()\n",
    "    else:\n",
    "        print \"None or Empty:\", row[1]['Filename']\n",
    "    count = count + 1\n",
    "    if count > 2:\n",
    "        break\n"
   ]
  },
  {
   "cell_type": "code",
   "execution_count": null,
   "metadata": {
    "collapsed": true
   },
   "outputs": [],
   "source": []
  }
 ],
 "metadata": {
  "kernelspec": {
   "display_name": "Python 2",
   "language": "python",
   "name": "python2"
  },
  "language_info": {
   "codemirror_mode": {
    "name": "ipython",
    "version": 2
   },
   "file_extension": ".py",
   "mimetype": "text/x-python",
   "name": "python",
   "nbconvert_exporter": "python",
   "pygments_lexer": "ipython2",
   "version": "2.7.11"
  }
 },
 "nbformat": 4,
 "nbformat_minor": 0
}

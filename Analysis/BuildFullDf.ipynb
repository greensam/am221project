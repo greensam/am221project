{
 "cells": [
  {
   "cell_type": "code",
   "execution_count": 1,
   "metadata": {
    "collapsed": false
   },
   "outputs": [],
   "source": [
    "import utilities\n",
    "import pandas as pd\n",
    "from dateutil import parser"
   ]
  },
  {
   "cell_type": "code",
   "execution_count": 6,
   "metadata": {
    "collapsed": true
   },
   "outputs": [],
   "source": [
    "metadata = pd.read_csv('GameMetadata.csv')\n",
    "espns = metadata['espn_id']"
   ]
  },
  {
   "cell_type": "code",
   "execution_count": 4,
   "metadata": {
    "collapsed": false
   },
   "outputs": [],
   "source": [
    "def buildfulldf(system='Sam'):\n",
    "    del metadata['Filename_old']\n",
    "    del metadata['End Time Source']\n",
    "    del metadata['Round']\n",
    "    \n",
    "    dfs = []\n",
    "    for md in metadata.iterrows():\n",
    "        row = md[1]\n",
    "        \n",
    "        try:\n",
    "            df = utilities.databytime2(row['Team1'],\n",
    "                                    row['Team2'],\n",
    "                                   row['espn_id'],\n",
    "                                   row['Start'],\n",
    "                                   row['End'],\n",
    "                                  '../separated/'+row['Filename'])\n",
    "            dfs.append(df)\n",
    "            \n",
    "        except Exception as e:\n",
    "            print e\n",
    "            print row['Team1'], row['Team2']\n",
    "        \n",
    "    return dfs\n",
    "        "
   ]
  },
  {
   "cell_type": "code",
   "execution_count": 12,
   "metadata": {
    "collapsed": false
   },
   "outputs": [
    {
     "name": "stdout",
     "output_type": "stream",
     "text": [
      "400871286\n"
     ]
    }
   ],
   "source": [
    "for id in espns:\n",
    "    try:\n",
    "        utilities.ncaatrendgraph(id)\n",
    "    except:\n",
    "        print id\n",
    "        break"
   ]
  },
  {
   "cell_type": "code",
   "execution_count": null,
   "metadata": {
    "collapsed": true
   },
   "outputs": [],
   "source": []
  }
 ],
 "metadata": {
  "kernelspec": {
   "display_name": "Python 2",
   "language": "python",
   "name": "python2"
  },
  "language_info": {
   "codemirror_mode": {
    "name": "ipython",
    "version": 2
   },
   "file_extension": ".py",
   "mimetype": "text/x-python",
   "name": "python",
   "nbconvert_exporter": "python",
   "pygments_lexer": "ipython2",
   "version": "2.7.11"
  }
 },
 "nbformat": 4,
 "nbformat_minor": 0
}

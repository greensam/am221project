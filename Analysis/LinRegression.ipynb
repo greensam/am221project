{
 "cells": [
  {
   "cell_type": "code",
   "execution_count": 2,
   "metadata": {
    "collapsed": false
   },
   "outputs": [],
   "source": [
    "import pandas as pd\n",
    "from datetime import datetime, timedelta\n",
    "from dateutil import parser\n",
    "import random\n",
    "import utilities\n",
    "\n",
    "%matplotlib inline\n",
    "import matplotlib.pyplot as plt"
   ]
  },
  {
   "cell_type": "code",
   "execution_count": 3,
   "metadata": {
    "collapsed": true
   },
   "outputs": [],
   "source": [
    "from scipy import stats"
   ]
  },
  {
   "cell_type": "code",
   "execution_count": 4,
   "metadata": {
    "collapsed": false
   },
   "outputs": [],
   "source": [
    "metas = utilities.loadmetadata()"
   ]
  },
  {
   "cell_type": "code",
   "execution_count": 5,
   "metadata": {
    "collapsed": false
   },
   "outputs": [],
   "source": [
    "r = next(metas.iterrows())[1]"
   ]
  },
  {
   "cell_type": "code",
   "execution_count": 7,
   "metadata": {
    "collapsed": false
   },
   "outputs": [
    {
     "name": "stderr",
     "output_type": "stream",
     "text": [
      "utilities.py:172: SettingWithCopyWarning: \n",
      "A value is trying to be set on a copy of a slice from a DataFrame.\n",
      "Try using .loc[row_indexer,col_indexer] = value instead\n",
      "\n",
      "See the the caveats in the documentation: http://pandas.pydata.org/pandas-docs/stable/indexing.html#indexing-view-versus-copy\n",
      "  dt2['time'] = tweets['time'].map(lambda t : parser.parse(t).replace(tzinfo=None))\n",
      "utilities.py:109: SettingWithCopyWarning: \n",
      "A value is trying to be set on a copy of a slice from a DataFrame.\n",
      "Try using .loc[row_indexer,col_indexer] = value instead\n",
      "\n",
      "See the the caveats in the documentation: http://pandas.pydata.org/pandas-docs/stable/indexing.html#indexing-view-versus-copy\n",
      "  df['sentiment'] = df['text'].map(lambda x : classifier.classify(x))\n",
      "utilities.py:118: SettingWithCopyWarning: \n",
      "A value is trying to be set on a copy of a slice from a DataFrame.\n",
      "Try using .loc[row_indexer,col_indexer] = value instead\n",
      "\n",
      "See the the caveats in the documentation: http://pandas.pydata.org/pandas-docs/stable/indexing.html#indexing-view-versus-copy\n",
      "  df['sentnum'] = df['sentiment'].map(lambda s : senttonum(s))\n",
      "relevance.py:143: SettingWithCopyWarning: \n",
      "A value is trying to be set on a copy of a slice from a DataFrame.\n",
      "Try using .loc[row_indexer,col_indexer] = value instead\n",
      "\n",
      "See the the caveats in the documentation: http://pandas.pydata.org/pandas-docs/stable/indexing.html#indexing-view-versus-copy\n",
      "  df['Team1RelWords'] = df['text'].map(lambda t : textchecksingle(t, tags[0]))\n",
      "relevance.py:144: SettingWithCopyWarning: \n",
      "A value is trying to be set on a copy of a slice from a DataFrame.\n",
      "Try using .loc[row_indexer,col_indexer] = value instead\n",
      "\n",
      "See the the caveats in the documentation: http://pandas.pydata.org/pandas-docs/stable/indexing.html#indexing-view-versus-copy\n",
      "  df['Team2RelWords'] = df['text'].map(lambda t : textchecksingle(t,tags[1]))\n",
      "relevance.py:149: SettingWithCopyWarning: \n",
      "A value is trying to be set on a copy of a slice from a DataFrame.\n",
      "Try using .loc[row_indexer,col_indexer] = value instead\n",
      "\n",
      "See the the caveats in the documentation: http://pandas.pydata.org/pandas-docs/stable/indexing.html#indexing-view-versus-copy\n",
      "  df['Team1RelScore'] = df['Team1RelWords'].map(lambda t : float(len(t))/t1len)\n",
      "relevance.py:150: SettingWithCopyWarning: \n",
      "A value is trying to be set on a copy of a slice from a DataFrame.\n",
      "Try using .loc[row_indexer,col_indexer] = value instead\n",
      "\n",
      "See the the caveats in the documentation: http://pandas.pydata.org/pandas-docs/stable/indexing.html#indexing-view-versus-copy\n",
      "  df['Team2RelScore'] = df['Team2RelWords'].map(lambda t : float(len(t))/t2len)\n",
      "relevance.py:152: SettingWithCopyWarning: \n",
      "A value is trying to be set on a copy of a slice from a DataFrame.\n",
      "Try using .loc[row_indexer,col_indexer] = value instead\n",
      "\n",
      "See the the caveats in the documentation: http://pandas.pydata.org/pandas-docs/stable/indexing.html#indexing-view-versus-copy\n",
      "  df['Team1Indc'] = df['Team1RelScore'].map(lambda t: math.ceil(t))\n",
      "relevance.py:153: SettingWithCopyWarning: \n",
      "A value is trying to be set on a copy of a slice from a DataFrame.\n",
      "Try using .loc[row_indexer,col_indexer] = value instead\n",
      "\n",
      "See the the caveats in the documentation: http://pandas.pydata.org/pandas-docs/stable/indexing.html#indexing-view-versus-copy\n",
      "  df['Team2Indc'] = df['Team2RelScore'].map(lambda t: math.ceil(t))\n",
      "relevance.py:158: SettingWithCopyWarning: \n",
      "A value is trying to be set on a copy of a slice from a DataFrame.\n",
      "Try using .loc[row_indexer,col_indexer] = value instead\n",
      "\n",
      "See the the caveats in the documentation: http://pandas.pydata.org/pandas-docs/stable/indexing.html#indexing-view-versus-copy\n",
      "  df['Team1'] = team1\n",
      "relevance.py:159: SettingWithCopyWarning: \n",
      "A value is trying to be set on a copy of a slice from a DataFrame.\n",
      "Try using .loc[row_indexer,col_indexer] = value instead\n",
      "\n",
      "See the the caveats in the documentation: http://pandas.pydata.org/pandas-docs/stable/indexing.html#indexing-view-versus-copy\n",
      "  df['Team2'] = team2\n"
     ]
    }
   ],
   "source": [
    "events, tweets = utilities.fullgame(r)"
   ]
  },
  {
   "cell_type": "code",
   "execution_count": 7,
   "metadata": {
    "collapsed": true
   },
   "outputs": [],
   "source": [
    "tweets.index = tweets['time']\n",
    "events.index = events['WallClockTime']"
   ]
  },
  {
   "cell_type": "code",
   "execution_count": 8,
   "metadata": {
    "collapsed": false
   },
   "outputs": [],
   "source": [
    "amonth, aday = tweets['time'].iloc[0].month, tweets['time'].iloc[0].day\n",
    "startgame = list(events[events['Seconds'] == 0]['WallClockTime'])[0]\n",
    "endgame = list(events[events['Seconds'] == 0]['WallClockTime'])[-1]\n",
    "\n",
    "lenhalf = 20*60\n",
    "lengame = (endgame - startgame).seconds\n",
    "halfbegin = startgame + timedelta(seconds = lengame/2 - lenhalf/2)\n",
    "halfend = startgame + timedelta(seconds = lengame/2 + lenhalf/2)"
   ]
  },
  {
   "cell_type": "code",
   "execution_count": 9,
   "metadata": {
    "collapsed": false
   },
   "outputs": [],
   "source": [
    "events.index = events['WallClockTime']"
   ]
  },
  {
   "cell_type": "code",
   "execution_count": 10,
   "metadata": {
    "collapsed": false
   },
   "outputs": [],
   "source": [
    "filt_tweets = tweets[(tweets['time'] <= halfbegin) | (tweets['time'] >= halfend)]"
   ]
  },
  {
   "cell_type": "code",
   "execution_count": 11,
   "metadata": {
    "collapsed": false
   },
   "outputs": [
    {
     "data": {
      "text/plain": [
       "(11089, 11)"
      ]
     },
     "execution_count": 11,
     "metadata": {},
     "output_type": "execute_result"
    }
   ],
   "source": [
    "filt_tweets.shape"
   ]
  },
  {
   "cell_type": "code",
   "execution_count": 12,
   "metadata": {
    "collapsed": false
   },
   "outputs": [],
   "source": [
    "tweetavgs = filt_tweets['sentnum'].groupby([filt_tweets.index.hour, filt_tweets.index.minute]).mean()\n",
    "eventavgs = events['Margin'].groupby([events.index.hour, events.index.minute]).mean()"
   ]
  },
  {
   "cell_type": "code",
   "execution_count": 13,
   "metadata": {
    "collapsed": false
   },
   "outputs": [],
   "source": [
    "joint = tweetavgs.to_frame().join(eventavgs.to_frame()).fillna(0)"
   ]
  },
  {
   "cell_type": "code",
   "execution_count": 16,
   "metadata": {
    "collapsed": false
   },
   "outputs": [
    {
     "data": {
      "text/plain": [
       "LinregressResult(slope=4.0668512859494523, intercept=5.4195888279151179, rvalue=0.14290413705667965, pvalue=0.14986155256096279, stderr=2.8026728397016218)"
      ]
     },
     "execution_count": 16,
     "metadata": {},
     "output_type": "execute_result"
    }
   ],
   "source": [
    "stats.linregress(joint['sentnum'].ix[:-1], joint['Margin'].shift().dropna())"
   ]
  },
  {
   "cell_type": "code",
   "execution_count": 24,
   "metadata": {
    "collapsed": false
   },
   "outputs": [],
   "source": [
    "def marginsentimentregression(row, sumflag = False):\n",
    "    # get appropriate data\n",
    "    events, tweets = utilities.fullgame(r)\n",
    "    \n",
    "    # convert indices to time series\n",
    "    tweets.index = tweets['time']\n",
    "    events.index = events['WallClockTime']\n",
    "    \n",
    "    # calculate the wallclock start and end time of the game\n",
    "    amonth, aday = tweets['time'].iloc[0].month, tweets['time'].iloc[0].day\n",
    "    startgame = list(events[events['Seconds'] == 0]['WallClockTime'])[0]\n",
    "    endgame = list(events[events['Seconds'] == 0]['WallClockTime'])[-1]\n",
    "    \n",
    "    # estimate the beginning and end of halftime on the clock\n",
    "    lenhalf = 20*60\n",
    "    lengame = (endgame - startgame).seconds\n",
    "    halfbegin = startgame + timedelta(seconds = lengame/2 - lenhalf/2)\n",
    "    halfend = startgame + timedelta(seconds = lengame/2 + lenhalf/2)\n",
    "    \n",
    "    # filter out half-time tweets to avoid obscuring the regression\n",
    "    filt_tweets = tweets[(tweets['time'] <= halfbegin) | (tweets['time'] >= halfend)]\n",
    "    \n",
    "    # flatten to minute by minute averages\n",
    "    if sumflag:\n",
    "        def weightneg(x):\n",
    "            if x == -1:\n",
    "                return x*2\n",
    "            else:\n",
    "                return x\n",
    "        filt_tweets['sentnum'] = filt_tweets['sentnum'].map(weightneg)\n",
    "        tweetavgs = filt_tweets['sentnum'].groupby([filt_tweets.index.hour, filt_tweets.index.minute]).sum()\n",
    "    else:\n",
    "        tweetavgs = filt_tweets['sentnum'].groupby([filt_tweets.index.hour, filt_tweets.index.minute]).mean()\n",
    "    eventavgs = events['Margin'].groupby([events.index.hour, events.index.minute]).mean()\n",
    "    \n",
    "    # pair the data\n",
    "    joint = tweetavgs.to_frame().join(eventavgs.to_frame()).fillna(0)\n",
    "    \n",
    "    # compute the regression\n",
    "    return stats.linregress(joint['sentnum'].ix[:-1], joint['Margin'].shift().dropna())\n",
    "    "
   ]
  }
 ],
 "metadata": {
  "kernelspec": {
   "display_name": "Python 2",
   "language": "python",
   "name": "python2"
  },
  "language_info": {
   "codemirror_mode": {
    "name": "ipython",
    "version": 2
   },
   "file_extension": ".py",
   "mimetype": "text/x-python",
   "name": "python",
   "nbconvert_exporter": "python",
   "pygments_lexer": "ipython2",
   "version": "2.7.11"
  }
 },
 "nbformat": 4,
 "nbformat_minor": 0
}

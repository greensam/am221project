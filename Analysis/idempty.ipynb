{
 "cells": [
  {
   "cell_type": "code",
   "execution_count": 5,
   "metadata": {
    "collapsed": false
   },
   "outputs": [],
   "source": [
    "import pandas as pd\n",
    "from datetime import datetime\n",
    "import random\n",
    "import utilities"
   ]
  },
  {
   "cell_type": "code",
   "execution_count": 6,
   "metadata": {
    "collapsed": true
   },
   "outputs": [],
   "source": [
    "metas = pd.read_csv('GameMetadata.csv')"
   ]
  },
  {
   "cell_type": "code",
   "execution_count": 7,
   "metadata": {
    "collapsed": true
   },
   "outputs": [],
   "source": [
    "dfs = []\n",
    "eventdfs = []"
   ]
  },
  {
   "cell_type": "code",
   "execution_count": 8,
   "metadata": {
    "collapsed": false
   },
   "outputs": [
    {
     "name": "stderr",
     "output_type": "stream",
     "text": [
      "utilities.py:148: SettingWithCopyWarning: \n",
      "A value is trying to be set on a copy of a slice from a DataFrame.\n",
      "Try using .loc[row_indexer,col_indexer] = value instead\n",
      "\n",
      "See the the caveats in the documentation: http://pandas.pydata.org/pandas-docs/stable/indexing.html#indexing-view-versus-copy\n",
      "  dt2['time'] = tweets['time'].map(lambda t : parser.parse(t).replace(tzinfo=None))\n",
      "utilities.py:96: SettingWithCopyWarning: \n",
      "A value is trying to be set on a copy of a slice from a DataFrame.\n",
      "Try using .loc[row_indexer,col_indexer] = value instead\n",
      "\n",
      "See the the caveats in the documentation: http://pandas.pydata.org/pandas-docs/stable/indexing.html#indexing-view-versus-copy\n",
      "  df['sentiment'] = df['text'].map(lambda x : classifier.classify(x))\n",
      "relevance.py:143: SettingWithCopyWarning: \n",
      "A value is trying to be set on a copy of a slice from a DataFrame.\n",
      "Try using .loc[row_indexer,col_indexer] = value instead\n",
      "\n",
      "See the the caveats in the documentation: http://pandas.pydata.org/pandas-docs/stable/indexing.html#indexing-view-versus-copy\n",
      "  df['Team1RelWords'] = df['text'].map(lambda t : textchecksingle(t, tags[0]))\n",
      "relevance.py:144: SettingWithCopyWarning: \n",
      "A value is trying to be set on a copy of a slice from a DataFrame.\n",
      "Try using .loc[row_indexer,col_indexer] = value instead\n",
      "\n",
      "See the the caveats in the documentation: http://pandas.pydata.org/pandas-docs/stable/indexing.html#indexing-view-versus-copy\n",
      "  df['Team2RelWords'] = df['text'].map(lambda t : textchecksingle(t,tags[1]))\n",
      "relevance.py:149: SettingWithCopyWarning: \n",
      "A value is trying to be set on a copy of a slice from a DataFrame.\n",
      "Try using .loc[row_indexer,col_indexer] = value instead\n",
      "\n",
      "See the the caveats in the documentation: http://pandas.pydata.org/pandas-docs/stable/indexing.html#indexing-view-versus-copy\n",
      "  df['Team1RelScore'] = df['Team1RelWords'].map(lambda t : float(len(t))/t1len)\n",
      "relevance.py:150: SettingWithCopyWarning: \n",
      "A value is trying to be set on a copy of a slice from a DataFrame.\n",
      "Try using .loc[row_indexer,col_indexer] = value instead\n",
      "\n",
      "See the the caveats in the documentation: http://pandas.pydata.org/pandas-docs/stable/indexing.html#indexing-view-versus-copy\n",
      "  df['Team2RelScore'] = df['Team2RelWords'].map(lambda t : float(len(t))/t2len)\n",
      "relevance.py:152: SettingWithCopyWarning: \n",
      "A value is trying to be set on a copy of a slice from a DataFrame.\n",
      "Try using .loc[row_indexer,col_indexer] = value instead\n",
      "\n",
      "See the the caveats in the documentation: http://pandas.pydata.org/pandas-docs/stable/indexing.html#indexing-view-versus-copy\n",
      "  df['Team1Indc'] = df['Team1RelScore'].map(lambda t: math.ceil(t))\n",
      "relevance.py:153: SettingWithCopyWarning: \n",
      "A value is trying to be set on a copy of a slice from a DataFrame.\n",
      "Try using .loc[row_indexer,col_indexer] = value instead\n",
      "\n",
      "See the the caveats in the documentation: http://pandas.pydata.org/pandas-docs/stable/indexing.html#indexing-view-versus-copy\n",
      "  df['Team2Indc'] = df['Team2RelScore'].map(lambda t: math.ceil(t))\n",
      "relevance.py:158: SettingWithCopyWarning: \n",
      "A value is trying to be set on a copy of a slice from a DataFrame.\n",
      "Try using .loc[row_indexer,col_indexer] = value instead\n",
      "\n",
      "See the the caveats in the documentation: http://pandas.pydata.org/pandas-docs/stable/indexing.html#indexing-view-versus-copy\n",
      "  df['Team1'] = team1\n",
      "relevance.py:159: SettingWithCopyWarning: \n",
      "A value is trying to be set on a copy of a slice from a DataFrame.\n",
      "Try using .loc[row_indexer,col_indexer] = value instead\n",
      "\n",
      "See the the caveats in the documentation: http://pandas.pydata.org/pandas-docs/stable/indexing.html#indexing-view-versus-copy\n",
      "  df['Team2'] = team2\n"
     ]
    },
    {
     "name": "stdout",
     "output_type": "stream",
     "text": [
      "trying MichStateMiddTenn_clean.csv\n",
      "trying OregonHC_clean.csv\n",
      "trying VillanovaAsheville_clean.csv\n",
      "trying OklaCSU_clean.csv\n",
      "trying WvuSFA_clean.csv\n",
      "trying XavierWeberState_clean.csv\n",
      "trying TexasGB_clean.csv\n",
      "trying MarylandSDSU_clean.csv\n",
      "trying CalHawaii_clean.csv\n",
      "trying IowaTemple_clean.csv\n",
      "trying DaytonSyracuse_clean.csv\n",
      "trying OregonStateVCU_clean.csv\n",
      "trying WiscoPit_clean.csv\n",
      "trying TexasNorthernIowa_clean.csv\n",
      "trying NDMichigan_clean.csv\n",
      "trying StJosephsCincinnati_clean.csv\n",
      "trying KansasConn_clean.csv\n",
      "trying UNCProvidence_clean.csv\n",
      "trying UVAButler_clean.csv\n",
      "trying MiamiWichita_clean.csv\n",
      "trying KentuckyIndiana_clean.csv\n",
      "trying UtahGonzaga_clean.csv\n",
      "trying DukeYale_clean.csv\n",
      "trying IowaStateALR_clean.csv\n",
      "trying OregonStJoes_clean.csv\n",
      "trying IowaVillanova_clean.csv\n",
      "trying vcuok_clean.csv\n",
      "trying WisconsonXavier_clean.csv\n",
      "trying UNITexasAM_clean.csv\n",
      "trying MdHawaii_clean.csv\n",
      "trying NDSFAustin_clean.csv\n",
      "trying SyracuseMTSU_clean.csv\n",
      "trying MDKansas_clean.csv\n",
      "trying DukeOregon_clean.csv\n",
      "trying MiamiNova_clean.csv\n",
      "trying TexAMOkla_clean.csv\n",
      "trying IndianaUnc_clean.csv\n",
      "trying GonzagaSyracuse_clean.csv\n",
      "'float' object has no attribute 'split'\n",
      "GonzagaSyracuse_clean.csv failed\n",
      "trying OregonOkla_clean.csv\n",
      "'float' object has no attribute 'split'\n",
      "OregonOkla_clean.csv failed\n",
      "trying KansasVillanova_clean.csv\n",
      "trying UVAcuse_clean.csv\n",
      "trying UncND_clean.csv\n",
      "trying UNCVillanova_clean.csv\n",
      "'float' object has no attribute 'split'\n",
      "UNCVillanova_clean.csv failed\n"
     ]
    },
    {
     "name": "stderr",
     "output_type": "stream",
     "text": [
      "utilities.py:159: SettingWithCopyWarning: \n",
      "A value is trying to be set on a copy of a slice from a DataFrame.\n",
      "Try using .loc[row_indexer,col_indexer] = value instead\n",
      "\n",
      "See the the caveats in the documentation: http://pandas.pydata.org/pandas-docs/stable/indexing.html#indexing-view-versus-copy\n",
      "  dt2['time'] = dt2['time'].map(lambda t : parser.parse(t).replace(tzinfo=None))\n"
     ]
    }
   ],
   "source": [
    "for md in metas.iterrows():\n",
    "    row = md[1]\n",
    "    print 'trying', row['Filename']\n",
    "    try:\n",
    "        events, tweets = utilities.fullgame(row)\n",
    "        dfs.append(tweets)\n",
    "        eventdfs.append(eventdfs)\n",
    "    except Exception as e:\n",
    "        print e\n",
    "        print row['Filename'], 'failed'"
   ]
  },
  {
   "cell_type": "code",
   "execution_count": 10,
   "metadata": {
    "collapsed": false
   },
   "outputs": [],
   "source": [
    "fulldf = pd.concat(dfs)"
   ]
  },
  {
   "cell_type": "code",
   "execution_count": 12,
   "metadata": {
    "collapsed": true
   },
   "outputs": [],
   "source": [
    "fulldf.to_csv('fulldataset.csv')"
   ]
  },
  {
   "cell_type": "code",
   "execution_count": null,
   "metadata": {
    "collapsed": true
   },
   "outputs": [],
   "source": []
  }
 ],
 "metadata": {
  "kernelspec": {
   "display_name": "Python 2",
   "language": "python",
   "name": "python2"
  },
  "language_info": {
   "codemirror_mode": {
    "name": "ipython",
    "version": 2
   },
   "file_extension": ".py",
   "mimetype": "text/x-python",
   "name": "python",
   "nbconvert_exporter": "python",
   "pygments_lexer": "ipython2",
   "version": "2.7.11"
  }
 },
 "nbformat": 4,
 "nbformat_minor": 0
}

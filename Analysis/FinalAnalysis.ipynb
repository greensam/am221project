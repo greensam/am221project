{
 "cells": [
  {
   "cell_type": "code",
   "execution_count": 1,
   "metadata": {
    "collapsed": false
   },
   "outputs": [
    {
     "name": "stdout",
     "output_type": "stream",
     "text": [
      "Tweet 1000 of 4491\n",
      "\n",
      "Tweet 2000 of 4491\n",
      "\n",
      "Tweet 3000 of 4491\n",
      "\n",
      "Tweet 4000 of 4491\n",
      "\n"
     ]
    }
   ],
   "source": [
    "import utilities\n",
    "import numpy as np\n",
    "import pandas as pd\n",
    "import hmmlearn"
   ]
  },
  {
   "cell_type": "code",
   "execution_count": 6,
   "metadata": {
    "collapsed": true
   },
   "outputs": [],
   "source": [
    "import random"
   ]
  },
  {
   "cell_type": "code",
   "execution_count": 2,
   "metadata": {
    "collapsed": true
   },
   "outputs": [],
   "source": [
    "data = pd.read_csv('fulldataset.csv')"
   ]
  },
  {
   "cell_type": "code",
   "execution_count": 7,
   "metadata": {
    "collapsed": false
   },
   "outputs": [],
   "source": [
    "indx = random.sample(data.index, 10)"
   ]
  },
  {
   "cell_type": "code",
   "execution_count": 9,
   "metadata": {
    "collapsed": false
   },
   "outputs": [
    {
     "data": {
      "text/html": [
       "<div style=\"max-height:1000px;max-width:1500px;overflow:auto;\">\n",
       "<table border=\"1\" class=\"dataframe\">\n",
       "  <thead>\n",
       "    <tr style=\"text-align: right;\">\n",
       "      <th></th>\n",
       "      <th>text</th>\n",
       "      <th>time</th>\n",
       "      <th>time_chg</th>\n",
       "      <th>sentiment</th>\n",
       "      <th>Team1RelScore</th>\n",
       "      <th>Team2RelScore</th>\n",
       "      <th>Team1Indc</th>\n",
       "      <th>Team2Indc</th>\n",
       "      <th>Team1</th>\n",
       "      <th>Team2</th>\n",
       "    </tr>\n",
       "  </thead>\n",
       "  <tbody>\n",
       "    <tr>\n",
       "      <th>160491</th>\n",
       "      <td>RT @KUHoops: Thursday's win over Maryland mark...</td>\n",
       "      <td>2016-03-26 22:57:02</td>\n",
       "      <td>18:57:02</td>\n",
       "      <td>neutral</td>\n",
       "      <td>0.000000</td>\n",
       "      <td>0.062500</td>\n",
       "      <td>0</td>\n",
       "      <td>1</td>\n",
       "      <td>Villanova</td>\n",
       "      <td>Kansas</td>\n",
       "    </tr>\n",
       "    <tr>\n",
       "      <th>32880</th>\n",
       "      <td>RT @codyhills1: SENIORS!!!\\r\\nClemmons the ste...</td>\n",
       "      <td>2016-03-18 21:30:01</td>\n",
       "      <td>17:30:01</td>\n",
       "      <td>negative</td>\n",
       "      <td>0.000000</td>\n",
       "      <td>0.250000</td>\n",
       "      <td>0</td>\n",
       "      <td>1</td>\n",
       "      <td>Temple</td>\n",
       "      <td>Iowa</td>\n",
       "    </tr>\n",
       "    <tr>\n",
       "      <th>137746</th>\n",
       "      <td>ELITE 8 BABY!!! #NovaNation #BEdancing #March4...</td>\n",
       "      <td>2016-03-25 00:59:59</td>\n",
       "      <td>20:59:59</td>\n",
       "      <td>neutral</td>\n",
       "      <td>0.000000</td>\n",
       "      <td>0.055556</td>\n",
       "      <td>0</td>\n",
       "      <td>1</td>\n",
       "      <td>Miami</td>\n",
       "      <td>Villanova</td>\n",
       "    </tr>\n",
       "    <tr>\n",
       "      <th>109276</th>\n",
       "      <td>RT @HaleyPaz: This game is so close. It's givi...</td>\n",
       "      <td>2016-03-20 19:36:28</td>\n",
       "      <td>15:36:28</td>\n",
       "      <td>neutral</td>\n",
       "      <td>0.071429</td>\n",
       "      <td>0.000000</td>\n",
       "      <td>1</td>\n",
       "      <td>0</td>\n",
       "      <td>Stephen F. Austin</td>\n",
       "      <td>Notre Dame</td>\n",
       "    </tr>\n",
       "    <tr>\n",
       "      <th>75305</th>\n",
       "      <td>Dam Yogi with the jets...\\r\\n #MarchMadness\\r\\...</td>\n",
       "      <td>2016-03-19 22:02:01</td>\n",
       "      <td>18:02:01</td>\n",
       "      <td>neutral</td>\n",
       "      <td>0.000000</td>\n",
       "      <td>0.062500</td>\n",
       "      <td>0</td>\n",
       "      <td>1</td>\n",
       "      <td>Indiana</td>\n",
       "      <td>Kentucky</td>\n",
       "    </tr>\n",
       "    <tr>\n",
       "      <th>127536</th>\n",
       "      <td>RT @Duke_MBB: Special guest in the Duke sectio...</td>\n",
       "      <td>2016-03-25 02:18:37</td>\n",
       "      <td>22:18:37</td>\n",
       "      <td>neutral</td>\n",
       "      <td>0.142857</td>\n",
       "      <td>0.000000</td>\n",
       "      <td>1</td>\n",
       "      <td>0</td>\n",
       "      <td>Duke</td>\n",
       "      <td>Oregon</td>\n",
       "    </tr>\n",
       "    <tr>\n",
       "      <th>91786</th>\n",
       "      <td>@ericgarcetti is all about the cats #Villanova...</td>\n",
       "      <td>2016-03-20 17:27:35</td>\n",
       "      <td>13:27:35</td>\n",
       "      <td>irrelevant</td>\n",
       "      <td>0.000000</td>\n",
       "      <td>0.055556</td>\n",
       "      <td>0</td>\n",
       "      <td>1</td>\n",
       "      <td>Iowa</td>\n",
       "      <td>Villanova</td>\n",
       "    </tr>\n",
       "    <tr>\n",
       "      <th>85596</th>\n",
       "      <td>Typical Yankees. #Yale #Duke https://t.co/ALDk...</td>\n",
       "      <td>2016-03-19 20:28:32</td>\n",
       "      <td>16:28:32</td>\n",
       "      <td>irrelevant</td>\n",
       "      <td>0.055556</td>\n",
       "      <td>0.071429</td>\n",
       "      <td>1</td>\n",
       "      <td>1</td>\n",
       "      <td>Yale</td>\n",
       "      <td>Duke</td>\n",
       "    </tr>\n",
       "    <tr>\n",
       "      <th>28856</th>\n",
       "      <td>RT @dishakk_: It's a good Friday: warm weather...</td>\n",
       "      <td>2016-03-18 19:46:03</td>\n",
       "      <td>15:46:03</td>\n",
       "      <td>neutral</td>\n",
       "      <td>0.000000</td>\n",
       "      <td>0.000000</td>\n",
       "      <td>0</td>\n",
       "      <td>0</td>\n",
       "      <td>Hawaii</td>\n",
       "      <td>California</td>\n",
       "    </tr>\n",
       "    <tr>\n",
       "      <th>3008</th>\n",
       "      <td>I'm gonna say this, regardless of the outcome ...</td>\n",
       "      <td>2016-03-18 20:13:45</td>\n",
       "      <td>16:13:45</td>\n",
       "      <td>negative</td>\n",
       "      <td>0.062500</td>\n",
       "      <td>0.000000</td>\n",
       "      <td>1</td>\n",
       "      <td>0</td>\n",
       "      <td>Middle Tennessee</td>\n",
       "      <td>Michigan State</td>\n",
       "    </tr>\n",
       "  </tbody>\n",
       "</table>\n",
       "</div>"
      ],
      "text/plain": [
       "                                                     text  \\\n",
       "160491  RT @KUHoops: Thursday's win over Maryland mark...   \n",
       "32880   RT @codyhills1: SENIORS!!!\\r\\nClemmons the ste...   \n",
       "137746  ELITE 8 BABY!!! #NovaNation #BEdancing #March4...   \n",
       "109276  RT @HaleyPaz: This game is so close. It's givi...   \n",
       "75305   Dam Yogi with the jets...\\r\\n #MarchMadness\\r\\...   \n",
       "127536  RT @Duke_MBB: Special guest in the Duke sectio...   \n",
       "91786   @ericgarcetti is all about the cats #Villanova...   \n",
       "85596   Typical Yankees. #Yale #Duke https://t.co/ALDk...   \n",
       "28856   RT @dishakk_: It's a good Friday: warm weather...   \n",
       "3008    I'm gonna say this, regardless of the outcome ...   \n",
       "\n",
       "                       time  time_chg   sentiment  Team1RelScore  \\\n",
       "160491  2016-03-26 22:57:02  18:57:02     neutral       0.000000   \n",
       "32880   2016-03-18 21:30:01  17:30:01    negative       0.000000   \n",
       "137746  2016-03-25 00:59:59  20:59:59     neutral       0.000000   \n",
       "109276  2016-03-20 19:36:28  15:36:28     neutral       0.071429   \n",
       "75305   2016-03-19 22:02:01  18:02:01     neutral       0.000000   \n",
       "127536  2016-03-25 02:18:37  22:18:37     neutral       0.142857   \n",
       "91786   2016-03-20 17:27:35  13:27:35  irrelevant       0.000000   \n",
       "85596   2016-03-19 20:28:32  16:28:32  irrelevant       0.055556   \n",
       "28856   2016-03-18 19:46:03  15:46:03     neutral       0.000000   \n",
       "3008    2016-03-18 20:13:45  16:13:45    negative       0.062500   \n",
       "\n",
       "        Team2RelScore  Team1Indc  Team2Indc              Team1           Team2  \n",
       "160491       0.062500          0          1          Villanova          Kansas  \n",
       "32880        0.250000          0          1             Temple            Iowa  \n",
       "137746       0.055556          0          1              Miami       Villanova  \n",
       "109276       0.000000          1          0  Stephen F. Austin      Notre Dame  \n",
       "75305        0.062500          0          1            Indiana        Kentucky  \n",
       "127536       0.000000          1          0               Duke          Oregon  \n",
       "91786        0.055556          0          1               Iowa       Villanova  \n",
       "85596        0.071429          1          1               Yale            Duke  \n",
       "28856        0.000000          0          0             Hawaii      California  \n",
       "3008         0.000000          1          0   Middle Tennessee  Michigan State  "
      ]
     },
     "execution_count": 9,
     "metadata": {},
     "output_type": "execute_result"
    }
   ],
   "source": [
    "data.loc[indx]"
   ]
  },
  {
   "cell_type": "code",
   "execution_count": null,
   "metadata": {
    "collapsed": true
   },
   "outputs": [],
   "source": []
  }
 ],
 "metadata": {
  "kernelspec": {
   "display_name": "Python 2",
   "language": "python",
   "name": "python2"
  },
  "language_info": {
   "codemirror_mode": {
    "name": "ipython",
    "version": 2
   },
   "file_extension": ".py",
   "mimetype": "text/x-python",
   "name": "python",
   "nbconvert_exporter": "python",
   "pygments_lexer": "ipython2",
   "version": "2.7.11"
  }
 },
 "nbformat": 4,
 "nbformat_minor": 0
}

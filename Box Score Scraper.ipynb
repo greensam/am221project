{
 "cells": [
  {
   "cell_type": "code",
   "execution_count": 5,
   "metadata": {
    "collapsed": true
   },
   "outputs": [],
   "source": [
    "# Box Score Scraper\n",
    "# David Freed and Samuel Green\n",
    "# February 29, 2016"
   ]
  },
  {
   "cell_type": "code",
   "execution_count": 14,
   "metadata": {
    "collapsed": false
   },
   "outputs": [],
   "source": [
    "%matplotlib inline \n",
    "\n",
    "import requests\n",
    "from bs4 import BeautifulSoup\n",
    "from bs4 import NavigableString\n",
    "import pandas as pd\n",
    "import StringIO\n",
    "import urllib\n",
    "from datetime import date, datetime\n",
    "import itertools\n",
    "import matplotlib.pyplot as plt\n",
    "import numpy as np\n",
    "import matplotlib.patches as mpatches\n",
    "from scipy.stats.stats import pearsonr\n",
    "import math\n",
    "\n",
    "plt.style.use('ggplot')"
   ]
  },
  {
   "cell_type": "code",
   "execution_count": 7,
   "metadata": {
    "collapsed": true
   },
   "outputs": [],
   "source": [
    "# Simple lambda function\n",
    "def split(x, num):\n",
    "    return int(x.split('-')[num])"
   ]
  },
  {
   "cell_type": "code",
   "execution_count": 85,
   "metadata": {
    "collapsed": false
   },
   "outputs": [],
   "source": [
    "# Write a function that scrapes the team trend graph for each game\n",
    "# Find game id by going to box scores and taking the end of the url\n",
    "def trendgraph(gameid):\n",
    "\n",
    "    # Scrape the reference team page\n",
    "    url = 'http://espn.go.com/nba/playbyplay?gameId=' + str(gameid)\n",
    "    html = urllib.urlopen(url)\n",
    "    soup = BeautifulSoup(html, \"html.parser\") \n",
    "\n",
    "    # Identify which team is which from the basic page\n",
    "    teams = soup.find_all('div', {'class', \"team-container\"})\n",
    "\n",
    "    away = str(teams[0].contents[0].find('img')['src'].split('/')[-1].split('.')[0]).upper()\n",
    "    home = str(teams[1].contents[0].find('img')['src'].split('/')[-1].split('.')[0]).upper()\n",
    "\n",
    "    # Run through the table and get all the relevant events from that quarter\n",
    "    qes = []\n",
    "    for num in range(1,5):\n",
    "        for item in reversed(soup.find_all('table')[5-num].find_all('tr')[1:]):\n",
    "            event = []\n",
    "            for td in item.find_all('td'):\n",
    "                if len(td.contents) > 0:\n",
    "                    if 'img' in str(td.contents[0]):\n",
    "                        event.append(str(td.contents[0]['src']).split('/')[-1].split('.')[0].upper())\n",
    "                    else:\n",
    "                        if ':' in str(td.contents[0]):\n",
    "                            minutes = 11-int(td.contents[0].split(':')[0]) +((num-1)*12)\n",
    "                            seconds = 60-int(td.contents[0].split(':')[1])\n",
    "\n",
    "                            # Make an adjustment for exact minute calculations\n",
    "                            if seconds == 60:\n",
    "                                minutes = minutes + 1\n",
    "                                seconds = 0\n",
    "\n",
    "                            event.append(minutes)\n",
    "                            event.append(seconds)\n",
    "                        else:\n",
    "                            event.append(str(td.contents[0]))\n",
    "            qes.append(event)\n",
    "\n",
    "    # Make this data into a Dataframe\n",
    "    bsd = pd.DataFrame(qes, columns = ['Minutes', 'Seconds', 'Team', 'Event', 'Score'])\n",
    "    bsd[away] = bsd['Score'].apply(lambda x: split(x, 0))\n",
    "    bsd[home] = bsd['Score'].apply(lambda x: split(x, 1))\n",
    "    bsd = bsd.drop('Score', 1)\n",
    "\n",
    "    # Write a quick function converting the minutes and seconds to a percentage\n",
    "    lengame = 48*60.0\n",
    "    bsd['PercDone'] = [float(100*round((mins*60+sec)/lengame,4)) for (mins, sec) in zip(bsd['Minutes'], bsd['Seconds'])]\n",
    "\n",
    "    # Make a quick line graph of the scores over time\n",
    "    fig = plt.figure(figsize=(14,14))\n",
    "    plt.title('Game Trends: ' + away + ' at ' + home)\n",
    "    plt.xlabel('Percent of Game Completed')\n",
    "    plt.ylabel('Points')\n",
    "    plt.plot(list(bsd['PercDone']), list(bsd[away]), c = 'r')\n",
    "    plt.plot(list(bsd['PercDone']), list(bsd[home]), c = 'b')\n",
    "\n",
    "    # Plot quarter boundaries\n",
    "    plt.axvline(x=25, linewidth = 0.5, color='gray')\n",
    "    plt.axvline(x=50, linewidth = 0.5, color='gray')\n",
    "    plt.axvline(x=75, linewidth = 0.5, color='gray')\n",
    "\n",
    "    red_patch = mpatches.Patch(color='red', label=away)\n",
    "    blue_patch = mpatches.Patch(color='blue', label=home)\n",
    "    plt.legend(handles=[red_patch, blue_patch], loc = 2)\n",
    "    plt.grid()\n",
    "    plt.show()"
   ]
  },
  {
   "cell_type": "code",
   "execution_count": null,
   "metadata": {
    "collapsed": true
   },
   "outputs": [],
   "source": []
  }
 ],
 "metadata": {
  "kernelspec": {
   "display_name": "Python 2",
   "language": "python",
   "name": "python2"
  },
  "language_info": {
   "codemirror_mode": {
    "name": "ipython",
    "version": 2
   },
   "file_extension": ".py",
   "mimetype": "text/x-python",
   "name": "python",
   "nbconvert_exporter": "python",
   "pygments_lexer": "ipython2",
   "version": "2.7.11"
  }
 },
 "nbformat": 4,
 "nbformat_minor": 0
}

{
 "cells": [
  {
   "cell_type": "code",
   "execution_count": 1,
   "metadata": {
    "collapsed": false
   },
   "outputs": [],
   "source": [
    "import tweepy\n",
    "import csv\n",
    "import json\n",
    "import sys\n",
    "import webbrowser\n",
    "import numpy as np\n",
    "import thread"
   ]
  },
  {
   "cell_type": "code",
   "execution_count": 2,
   "metadata": {
    "collapsed": false
   },
   "outputs": [],
   "source": [
    "# Application keys\n",
    "CONSUMER = \"iVlBjTQ99F36eF7kw8ozGoJIP\"\n",
    "SECRET = \"R2U5bHSO5N2MIp3meOhP3aFi3y183aKuIZZKWCk277EZPPvSgJ\""
   ]
  },
  {
   "cell_type": "code",
   "execution_count": 3,
   "metadata": {
    "collapsed": false
   },
   "outputs": [],
   "source": [
    "\"\"\"\n",
    "Authenticate this run with Twitter, using OAuth\n",
    "returns auth object for instantiation of api object.\n",
    "\"\"\"\n",
    "def authenticate():\n",
    "    auth = tweepy.OAuthHandler(CONSUMER, SECRET)\n",
    "\n",
    "    webbrowser.open(auth.get_authorization_url())\n",
    "    pin = raw_input('Verification from Twitter.com ').strip()\n",
    "    token = auth.get_access_token(verifier=pin)\n",
    "    auth.access_token = token[0]\n",
    "    auth.access_token_secret = token[1]\n",
    "\n",
    "    auth.set_access_token(auth.access_token, auth.access_token_secret)\n",
    "    return auth"
   ]
  },
  {
   "cell_type": "code",
   "execution_count": 4,
   "metadata": {
    "collapsed": false
   },
   "outputs": [
    {
     "name": "stdout",
     "output_type": "stream",
     "text": [
      "Verification from Twitter.com 1068514\n"
     ]
    }
   ],
   "source": [
    "auth = authenticate()"
   ]
  },
  {
   "cell_type": "code",
   "execution_count": 5,
   "metadata": {
    "collapsed": true
   },
   "outputs": [],
   "source": [
    "# finish by creating api connection\n",
    "api = tweepy.API(auth)"
   ]
  },
  {
   "cell_type": "code",
   "execution_count": 6,
   "metadata": {
    "collapsed": false
   },
   "outputs": [],
   "source": [
    "class AMStreamListener(tweepy.StreamListener):\n",
    "    def __init__(self, outfile, m):\n",
    "        super(AMStreamListener, self).__init__()\n",
    "        self.outfile = outfile\n",
    "        self.count = 0\n",
    "        self.m = m\n",
    "        print \"Initialized\"\n",
    "    \n",
    "    def on_status(self, status):\n",
    "        with open(self.outfile, 'a') as f:\n",
    "            writer = json.dump(status._json, f, indent=4, separators=(\",\", \":\"))\n",
    "            self.count = self.count + 1\n",
    "            return True\n",
    "        \n",
    "    def on_error(self, status):\n",
    "        print self.outfile,\" error :\",status\n",
    "        return True"
   ]
  },
  {
   "cell_type": "code",
   "execution_count": 7,
   "metadata": {
    "collapsed": true
   },
   "outputs": [],
   "source": [
    "def collect(outfile, api, filters, count):\n",
    "    print filters\n",
    "    lstner = AMStreamListener(outfile, count)\n",
    "    stream = tweepy.Stream(auth = api.auth, listener = lstner)\n",
    "    stream.filter(track=filters, async=True)"
   ]
  },
  {
   "cell_type": "markdown",
   "metadata": {},
   "source": [
    "Dir that comes back from a tweet:\n",
    "'''\n",
    "['__class__', '__delattr__', '__dict__', '__doc__', '__eq__', '__format__', '__getattribute__', '__getstate__', '__hash__', '__init__', '__module__', '__ne__', '__new__', '__reduce__', '__reduce_ex__', '__repr__', '__setattr__', '__sizeof__', '__str__', '__subclasshook__', '__weakref__', '_api', '_json', 'author', 'contributors', 'coordinates', 'created_at', 'destroy', 'entities', 'extended_entities', 'favorite', 'favorite_count', 'favorited', 'filter_level', 'geo', 'id', 'id_str', 'in_reply_to_screen_name', 'in_reply_to_status_id', 'in_reply_to_status_id_str', 'in_reply_to_user_id', 'in_reply_to_user_id_str', 'is_quote_status', 'lang', 'parse', 'parse_list', 'place', 'possibly_sensitive', 'retweet', 'retweet_count', 'retweeted', 'retweeted_status', 'retweets', 'source', 'source_url', 'text', 'timestamp_ms', 'truncated', 'user']\n",
    "'''"
   ]
  },
  {
   "cell_type": "code",
   "execution_count": 8,
   "metadata": {
    "collapsed": false
   },
   "outputs": [],
   "source": [
    "first = ['#ColoradovsUConn', '#Buffaloes', '#Huskies', '#Colorado', '#UConn', '#GoBuffs',\n",
    "         '#Connecticut', '#bleedblue', '#GoHuskies', '#UConnbasketball']\n",
    "second = ['#YalevsBaylor', '#Bulldogs', '#Bears', '#Yale', '#Baylor', '#OneIvy',\n",
    "          '#YaleBasketball', '#GoYale', '#GoBears']\n",
    "third = ['#Jayhawks', '#KUvPeay', '#kubball', '#16over1', '#Kansas', '#AustinPeay',\n",
    "         '#RockChalk', '#LetsGoPeay']\n",
    "fourth = ['#BuffalovsMiami', '#Hurricanes', '#Bison', '#Miami', '#Buffalo', '#BeatBuffalo',\n",
    "          '#GoCanes', '#UBBulls', '#UBDancing', '#HornsUp']\n",
    "fifth = ['#WichStvsArizona', '#Wildcats', '#Shockers', '#Shocktheworld', '#WichitaSt',\n",
    "         '#Arizona', '#GoCats', '#BearDown', '#AZWildcats', '#watchus', '#APlayersProgram']\n",
    "sixth = ['#Zags', '#GonzagavSH', '#Gonzaga', '#SetonHall', '#GoZags', '#HALLin', '#shbb',\n",
    "         '#SHUnited', '#UnitedWeZag', '#zagup']\n",
    "alltags = first+second+third+fourth+fifth+sixth\n",
    "# gametags = [first ,second , third , fourth , fifth , sixth]\n",
    "# games = [\"ColoradoConn\", \"YaleBaylor\", \"Kansas\", \"BuffaloMiami\", \"WichArizona\", \"GonzagaSH\"]"
   ]
  },
  {
   "cell_type": "code",
   "execution_count": 16,
   "metadata": {
    "collapsed": false
   },
   "outputs": [
    {
     "name": "stdout",
     "output_type": "stream",
     "text": [
      "['#ColoradovsUConn', '#Buffaloes', '#Huskies', '#Colorado', '#UConn', '#GoBuffs', '#Connecticut', '#bleedblue', '#GoHuskies', '#UConnbasketball', '#YalevsBaylor', '#Bulldogs', '#Bears', '#Yale', '#Baylor', '#OneIvy', '#YaleBasketball', '#GoYale', '#GoBears', '#Jayhawks', '#KUvPeay', '#kubball', '#16over1', '#Kansas', '#AustinPeay', '#RockChalk', '#LetsGoPeay', '#BuffalovsMiami', '#Hurricanes', '#Bison', '#Miami', '#Buffalo', '#BeatBuffalo', '#GoCanes', '#UBBulls', '#UBDancing', '#HornsUp', '#WichStvsArizona', '#Wildcats', '#Shockers', '#Shocktheworld', '#WichitaSt', '#Arizona', '#GoCats', '#BearDown', '#AZWildcats', '#watchus', '#APlayersProgram', '#Zags', '#GonzagavSH', '#Gonzaga', '#SetonHall', '#GoZags', '#HALLin', '#shbb', '#SHUnited', '#UnitedWeZag', '#zagup']\n",
      "Initialized\n"
     ]
    }
   ],
   "source": [
    "collect(\"firstround/thursday2-17.json\", api, alltags, 1000)"
   ]
  },
  {
   "cell_type": "code",
   "execution_count": 8,
   "metadata": {
    "collapsed": true
   },
   "outputs": [],
   "source": [
    "friday_first = [\"#Dayton\" ,\"#Flyers\", \"#TrueTeam\", \"#GoFlyers\", \"#Syracuse\", \"#OrangeCrush\" ,\"#CuseMode\" ,\"#StLouis\"]\n",
    "friday_second = [\"#VillanovavsAsheville\" ,\n",
    "                 \"#Villanova\", \"#Nova\" ,\"#NovaMBB\",\n",
    "                 \"#NovaNation\", \"#LetsMarchNova\" ,\"#OurTownOurTeam\",\n",
    "                 \"#Bulldogs\" ,\"#Cinderella\", \"#UNCAsheville\", \"#Asheville\"]"
   ]
  },
  {
   "cell_type": "code",
   "execution_count": 9,
   "metadata": {
    "collapsed": true
   },
   "outputs": [],
   "source": [
    "friday_third = [\"#OregonStatevsVCU\", \"#Rams\", \"#Beavers\" ,\n",
    "                \"#LetsGoVCU\", \"#VCU\" ,\"#OregonState\", \n",
    "                \"#oregonstatebasketball\", \"#BeaverNation\" ,\"#GoBeavs\"]\n",
    "\n",
    "friday_fourth = [\"#CalvsHawaii\" ,\"#Cal\", \"#LetsDance\" ,\"#GoldenBears\",\n",
    "                \"#RainbowWarriors\", \"#Hawaii\" ,\"#GoBears\",\n",
    "                \"#CalFamily\", \"#HawaiiMBB\" ,\"#RoadWarriors\" ,\"#GoBows\"]\n",
    "firstgroupfriday = friday_first + friday_second + friday_third + friday_fourth"
   ]
  },
  {
   "cell_type": "code",
   "execution_count": 16,
   "metadata": {
    "collapsed": false
   },
   "outputs": [
    {
     "name": "stdout",
     "output_type": "stream",
     "text": [
      "['#Dayton', '#Flyers', '#TrueTeam', '#GoFlyers', '#Syracuse', '#OrangeCrush', '#CuseMode', '#StLouis', '#VillanovavsAsheville', '#Villanova', '#Nova', '#NovaMBB', '#NovaNation', '#LetsMarchNova', '#OurTownOurTeam', '#Bulldogs', '#Cinderella', '#UNCAsheville', '#Asheville', '#OregonStatevsVCU', '#Rams', '#Beavers', '#LetsGoVCU', '#VCU', '#OregonState', '#oregonstatebasketball', '#BeaverNation', '#GoBeavs', '#CalvsHawaii', '#Cal', '#LetsDance', '#GoldenBears', '#RainbowWarriors', '#Hawaii', '#GoBears', '#CalFamily', '#HawaiiMBB', '#RoadWarriors', '#GoBows']\n",
      "Initialized\n"
     ]
    }
   ],
   "source": [
    "collect('firstround/friday2-18.json', api,friday_first+friday_second+friday_third+friday_fourth, 1000)"
   ]
  },
  {
   "cell_type": "code",
   "execution_count": 10,
   "metadata": {
    "collapsed": false
   },
   "outputs": [],
   "source": [
    "secondgroupfriday = [\"#MSUvsMTSU\", \"#MSU\", \"#MichiganState\" ,\"#MiddleTennesseeState\" ,\"#MTSU\" ,\"#BlueRaiders\",\n",
    "                \"#DancingRaiders\", \"#Spartans\" ,\"#GoGreen\", \"#GoWhite\",\n",
    "                \"#IowavsTemple\", \"#Hawkeyes\" ,\"#Iowa\" ,\"#Temple\", \"#Owls\" ,\"#BeatIowa\" ,\n",
    "                \"#TUMBB\", \n",
    "                \"#OklahomavsCSU\" ,\"#Oklahoma\" ,\"#OU\", \"#Sooners\", \"#CSUB\" ,\n",
    "                \"#OUvsCSUB\" ,\"#BuddyBuckets\", \"#CSUBelieve\", \"#AllRunners\" ,\n",
    "                    \"#MarylandvsSDSU\", \"#WeWill\" ,\"#Maryland\" ,\"#Terrapins\", \n",
    "                    \"#SDSU\" ,\"#Jackrabbits\" ,\"#MarchTogether\" ]"
   ]
  },
  {
   "cell_type": "code",
   "execution_count": 11,
   "metadata": {
    "collapsed": true
   },
   "outputs": [],
   "source": [
    "thirdfridayandsat = ['#WisconsinvsPittsburgh','#Badgers','#Panthers','#Wisconsin','#Pittsburgh','#MakeEmBelieve','#Fieldof64','#WisconsinBasketball','#H2P','#WVUvsSFA','#WestVirginia','#WVU','#HailWV','#PressVirginia','#Mountaineers','#Lumberjacks','#SFA','#AxeEm','#A&MvGreenBay','#TexasA&M','#Aggies','#Gigem','#TAMU','#12thMan','#SFA','#AggieHoops','#RP40','#HLMBB','#ContinueTheRise','#GreenBay','#OregonvsHolyCross','#Oregon','#Ducks','#GoDucks','#HolyCross','#Crusaders','#RiseTogether','#XaviervsWeberState','#Xavier','#Musketeers','#LetsGoX','#LetsMarch','#Wildcats','#WeberState','#WeAreWeber','#BigSkyMBB','','#NotreDamevsMichigan','#NotreDame','#Michigan','#UMich','#NotDoneYet','#FightingIrish','#Wolverines','#Squad100','#GoBlue','#TexasvsNorthernIowa','#UT','#NorthernIowa','#Longhorns','#HookEm','#Horns','#Panthers','#PantherNation','#UNI','#UTvsUNI','#UNIFight','#StJoesvsCincy','#Cincinnati','#Cincy','#StJoes','#Hawks','#BearCats','#Dancin6','#StJosephs','#THWND'\n",
    "]"
   ]
  },
  {
   "cell_type": "code",
   "execution_count": 12,
   "metadata": {
    "collapsed": false
   },
   "outputs": [],
   "source": [
    "alltags = firstgroupfriday + secondgroupfriday + thirdfridayandsat"
   ]
  },
  {
   "cell_type": "code",
   "execution_count": 13,
   "metadata": {
    "collapsed": false
   },
   "outputs": [
    {
     "name": "stdout",
     "output_type": "stream",
     "text": [
      "['#Dayton', '#Flyers', '#TrueTeam', '#GoFlyers', '#Syracuse', '#OrangeCrush', '#CuseMode', '#StLouis', '#VillanovavsAsheville', '#Villanova', '#Nova', '#NovaMBB', '#NovaNation', '#LetsMarchNova', '#OurTownOurTeam', '#Bulldogs', '#Cinderella', '#UNCAsheville', '#Asheville', '#OregonStatevsVCU', '#Rams', '#Beavers', '#LetsGoVCU', '#VCU', '#OregonState', '#oregonstatebasketball', '#BeaverNation', '#GoBeavs', '#CalvsHawaii', '#Cal', '#LetsDance', '#GoldenBears', '#RainbowWarriors', '#Hawaii', '#GoBears', '#CalFamily', '#HawaiiMBB', '#RoadWarriors', '#GoBows', '#MSUvsMTSU', '#MSU', '#MichiganState', '#MiddleTennesseeState', '#MTSU', '#BlueRaiders', '#DancingRaiders', '#Spartans', '#GoGreen', '#GoWhite', '#IowavsTemple', '#Hawkeyes', '#Iowa', '#Temple', '#Owls', '#BeatIowa', '#TUMBB', '#OklahomavsCSU', '#Oklahoma', '#OU', '#Sooners', '#CSUB', '#OUvsCSUB', '#BuddyBuckets', '#CSUBelieve', '#AllRunners', '#MarylandvsSDSU', '#WeWill', '#Maryland', '#Terrapins', '#SDSU', '#Jackrabbits', '#MarchTogether', '#WisconsinvsPittsburgh', '#Badgers', '#Panthers', '#Wisconsin', '#Pittsburgh', '#MakeEmBelieve', '#Fieldof64', '#WisconsinBasketball', '#H2P', '#WVUvsSFA', '#WestVirginia', '#WVU', '#HailWV', '#PressVirginia', '#Mountaineers', '#Lumberjacks', '#SFA', '#AxeEm', '#A&MvGreenBay', '#TexasA&M', '#Aggies', '#Gigem', '#TAMU', '#12thMan', '#SFA', '#AggieHoops', '#RP40', '#HLMBB', '#ContinueTheRise', '#GreenBay', '#OregonvsHolyCross', '#Oregon', '#Ducks', '#GoDucks', '#HolyCross', '#Crusaders', '#RiseTogether', '#XaviervsWeberState', '#Xavier', '#Musketeers', '#LetsGoX', '#LetsMarch', '#Wildcats', '#WeberState', '#WeAreWeber', '#BigSkyMBB', '', '#NotreDamevsMichigan', '#NotreDame', '#Michigan', '#UMich', '#NotDoneYet', '#FightingIrish', '#Wolverines', '#Squad100', '#GoBlue', '#TexasvsNorthernIowa', '#UT', '#NorthernIowa', '#Longhorns', '#HookEm', '#Horns', '#Panthers', '#PantherNation', '#UNI', '#UTvsUNI', '#UNIFight', '#StJoesvsCincy', '#Cincinnati', '#Cincy', '#StJoes', '#Hawks', '#BearCats', '#Dancin6', '#StJosephs', '#THWND']\n",
      "Initialized\n"
     ]
    }
   ],
   "source": [
    "collect('firstround/firstroufriday2nd.json', api, alltags, 1000)"
   ]
  },
  {
   "cell_type": "code",
   "execution_count": 1,
   "metadata": {
    "collapsed": true
   },
   "outputs": [],
   "source": [
    "sunday = ['#IowavsVillanova','#Hawkeyes','#Iowa','#Villanova','#Nova','#NovaMBB','#NovaNation','#LetsMarchNova','#NotreDamevsSFA','#Lumberjacks','#SFA','#AxeEm','#NotreDamevsMichigan','#NotreDame','#NotDoneYet','#VCUvsOklahoma','#Oklahoma','#OU','#Sooners','','#BuddyBuckets','#Rams','#LetsGoVCU','#VCU','#SyracusevsMTSU','#MiddleTennesseeState','#MTSU','#BlueRaiders','#DancingRaiders','#Syracuse','#OrangeCrush','#CuseMode','#MarylandvsHawaii','#WeWill','#Maryland','#Terrapins','#RainbowWarriors','#Hawaii','#HawaiiMBB','#RoadWarriors','#GoBows','#UNIvsTAMU','#TexasA&M','#Aggies','#Gigem','#TAMU','#12thMan','#SFA','#AggieHoops','#Panthers','#PantherNation','#UNI','#NorthernIowa','#UNIFight','#WisconsinvsXavier','#Fieldof64','#WisconsinBasketball','#H2P','#Wisconsin','#Badgers','','#Xavier','#Musketeers','#LetsGoX','#LetsMarch','#OregonvsStJoes','#Oregon','#Ducks','#GoDucks','#StJosephs','#THWND','#StJoes','#Hawks'\n",
    "]"
   ]
  },
  {
   "cell_type": "code",
   "execution_count": 9,
   "metadata": {
    "collapsed": false
   },
   "outputs": [
    {
     "name": "stdout",
     "output_type": "stream",
     "text": [
      "['#IowavsVillanova', '#Hawkeyes', '#Iowa', '#Villanova', '#Nova', '#NovaMBB', '#NovaNation', '#LetsMarchNova', '#NotreDamevsSFA', '#Lumberjacks', '#SFA', '#AxeEm', '#NotreDamevsMichigan', '#NotreDame', '#NotDoneYet', '#VCUvsOklahoma', '#Oklahoma', '#OU', '#Sooners', '', '#BuddyBuckets', '#Rams', '#LetsGoVCU', '#VCU', '#SyracusevsMTSU', '#MiddleTennesseeState', '#MTSU', '#BlueRaiders', '#DancingRaiders', '#Syracuse', '#OrangeCrush', '#CuseMode', '#MarylandvsHawaii', '#WeWill', '#Maryland', '#Terrapins', '#RainbowWarriors', '#Hawaii', '#HawaiiMBB', '#RoadWarriors', '#GoBows', '#UNIvsTAMU', '#TexasA&M', '#Aggies', '#Gigem', '#TAMU', '#12thMan', '#SFA', '#AggieHoops', '#Panthers', '#PantherNation', '#UNI', '#NorthernIowa', '#UNIFight', '#WisconsinvsXavier', '#Fieldof64', '#WisconsinBasketball', '#H2P', '#Wisconsin', '#Badgers', '', '#Xavier', '#Musketeers', '#LetsGoX', '#LetsMarch', '#OregonvsStJoes', '#Oregon', '#Ducks', '#GoDucks', '#StJosephs', '#THWND', '#StJoes', '#Hawks']\n",
      "Initialized\n"
     ]
    }
   ],
   "source": [
    "collect('firstround/sunday.json', api, sunday, 1000)"
   ]
  },
  {
   "cell_type": "code",
   "execution_count": 8,
   "metadata": {
    "collapsed": true
   },
   "outputs": [],
   "source": [
    "thutags = ['#MiamivsVillanova','#Miami','#Villanova','#Nova','#NovaMBB','#NovaNation','#LetsMarchNova','#GoCanes','#Hurricanes','#TAMUvsOU','#TexasA&MvsOU','#Oklahoma','#TexasA&M','#Oklahoma','#OU','#Sooners','','#BuddyBuckets','#TexasA&M','#Aggies','#Gigem','#TAMU','#12thMan','#AggieHoops','#MarylandvsKansas','#MarylandvsKU','#Maryland','#Kansas','#KU','#WeWill','#Maryland','#Terrapins','#Jayhawks','#kubball','#Kansas','#RockChalk','','#DukevsOregon','#Duke','#BlueDevils','#GoDuke','#Oregon','#Ducks','#GoDucks'\n",
    "]"
   ]
  },
  {
   "cell_type": "code",
   "execution_count": 9,
   "metadata": {
    "collapsed": false
   },
   "outputs": [
    {
     "name": "stdout",
     "output_type": "stream",
     "text": [
      "['#MiamivsVillanova', '#Miami', '#Villanova', '#Nova', '#NovaMBB', '#NovaNation', '#LetsMarchNova', '#GoCanes', '#Hurricanes', '#TAMUvsOU', '#TexasA&MvsOU', '#Oklahoma', '#TexasA&M', '#Oklahoma', '#OU', '#Sooners', '', '#BuddyBuckets', '#TexasA&M', '#Aggies', '#Gigem', '#TAMU', '#12thMan', '#AggieHoops', '#MarylandvsKansas', '#MarylandvsKU', '#Maryland', '#Kansas', '#KU', '#WeWill', '#Maryland', '#Terrapins', '#Jayhawks', '#kubball', '#Kansas', '#RockChalk', '', '#DukevsOregon', '#Duke', '#BlueDevils', '#GoDuke', '#Oregon', '#Ducks', '#GoDucks']\n",
      "Initialized\n"
     ]
    }
   ],
   "source": [
    "collect('firstround/thursday3-24.json', api,thutags,10000)"
   ]
  },
  {
   "cell_type": "code",
   "execution_count": 8,
   "metadata": {
    "collapsed": true
   },
   "outputs": [],
   "source": [
    "friday25 = ['#GonzagavsSyracuse','#Zags','#Gonzaga','#GoZags','#UnitedWeZag','#zagup','#Syracuse','#Syracuse','#OrangeCrush','#CuseMode','#IUvsUNC','#IndianavsUNC','#Indiana','#UNC','','#Hoosiers','#IU','#ForIndiana','#iubb','#TarHeels','#HeelsLockIn','#UNCBBall'\n",
    "]"
   ]
  },
  {
   "cell_type": "code",
   "execution_count": 9,
   "metadata": {
    "collapsed": false
   },
   "outputs": [
    {
     "name": "stdout",
     "output_type": "stream",
     "text": [
      "['#GonzagavsSyracuse', '#Zags', '#Gonzaga', '#GoZags', '#UnitedWeZag', '#zagup', '#Syracuse', '#Syracuse', '#OrangeCrush', '#CuseMode', '#IUvsUNC', '#IndianavsUNC', '#Indiana', '#UNC', '', '#Hoosiers', '#IU', '#ForIndiana', '#iubb', '#TarHeels', '#HeelsLockIn', '#UNCBBall']\n",
      "Initialized\n"
     ]
    }
   ],
   "source": [
    "collect('firstround/friday25.json',api,friday25,1000)"
   ]
  },
  {
   "cell_type": "code",
   "execution_count": 10,
   "metadata": {
    "collapsed": false
   },
   "outputs": [],
   "source": [
    "saturday = ['#OregonvsOklahoma' ,'#Oregon', '#Ducks', \"#GoDucks\", \"#Oklahoma\", \"#Oklahoma\" ,\"#OU\" ,\"#Sooners\",  \"#BuddyBuckets\", \"#KansasvsVillanova\" ,\"#Villanova\" ,\"#Nova\", \"#NovaMBB\", \"#NovaNation\", \"#LetsMarchNova\" ,\"#Jayhawks\" ,\"#kubball\", \"#Kansas, #RockChalk\" , '#Kansas', '#KU']\n",
    "\n"
   ]
  },
  {
   "cell_type": "code",
   "execution_count": 11,
   "metadata": {
    "collapsed": false
   },
   "outputs": [
    {
     "name": "stdout",
     "output_type": "stream",
     "text": [
      "['#OregonvsOklahoma', '#Oregon', '#Ducks', '#GoDucks', '#Oklahoma', '#Oklahoma', '#OU', '#Sooners', '#BuddyBuckets', '#KansasvsVillanova', '#Villanova', '#Nova', '#NovaMBB', '#NovaNation', '#LetsMarchNova', '#Jayhawks', '#kubball', '#Kansas, #RockChalk', '#Kansas', '#KU']\n",
      "Initialized\n"
     ]
    }
   ],
   "source": [
    "collect('firstround/saturday3-26.json',api,saturday,1000)"
   ]
  },
  {
   "cell_type": "code",
   "execution_count": 9,
   "metadata": {
    "collapsed": false
   },
   "outputs": [],
   "source": [
    "sunday = ['#SyracusevsVirginia','#Syracuse','#Syracuse','#OrangeCrush','#CuseMode','#Virginia','#UVA','#GoHoos','#Cavaliers','#UNCvsND','#UNCvsNotreDame','#UNC','#TarHeels','#HeelsLockIn','#UNCBBall','#NotreDame','#NotDoneYet']"
   ]
  },
  {
   "cell_type": "code",
   "execution_count": 10,
   "metadata": {
    "collapsed": false
   },
   "outputs": [
    {
     "name": "stdout",
     "output_type": "stream",
     "text": [
      "['#SyracusevsVirginia', '#Syracuse', '#Syracuse', '#OrangeCrush', '#CuseMode', '#Virginia', '#UVA', '#GoHoos', '#Cavaliers', '#UNCvsND', '#UNCvsNotreDame', '#UNC', '#TarHeels', '#HeelsLockIn', '#UNCBBall', '#NotreDame', '#NotDoneYet']\n",
      "Initialized\n"
     ]
    }
   ],
   "source": [
    "collect('firstround/sunday27.json',api,sunday,1000)"
   ]
  },
  {
   "cell_type": "code",
   "execution_count": null,
   "metadata": {
    "collapsed": true
   },
   "outputs": [],
   "source": []
  }
 ],
 "metadata": {
  "kernelspec": {
   "display_name": "Python 2",
   "language": "python",
   "name": "python2"
  },
  "language_info": {
   "codemirror_mode": {
    "name": "ipython",
    "version": 2
   },
   "file_extension": ".py",
   "mimetype": "text/x-python",
   "name": "python",
   "nbconvert_exporter": "python",
   "pygments_lexer": "ipython2",
   "version": "2.7.11"
  }
 },
 "nbformat": 4,
 "nbformat_minor": 0
}

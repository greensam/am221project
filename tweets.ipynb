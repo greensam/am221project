{
 "cells": [
  {
   "cell_type": "code",
   "execution_count": 42,
   "metadata": {
    "collapsed": false
   },
   "outputs": [],
   "source": [
    "import tweepy\n",
    "import csv\n",
    "import json\n",
    "import sys\n",
    "import webbrowser\n",
    "import numpy as np"
   ]
  },
  {
   "cell_type": "code",
   "execution_count": 5,
   "metadata": {
    "collapsed": false
   },
   "outputs": [],
   "source": [
    "# Application keys\n",
    "CONSUMER = \"iVlBjTQ99F36eF7kw8ozGoJIP\"\n",
    "SECRET = \"R2U5bHSO5N2MIp3meOhP3aFi3y183aKuIZZKWCk277EZPPvSgJ\""
   ]
  },
  {
   "cell_type": "code",
   "execution_count": 13,
   "metadata": {
    "collapsed": false
   },
   "outputs": [],
   "source": [
    "\"\"\"\n",
    "Authenticate this run with Twitter, using OAuth\n",
    "returns auth object for instantiation of api object.\n",
    "\"\"\"\n",
    "def authenticate():\n",
    "    auth = tweepy.OAuthHandler(CONSUMER, SECRET)\n",
    "\n",
    "    webbrowser.open(auth.get_authorization_url())\n",
    "    pin = raw_input('Verification from Twitter.com ').strip()\n",
    "    token = auth.get_access_token(verifier=pin)\n",
    "    auth.access_token = token[0]\n",
    "    auth.access_token_secret = token[1]\n",
    "\n",
    "    auth.set_access_token(auth.access_token, auth.access_token_secret)\n",
    "    return auth"
   ]
  },
  {
   "cell_type": "code",
   "execution_count": 12,
   "metadata": {
    "collapsed": false
   },
   "outputs": [
    {
     "name": "stdout",
     "output_type": "stream",
     "text": [
      "Verification from Twitter.com 7297231\n"
     ]
    }
   ],
   "source": [
    "auth = authenticate()"
   ]
  },
  {
   "cell_type": "code",
   "execution_count": 15,
   "metadata": {
    "collapsed": true
   },
   "outputs": [],
   "source": [
    "# finish by creating api connection\n",
    "api = tweepy.API(auth)"
   ]
  },
  {
   "cell_type": "code",
   "execution_count": 50,
   "metadata": {
    "collapsed": true
   },
   "outputs": [],
   "source": [
    "class AMStreamListener(tweepy.StreamListener):\n",
    "    def __init__(self, outfile, m):\n",
    "        super(AMStreamListener, self).__init__()\n",
    "        self.outfile = outfile\n",
    "        self.count = 0\n",
    "        self.m = max\n",
    "        print \"Initialized\"\n",
    "    \n",
    "    def on_status(self, status):\n",
    "        with open(self.outfile, 'a') as f:\n",
    "            writer = json.dump(status._json, f)\n",
    "            if self.count <= self.m:\n",
    "                print \"wrote a tweet\"\n",
    "                self.count = self.count + 1\n",
    "                return True\n",
    "            if self.count > self.m:\n",
    "                return False\n",
    "        \n",
    "    def on_error(self, status):\n",
    "        print status\n",
    "        return True"
   ]
  },
  {
   "cell_type": "code",
   "execution_count": 51,
   "metadata": {
    "collapsed": true
   },
   "outputs": [],
   "source": [
    "def collect(outfile, api, filters):\n",
    "    lstner = AMStreamListener(outfile, 10)\n",
    "    stream = tweepy.Stream(auth = api.auth, listener = lstner)\n",
    "    stream.filter(track=filters)"
   ]
  },
  {
   "cell_type": "markdown",
   "metadata": {},
   "source": [
    "Dir that comes back from a tweet:\n",
    "'''\n",
    "['__class__', '__delattr__', '__dict__', '__doc__', '__eq__', '__format__', '__getattribute__', '__getstate__', '__hash__', '__init__', '__module__', '__ne__', '__new__', '__reduce__', '__reduce_ex__', '__repr__', '__setattr__', '__sizeof__', '__str__', '__subclasshook__', '__weakref__', '_api', '_json', 'author', 'contributors', 'coordinates', 'created_at', 'destroy', 'entities', 'extended_entities', 'favorite', 'favorite_count', 'favorited', 'filter_level', 'geo', 'id', 'id_str', 'in_reply_to_screen_name', 'in_reply_to_status_id', 'in_reply_to_status_id_str', 'in_reply_to_user_id', 'in_reply_to_user_id_str', 'is_quote_status', 'lang', 'parse', 'parse_list', 'place', 'possibly_sensitive', 'retweet', 'retweet_count', 'retweeted', 'retweeted_status', 'retweets', 'source', 'source_url', 'text', 'timestamp_ms', 'truncated', 'user']\n",
    "'''"
   ]
  },
  {
   "cell_type": "code",
   "execution_count": null,
   "metadata": {
    "collapsed": false
   },
   "outputs": [
    {
     "name": "stdout",
     "output_type": "stream",
     "text": [
      "Initialized\n",
      "wrote a tweet\n",
      "wrote a tweet\n",
      "wrote a tweet\n",
      "wrote a tweet\n",
      "wrote a tweet\n",
      "wrote a tweet\n",
      "wrote a tweet\n",
      "wrote a tweet\n",
      "wrote a tweet\n",
      "wrote a tweet\n",
      "wrote a tweet\n",
      "wrote a tweet\n",
      "wrote a tweet\n",
      "wrote a tweet\n",
      "wrote a tweet\n",
      "wrote a tweet\n",
      "wrote a tweet\n",
      "wrote a tweet\n",
      "wrote a tweet\n",
      "wrote a tweet\n",
      "wrote a tweet\n",
      "wrote a tweet\n",
      "wrote a tweet\n",
      "wrote a tweet\n",
      "wrote a tweet\n",
      "wrote a tweet\n",
      "wrote a tweet\n",
      "wrote a tweet\n",
      "wrote a tweet\n",
      "wrote a tweet\n",
      "wrote a tweet\n",
      "wrote a tweet\n",
      "wrote a tweet\n",
      "wrote a tweet\n",
      "wrote a tweet\n",
      "wrote a tweet\n",
      "wrote a tweet\n",
      "wrote a tweet\n",
      "wrote a tweet\n",
      "wrote a tweet\n",
      "wrote a tweet\n",
      "wrote a tweet\n",
      "wrote a tweet\n",
      "wrote a tweet\n",
      "wrote a tweet\n",
      "wrote a tweet\n",
      "wrote a tweet\n",
      "wrote a tweet\n",
      "wrote a tweet\n",
      "wrote a tweet\n",
      "wrote a tweet\n",
      "wrote a tweet\n",
      "wrote a tweet\n",
      "wrote a tweet\n",
      "wrote a tweet\n",
      "wrote a tweet\n",
      "wrote a tweet\n",
      "wrote a tweet\n",
      "wrote a tweet\n",
      "wrote a tweet"
     ]
    }
   ],
   "source": [
    "collect(\"tweets.csv\", api, ['#TrumpTrain'])"
   ]
  },
  {
   "cell_type": "code",
   "execution_count": null,
   "metadata": {
    "collapsed": true
   },
   "outputs": [],
   "source": []
  }
 ],
 "metadata": {
  "kernelspec": {
   "display_name": "Python 2",
   "language": "python",
   "name": "python2"
  },
  "language_info": {
   "codemirror_mode": {
    "name": "ipython",
    "version": 2
   },
   "file_extension": ".py",
   "mimetype": "text/x-python",
   "name": "python",
   "nbconvert_exporter": "python",
   "pygments_lexer": "ipython2",
   "version": "2.7.11"
  }
 },
 "nbformat": 4,
 "nbformat_minor": 0
}

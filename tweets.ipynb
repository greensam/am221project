{
 "cells": [
  {
   "cell_type": "code",
   "execution_count": 1,
   "metadata": {
    "collapsed": false
   },
   "outputs": [],
   "source": [
    "import tweepy\n",
    "import csv\n",
    "import json\n",
    "import sys\n",
    "import webbrowser\n",
    "import numpy as np\n",
    "import thread"
   ]
  },
  {
   "cell_type": "code",
   "execution_count": 2,
   "metadata": {
    "collapsed": false
   },
   "outputs": [],
   "source": [
    "# Application keys\n",
    "CONSUMER = \"iVlBjTQ99F36eF7kw8ozGoJIP\"\n",
    "SECRET = \"R2U5bHSO5N2MIp3meOhP3aFi3y183aKuIZZKWCk277EZPPvSgJ\""
   ]
  },
  {
   "cell_type": "code",
   "execution_count": 3,
   "metadata": {
    "collapsed": false
   },
   "outputs": [],
   "source": [
    "\"\"\"\n",
    "Authenticate this run with Twitter, using OAuth\n",
    "returns auth object for instantiation of api object.\n",
    "\"\"\"\n",
    "def authenticate():\n",
    "    auth = tweepy.OAuthHandler(CONSUMER, SECRET)\n",
    "\n",
    "    webbrowser.open(auth.get_authorization_url())\n",
    "    pin = raw_input('Verification from Twitter.com ').strip()\n",
    "    token = auth.get_access_token(verifier=pin)\n",
    "    auth.access_token = token[0]\n",
    "    auth.access_token_secret = token[1]\n",
    "\n",
    "    auth.set_access_token(auth.access_token, auth.access_token_secret)\n",
    "    return auth"
   ]
  },
  {
   "cell_type": "code",
   "execution_count": 4,
   "metadata": {
    "collapsed": false
   },
   "outputs": [
    {
     "name": "stdout",
     "output_type": "stream",
     "text": [
      "Verification from Twitter.com 2985588\n"
     ]
    }
   ],
   "source": [
    "auth = authenticate()"
   ]
  },
  {
   "cell_type": "code",
   "execution_count": 5,
   "metadata": {
    "collapsed": true
   },
   "outputs": [],
   "source": [
    "# finish by creating api connection\n",
    "api = tweepy.API(auth)"
   ]
  },
  {
   "cell_type": "code",
   "execution_count": 6,
   "metadata": {
    "collapsed": false
   },
   "outputs": [],
   "source": [
    "class AMStreamListener(tweepy.StreamListener):\n",
    "    def __init__(self, outfile, m):\n",
    "        super(AMStreamListener, self).__init__()\n",
    "        self.outfile = outfile\n",
    "        self.count = 0\n",
    "        self.m = m\n",
    "        print \"Initialized\"\n",
    "    \n",
    "    def on_status(self, status):\n",
    "        with open(self.outfile, 'a') as f:\n",
    "            writer = json.dump(status._json, f, indent=4, separators=(\",\", \":\"))\n",
    "            self.count = self.count + 1\n",
    "            return True\n",
    "        \n",
    "    def on_error(self, status):\n",
    "        print self.outfile,\" error :\",status\n",
    "        return True"
   ]
  },
  {
   "cell_type": "code",
   "execution_count": 14,
   "metadata": {
    "collapsed": true
   },
   "outputs": [],
   "source": [
    "def collect(outfile, api, filters, count):\n",
    "    print filters\n",
    "    lstner = AMStreamListener(outfile, count)\n",
    "    stream = tweepy.Stream(auth = api.auth, listener = lstner)\n",
    "    stream.filter(track=filters, async=True)"
   ]
  },
  {
   "cell_type": "markdown",
   "metadata": {},
   "source": [
    "Dir that comes back from a tweet:\n",
    "'''\n",
    "['__class__', '__delattr__', '__dict__', '__doc__', '__eq__', '__format__', '__getattribute__', '__getstate__', '__hash__', '__init__', '__module__', '__ne__', '__new__', '__reduce__', '__reduce_ex__', '__repr__', '__setattr__', '__sizeof__', '__str__', '__subclasshook__', '__weakref__', '_api', '_json', 'author', 'contributors', 'coordinates', 'created_at', 'destroy', 'entities', 'extended_entities', 'favorite', 'favorite_count', 'favorited', 'filter_level', 'geo', 'id', 'id_str', 'in_reply_to_screen_name', 'in_reply_to_status_id', 'in_reply_to_status_id_str', 'in_reply_to_user_id', 'in_reply_to_user_id_str', 'is_quote_status', 'lang', 'parse', 'parse_list', 'place', 'possibly_sensitive', 'retweet', 'retweet_count', 'retweeted', 'retweeted_status', 'retweets', 'source', 'source_url', 'text', 'timestamp_ms', 'truncated', 'user']\n",
    "'''"
   ]
  },
  {
   "cell_type": "code",
   "execution_count": 15,
   "metadata": {
    "collapsed": false
   },
   "outputs": [],
   "source": [
    "first = ['#ColoradovsUConn', '#Buffaloes', '#Huskies', '#Colorado', '#UConn', '#GoBuffs',\n",
    "         '#Connecticut', '#bleedblue', '#GoHuskies', '#UConnbasketball']\n",
    "second = ['#YalevsBaylor', '#Bulldogs', '#Bears', '#Yale', '#Baylor', '#OneIvy',\n",
    "          '#YaleBasketball', '#GoYale', '#GoBears']\n",
    "third = ['#Jayhawks', '#KUvPeay', '#kubball', '#16over1', '#Kansas', '#AustinPeay',\n",
    "         '#RockChalk', '#LetsGoPeay']\n",
    "fourth = ['#BuffalovsMiami', '#Hurricanes', '#Bison', '#Miami', '#Buffalo', '#BeatBuffalo',\n",
    "          '#GoCanes', '#UBBulls', '#UBDancing', '#HornsUp']\n",
    "fifth = ['#WichStvsArizona', '#Wildcats', '#Shockers', '#Shocktheworld', '#WichitaSt',\n",
    "         '#Arizona', '#GoCats', '#BearDown', '#AZWildcats', '#watchus', '#APlayersProgram']\n",
    "sixth = ['#Zags', '#GonzagavSH', '#Gonzaga', '#SetonHall', '#GoZags', '#HALLin', '#shbb',\n",
    "         '#SHUnited', '#UnitedWeZag', '#zagup']\n",
    "alltags = first+second+third+fourth+fifth+sixth\n",
    "# gametags = [first ,second , third , fourth , fifth , sixth]\n",
    "# games = [\"ColoradoConn\", \"YaleBaylor\", \"Kansas\", \"BuffaloMiami\", \"WichArizona\", \"GonzagaSH\"]"
   ]
  },
  {
   "cell_type": "code",
   "execution_count": 16,
   "metadata": {
    "collapsed": false
   },
   "outputs": [
    {
     "name": "stdout",
     "output_type": "stream",
     "text": [
      "['#ColoradovsUConn', '#Buffaloes', '#Huskies', '#Colorado', '#UConn', '#GoBuffs', '#Connecticut', '#bleedblue', '#GoHuskies', '#UConnbasketball', '#YalevsBaylor', '#Bulldogs', '#Bears', '#Yale', '#Baylor', '#OneIvy', '#YaleBasketball', '#GoYale', '#GoBears', '#Jayhawks', '#KUvPeay', '#kubball', '#16over1', '#Kansas', '#AustinPeay', '#RockChalk', '#LetsGoPeay', '#BuffalovsMiami', '#Hurricanes', '#Bison', '#Miami', '#Buffalo', '#BeatBuffalo', '#GoCanes', '#UBBulls', '#UBDancing', '#HornsUp', '#WichStvsArizona', '#Wildcats', '#Shockers', '#Shocktheworld', '#WichitaSt', '#Arizona', '#GoCats', '#BearDown', '#AZWildcats', '#watchus', '#APlayersProgram', '#Zags', '#GonzagavSH', '#Gonzaga', '#SetonHall', '#GoZags', '#HALLin', '#shbb', '#SHUnited', '#UnitedWeZag', '#zagup']\n",
      "Initialized\n"
     ]
    }
   ],
   "source": [
    "collect(\"firstround/thursday2-17.json\", api, alltags, 1000)"
   ]
  }
 ],
 "metadata": {
  "kernelspec": {
   "display_name": "Python 2",
   "language": "python",
   "name": "python2"
  },
  "language_info": {
   "codemirror_mode": {
    "name": "ipython",
    "version": 2
   },
   "file_extension": ".py",
   "mimetype": "text/x-python",
   "name": "python",
   "nbconvert_exporter": "python",
   "pygments_lexer": "ipython2",
   "version": "2.7.11"
  }
 },
 "nbformat": 4,
 "nbformat_minor": 0
}

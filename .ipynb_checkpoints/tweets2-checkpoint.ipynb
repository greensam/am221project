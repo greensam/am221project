{
 "cells": [
  {
   "cell_type": "code",
   "execution_count": 2,
   "metadata": {
    "collapsed": false
   },
   "outputs": [],
   "source": [
    "import tweepy\n",
    "import csv\n",
    "import json\n",
    "import sys\n",
    "import webbrowser\n",
    "import numpy as np\n",
    "import thread"
   ]
  },
  {
   "cell_type": "code",
   "execution_count": 3,
   "metadata": {
    "collapsed": false
   },
   "outputs": [],
   "source": [
    "# Application keys\n",
    "CONSUMER = \"iVlBjTQ99F36eF7kw8ozGoJIP\"\n",
    "SECRET = \"R2U5bHSO5N2MIp3meOhP3aFi3y183aKuIZZKWCk277EZPPvSgJ\""
   ]
  },
  {
   "cell_type": "code",
   "execution_count": 4,
   "metadata": {
    "collapsed": false
   },
   "outputs": [],
   "source": [
    "\"\"\"\n",
    "Authenticate this run with Twitter, using OAuth\n",
    "returns auth object for instantiation of api object.\n",
    "\"\"\"\n",
    "def authenticate():\n",
    "    auth = tweepy.OAuthHandler(CONSUMER, SECRET)\n",
    "\n",
    "    webbrowser.open(auth.get_authorization_url())\n",
    "    pin = raw_input('Verification from Twitter.com ').strip()\n",
    "    token = auth.get_access_token(verifier=pin)\n",
    "    auth.access_token = token[0]\n",
    "    auth.access_token_secret = token[1]\n",
    "\n",
    "    auth.set_access_token(auth.access_token, auth.access_token_secret)\n",
    "    return auth"
   ]
  },
  {
   "cell_type": "code",
   "execution_count": 5,
   "metadata": {
    "collapsed": false
   },
   "outputs": [
    {
     "name": "stdout",
     "output_type": "stream",
     "text": [
      "Verification from Twitter.com 1514791\n"
     ]
    }
   ],
   "source": [
    "auth = authenticate()"
   ]
  },
  {
   "cell_type": "code",
   "execution_count": 6,
   "metadata": {
    "collapsed": true
   },
   "outputs": [],
   "source": [
    "# finish by creating api connection\n",
    "api = tweepy.API(auth)"
   ]
  },
  {
   "cell_type": "code",
   "execution_count": 7,
   "metadata": {
    "collapsed": false
   },
   "outputs": [],
   "source": [
    "class AMStreamListener(tweepy.StreamListener):\n",
    "    def __init__(self, outfile, m):\n",
    "        super(AMStreamListener, self).__init__()\n",
    "        self.outfile = outfile\n",
    "        self.count = 0\n",
    "        self.m = m\n",
    "        print \"Initialized\"\n",
    "    \n",
    "    def on_status(self, status):\n",
    "        with open(self.outfile, 'a') as f:\n",
    "            writer = json.dump(status._json, f, indent=4, separators=(\",\", \":\"))\n",
    "            self.count = self.count + 1\n",
    "            return True\n",
    "        \n",
    "    def on_error(self, status):\n",
    "        print self.outfile,\" error :\",status\n",
    "        return True"
   ]
  },
  {
   "cell_type": "code",
   "execution_count": 11,
   "metadata": {
    "collapsed": true
   },
   "outputs": [],
   "source": [
    "def collect(outfile, api, filters, count):\n",
    "    print filters\n",
    "    lstner = AMStreamListener(outfile, count)\n",
    "    stream = tweepy.Stream(auth = api.auth, listener = lstner)\n",
    "    stream.filter(track=filters, async=True)"
   ]
  },
  {
   "cell_type": "markdown",
   "metadata": {},
   "source": [
    "Dir that comes back from a tweet:\n",
    "'''\n",
    "['__class__', '__delattr__', '__dict__', '__doc__', '__eq__', '__format__', '__getattribute__', '__getstate__', '__hash__', '__init__', '__module__', '__ne__', '__new__', '__reduce__', '__reduce_ex__', '__repr__', '__setattr__', '__sizeof__', '__str__', '__subclasshook__', '__weakref__', '_api', '_json', 'author', 'contributors', 'coordinates', 'created_at', 'destroy', 'entities', 'extended_entities', 'favorite', 'favorite_count', 'favorited', 'filter_level', 'geo', 'id', 'id_str', 'in_reply_to_screen_name', 'in_reply_to_status_id', 'in_reply_to_status_id_str', 'in_reply_to_user_id', 'in_reply_to_user_id_str', 'is_quote_status', 'lang', 'parse', 'parse_list', 'place', 'possibly_sensitive', 'retweet', 'retweet_count', 'retweeted', 'retweeted_status', 'retweets', 'source', 'source_url', 'text', 'timestamp_ms', 'truncated', 'user']\n",
    "'''"
   ]
  },
  {
   "cell_type": "code",
   "execution_count": 8,
   "metadata": {
    "collapsed": false
   },
   "outputs": [],
   "source": [
    "first = ['#ColoradovsUConn', '#Buffaloes', '#Huskies', '#Colorado', '#UConn', '#GoBuffs',\n",
    "         '#Connecticut', '#bleedblue', '#GoHuskies', '#UConnbasketball']\n",
    "second = ['#YalevsBaylor', '#Bulldogs', '#Bears', '#Yale', '#Baylor', '#OneIvy',\n",
    "          '#YaleBasketball', '#GoYale', '#GoBears']\n",
    "third = ['#Jayhawks', '#KUvPeay', '#kubball', '#16over1', '#Kansas', '#AustinPeay',\n",
    "         '#RockChalk', '#LetsGoPeay']\n",
    "fourth = ['#BuffalovsMiami', '#Hurricanes', '#Bison', '#Miami', '#Buffalo', '#BeatBuffalo',\n",
    "          '#GoCanes', '#UBBulls', '#UBDancing', '#HornsUp']\n",
    "fifth = ['#WichStvsArizona', '#Wildcats', '#Shockers', '#Shocktheworld', '#WichitaSt',\n",
    "         '#Arizona', '#GoCats', '#BearDown', '#AZWildcats', '#watchus', '#APlayersProgram']\n",
    "sixth = ['#Zags', '#GonzagavSH', '#Gonzaga', '#SetonHall', '#GoZags', '#HALLin', '#shbb',\n",
    "         '#SHUnited', '#UnitedWeZag', '#zagup']\n",
    "alltags = first+second+third+fourth+fifth+sixth\n",
    "# gametags = [first ,second , third , fourth , fifth , sixth]\n",
    "# games = [\"ColoradoConn\", \"YaleBaylor\", \"Kansas\", \"BuffaloMiami\", \"WichArizona\", \"GonzagaSH\"]"
   ]
  },
  {
   "cell_type": "code",
   "execution_count": 9,
   "metadata": {
    "collapsed": false
   },
   "outputs": [
    {
     "ename": "NameError",
     "evalue": "name 'collect' is not defined",
     "output_type": "error",
     "traceback": [
      "\u001b[0;31m---------------------------------------------------------------------------\u001b[0m",
      "\u001b[0;31mNameError\u001b[0m                                 Traceback (most recent call last)",
      "\u001b[0;32m<ipython-input-9-fd469bcba3f8>\u001b[0m in \u001b[0;36m<module>\u001b[0;34m()\u001b[0m\n\u001b[0;32m----> 1\u001b[0;31m \u001b[0mcollect\u001b[0m\u001b[0;34m(\u001b[0m\u001b[0;34m\"firstround/thursday2-17.json\"\u001b[0m\u001b[0;34m,\u001b[0m \u001b[0mapi\u001b[0m\u001b[0;34m,\u001b[0m \u001b[0malltags\u001b[0m\u001b[0;34m,\u001b[0m \u001b[0;36m1000\u001b[0m\u001b[0;34m)\u001b[0m\u001b[0;34m\u001b[0m\u001b[0m\n\u001b[0m",
      "\u001b[0;31mNameError\u001b[0m: name 'collect' is not defined"
     ]
    }
   ],
   "source": [
    "collect(\"firstround/thursday2-17.json\", api, alltags, 1000)"
   ]
  },
  {
   "cell_type": "code",
   "execution_count": 8,
   "metadata": {
    "collapsed": true
   },
   "outputs": [],
   "source": [
    "friday_first = [\"#Dayton\" ,\"#Flyers\", \"#TrueTeam\", \"#GoFlyers\", \"#Syracuse\", \"#OrangeCrush\" ,\"#CuseMode\" ,\"#StLouis\"]\n",
    "friday_second = [\"#VillanovavsAsheville\" ,\n",
    "                 \"#Villanova\", \"#Nova\" ,\"#NovaMBB\",\n",
    "                 \"#NovaNation\", \"#LetsMarchNova\" ,\"#OurTownOurTeam\",\n",
    "                 \"#Bulldogs\" ,\"#Cinderella\", \"#UNCAsheville\", \"#Asheville\"]"
   ]
  },
  {
   "cell_type": "code",
   "execution_count": 9,
   "metadata": {
    "collapsed": true
   },
   "outputs": [],
   "source": [
    "friday_third = [\"#OregonStatevsVCU\", \"#Rams\", \"#Beavers\" ,\n",
    "                \"#LetsGoVCU\", \"#VCU\" ,\"#OregonState\", \n",
    "                \"#oregonstatebasketball\", \"#BeaverNation\" ,\"#GoBeavs\"]\n",
    "\n",
    "friday_fourth = [\"#CalvsHawaii\" ,\"#Cal\", \"#LetsDance\" ,\"#GoldenBears\",\n",
    "                \"#RainbowWarriors\", \"#Hawaii\" ,\"#GoBears\",\n",
    "                \"#CalFamily\", \"#HawaiiMBB\" ,\"#RoadWarriors\" ,\"#GoBows\"]\n",
    "firstgroupfriday = friday_first + friday_second + friday_third + friday_fourth"
   ]
  },
  {
   "cell_type": "code",
   "execution_count": 10,
   "metadata": {
    "collapsed": false
   },
   "outputs": [
    {
     "ename": "NameError",
     "evalue": "name 'collect' is not defined",
     "output_type": "error",
     "traceback": [
      "\u001b[0;31m---------------------------------------------------------------------------\u001b[0m",
      "\u001b[0;31mNameError\u001b[0m                                 Traceback (most recent call last)",
      "\u001b[0;32m<ipython-input-10-8012f8a97cca>\u001b[0m in \u001b[0;36m<module>\u001b[0;34m()\u001b[0m\n\u001b[0;32m----> 1\u001b[0;31m \u001b[0mcollect\u001b[0m\u001b[0;34m(\u001b[0m\u001b[0;34m'firstround/friday2-18.json'\u001b[0m\u001b[0;34m,\u001b[0m \u001b[0mapi\u001b[0m\u001b[0;34m,\u001b[0m\u001b[0mfriday_first\u001b[0m\u001b[0;34m+\u001b[0m\u001b[0mfriday_second\u001b[0m\u001b[0;34m+\u001b[0m\u001b[0mfriday_third\u001b[0m\u001b[0;34m+\u001b[0m\u001b[0mfriday_fourth\u001b[0m\u001b[0;34m,\u001b[0m \u001b[0;36m1000\u001b[0m\u001b[0;34m)\u001b[0m\u001b[0;34m\u001b[0m\u001b[0m\n\u001b[0m",
      "\u001b[0;31mNameError\u001b[0m: name 'collect' is not defined"
     ]
    }
   ],
   "source": [
    "collect('firstround/friday2-18.json', api,friday_first+friday_second+friday_third+friday_fourth, 1000)"
   ]
  },
  {
   "cell_type": "code",
   "execution_count": 13,
   "metadata": {
    "collapsed": false
   },
   "outputs": [],
   "source": [
    "total = ['#MiamivsWichitaState', '#GoCanes', '#Hurricanes', '#Miami', '#Shockers', \n",
    " '#Shocktheworld', '#WichitaSt', '#TogetherWeWill', '#watchus', '#DukevsYale', '#OneIvy', '#YaleBasketball', \n",
    " '#GoYale', '#Bulldogs', '#Yale', '#Duke', '#BlueDevils', '#GoDuke', '#KentuckyvIndiana', '#Kentucky', '#Indiana', \n",
    " '#Wildcats', '#Cats', '#Hoosiers', '#IU', '#BigBlueNation', '#ForIndiana', '#iubb', '#IowaStatevsALR', \n",
    " '#Cyclones', '#IowaSt', '#IowaState', '#cyclONEnation', '#LittleRocksTeam', '#VirginiavsButler', '#Virginia', \n",
    " '#Butler', '#Cavaliers', '#Bulldogs', '#UVA', '#GoHoos', '#ButlervsUVA', '#GoDawgs', '#KansasvsUConn', '#Connecticut', \n",
    " '#bleedblue', '#GoHuskies', '#UConnbasketball', '#UConn', '#Huskies', '#Jayhawks', '#kubball', '#Kansas', \n",
    " '#RockChalk', '#UConnnation', '#UtahvsGonzaga', '#Zags', '#Gonzaga', '#GoZags', '#UnitedWeZag', '#zagup', '#Utah', \n",
    " '#Utes', '#goutes', '#Playformore', '#BeatGonzaga', '#UNCvsProvidence', '#Providence', '#UNC', '#TarHeels', \n",
    " '#HeelsLockIn', '#UNCBBall', '#Friars', '#PCBB', '#gofriars', '#pcbb', '#dunnions', '#NCAATournament', \n",
    " '#MarchMadness', '#LetsDance', '#NCAATOURNAMENT', '#CBB', '#NCAAB']"
   ]
  },
  {
   "cell_type": "code",
   "execution_count": 12,
   "metadata": {
    "collapsed": false
   },
   "outputs": [],
   "source": [
    "alltags = firstgroupfriday + secondgroupfriday + thirdfridayandsat"
   ]
  },
  {
   "cell_type": "code",
   "execution_count": 14,
   "metadata": {
    "collapsed": false
   },
   "outputs": [
    {
     "name": "stdout",
     "output_type": "stream",
     "text": [
      "['#MiamivsWichitaState', '#GoCanes', '#Hurricanes', '#Miami', '#Shockers', '#Shocktheworld', '#WichitaSt', '#TogetherWeWill', '#watchus', '#DukevsYale', '#OneIvy', '#YaleBasketball', '#GoYale', '#Bulldogs', '#Yale', '#Duke', '#BlueDevils', '#GoDuke', '#KentuckyvIndiana', '#Kentucky', '#Indiana', '#Wildcats', '#Cats', '#Hoosiers', '#IU', '#BigBlueNation', '#ForIndiana', '#iubb', '#IowaStatevsALR', '#Cyclones', '#IowaSt', '#IowaState', '#cyclONEnation', '#LittleRocksTeam', '#VirginiavsButler', '#Virginia', '#Butler', '#Cavaliers', '#Bulldogs', '#UVA', '#GoHoos', '#ButlervsUVA', '#GoDawgs', '#KansasvsUConn', '#Connecticut', '#bleedblue', '#GoHuskies', '#UConnbasketball', '#UConn', '#Huskies', '#Jayhawks', '#kubball', '#Kansas', '#RockChalk', '#UConnnation', '#UtahvsGonzaga', '#Zags', '#Gonzaga', '#GoZags', '#UnitedWeZag', '#zagup', '#Utah', '#Utes', '#goutes', '#Playformore', '#BeatGonzaga', '#UNCvsProvidence', '#Providence', '#UNC', '#TarHeels', '#HeelsLockIn', '#UNCBBall', '#Friars', '#PCBB', '#gofriars', '#pcbb', '#dunnions', '#NCAATournament', '#MarchMadness', '#LetsDance', '#NCAATOURNAMENT', '#CBB', '#NCAAB']\n",
      "Initialized\n"
     ]
    }
   ],
   "source": [
    "collect('0319.json', api, total, 1000)"
   ]
  },
  {
   "cell_type": "code",
   "execution_count": null,
   "metadata": {
    "collapsed": true
   },
   "outputs": [],
   "source": []
  }
 ],
 "metadata": {
  "kernelspec": {
   "display_name": "Python 2",
   "language": "python",
   "name": "python2"
  },
  "language_info": {
   "codemirror_mode": {
    "name": "ipython",
    "version": 2
   },
   "file_extension": ".py",
   "mimetype": "text/x-python",
   "name": "python",
   "nbconvert_exporter": "python",
   "pygments_lexer": "ipython2",
   "version": "2.7.11"
  }
 },
 "nbformat": 4,
 "nbformat_minor": 0
}

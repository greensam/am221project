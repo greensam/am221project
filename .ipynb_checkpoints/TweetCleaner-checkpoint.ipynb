{
 "cells": [
  {
   "cell_type": "code",
   "execution_count": 5,
   "metadata": {
    "collapsed": true
   },
   "outputs": [],
   "source": [
    "import json\n",
    "import unicodecsv as csv\n",
    "import unicodedata\n",
    "import codecs"
   ]
  },
  {
   "cell_type": "code",
   "execution_count": 6,
   "metadata": {
    "collapsed": false
   },
   "outputs": [],
   "source": [
    "class TweetReader:\n",
    "    \"\"\"\n",
    "    Utility class providing conversation of our dumbly formatted\n",
    "    files containing scraped tweets into python dictionaries\n",
    "    sequententially, which can then be easily applied to clean and output \n",
    "    to a file.\n",
    "    \"\"\"\n",
    "    def __init__(self, infile, outfile):\n",
    "        self.infile_str = infile\n",
    "        self.outfile_str = outfile\n",
    "        self.infile = codecs.open(infile, 'r', encoding='utf-8')\n",
    "        self.line_count = 0\n",
    "        self.base = \"\"\n",
    "        \n",
    "        if not self.outfile_str is None:\n",
    "            self.outfile = open(outfile, 'w')\n",
    "        else:\n",
    "            self.outfile = None\n",
    "    \n",
    "    def init_outfile(self, outfile_str):\n",
    "        if not self.outfile is None and self.outfile_str is None:\n",
    "            raise Exception('Use update method to update Reader outfile.')\n",
    "        \n",
    "        self.outfile_str = outfile_str\n",
    "        self.outfile = open(self.outfile_str, 'w')\n",
    "        return True\n",
    "    \n",
    "    def update_outfile(self, outfile_str):\n",
    "        if self.outfile is None or self.outfile_str is None:\n",
    "            raise Exception('Use init method to initialize Reader outfile.')\n",
    "        \n",
    "        self.outfile_str = outfile_str\n",
    "        self.outfile = open(self.outfile_str,'w')\n",
    "              \n",
    "    def __iter__(self):\n",
    "        return self\n",
    "    \"\"\"\n",
    "    Attempt to read an object from the input file. Malformed input file will cause an exception.\n",
    "    \"\"\"\n",
    "    def next(self):\n",
    "        def to_json(st):\n",
    "            return json.loads(st)\n",
    "        \n",
    "        while True:\n",
    "            try:\n",
    "                line = next(self.infile)\n",
    "                self.line_count += 1\n",
    "                if self.line_count % 500000 == 0:\n",
    "                    print \"Hit 500000\"\n",
    "            except StopIteration:\n",
    "                print \"hit end of input file\"\n",
    "                try:\n",
    "                    obj = to_json(self.base)\n",
    "                    self.base = \"\"\n",
    "                except:\n",
    "                    raise StopIteration()\n",
    "                \n",
    "            if '}{' in line:\n",
    "                self.base += '}'\n",
    "                try:\n",
    "                    obj = json.loads(self.base)\n",
    "                except:\n",
    "                    return None\n",
    "                self.base = '{'\n",
    "                return obj\n",
    "            else:\n",
    "                self.base += line\n",
    "    \"\"\"\n",
    "    Attempt to read an input JSON object, then apply the argument clean \n",
    "    \"\"\"\n",
    "    def read_and_clean(self, clean_function):\n",
    "        obj = self.next()\n",
    "        cleaned = clean_function(obj)\n",
    "        return cleaned\n",
    "    \n",
    "    def write(self, obj):\n",
    "        if self.outfile is None:\n",
    "            raise Exception(\"Method requires outfile.\")\n",
    "            \n",
    "        writer = csv.DictWriter(self.outfile, fieldnames=obj.keys())\n",
    "        writer.writerow(obj)\n",
    "        return True\n",
    "    \n",
    "    def clean_and_write(self, obj, clean):\n",
    "        self.write(clean(obj))\n",
    "        return True\n",
    "    \n",
    "    def clean_and_write_all(self,clean,count=None):\n",
    "        c = 0\n",
    "        error_count = 0\n",
    "        for obj in self:\n",
    "            if obj is None:\n",
    "                continue\n",
    "            self.clean_and_write(obj,clean)\n",
    "            if not count is None:\n",
    "                if c > count:\n",
    "                    break\n",
    "                else:\n",
    "                    c += 1\n",
    "        print \"Converted {0} tweets from source file {1} to \\\n",
    "                output file {2}\".format(c, self.infile_str, self.outfile_str)\n",
    "        print \"{0} write attempts failed\".format(error_count)"
   ]
  },
  {
   "cell_type": "code",
   "execution_count": 7,
   "metadata": {
    "collapsed": false
   },
   "outputs": [],
   "source": [
    "tr = TweetReader('firstround/sunday27.json', 'converted/sunday3-27.csv')"
   ]
  },
  {
   "cell_type": "code",
   "execution_count": 8,
   "metadata": {
    "collapsed": true
   },
   "outputs": [],
   "source": [
    "def clean(tw):\n",
    "    return {'text':tw['text'], 'time':tw['timestamp_ms']}"
   ]
  },
  {
   "cell_type": "code",
   "execution_count": 4,
   "metadata": {
    "collapsed": false
   },
   "outputs": [
    {
     "ename": "NameError",
     "evalue": "name 'tr' is not defined",
     "output_type": "error",
     "traceback": [
      "\u001b[0;31m---------------------------------------------------------------------------\u001b[0m",
      "\u001b[0;31mNameError\u001b[0m                                 Traceback (most recent call last)",
      "\u001b[0;32m<ipython-input-4-60ac73b1c199>\u001b[0m in \u001b[0;36m<module>\u001b[0;34m()\u001b[0m\n\u001b[0;32m----> 1\u001b[0;31m \u001b[0mtr\u001b[0m\u001b[0;34m.\u001b[0m\u001b[0mclean_and_write_all\u001b[0m\u001b[0;34m(\u001b[0m\u001b[0mclean\u001b[0m\u001b[0;34m)\u001b[0m\u001b[0;34m\u001b[0m\u001b[0m\n\u001b[0m",
      "\u001b[0;31mNameError\u001b[0m: name 'tr' is not defined"
     ]
    }
   ],
   "source": [
    "tr.clean_and_write_all(clean)"
   ]
  },
  {
   "cell_type": "code",
   "execution_count": null,
   "metadata": {
    "collapsed": true
   },
   "outputs": [],
   "source": []
  }
 ],
 "metadata": {
  "kernelspec": {
   "display_name": "Python 2",
   "language": "python",
   "name": "python2"
  },
  "language_info": {
   "codemirror_mode": {
    "name": "ipython",
    "version": 2
   },
   "file_extension": ".py",
   "mimetype": "text/x-python",
   "name": "python",
   "nbconvert_exporter": "python",
   "pygments_lexer": "ipython2",
   "version": "2.7.11"
  }
 },
 "nbformat": 4,
 "nbformat_minor": 0
}

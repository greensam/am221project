{
 "cells": [
  {
   "cell_type": "code",
   "execution_count": 13,
   "metadata": {
    "collapsed": false
   },
   "outputs": [],
   "source": [
    "%matplotlib inline\n",
    "import unicodecsv as csv\n",
    "import numpy as np\n",
    "import pandas as pd"
   ]
  },
  {
   "cell_type": "code",
   "execution_count": 15,
   "metadata": {
    "collapsed": true
   },
   "outputs": [],
   "source": [
    "import unicodecsv as csv\n",
    "\n",
    "def filtertweetcsv(treader, filtertags, outfile):\n",
    "    with open(outfile, 'w') as f:\n",
    "        wr = csv.DictWriter(f,fieldnames=['text','time'])\n",
    "        wr.writeheader()\n",
    "        for row in treader:\n",
    "            if any(tag in row['text'] for tag in filtertags):\n",
    "                wr.writerow(row)\n",
    "    return True\n",
    "\n",
    "def filtertweets(inpath, outfile, tags):\n",
    "    with open(inpath, 'r') as f:\n",
    "        rdr = csv.DictReader(f)\n",
    "        return filtertweetcsv(rdr, tags , outfile)"
   ]
  },
  {
   "cell_type": "code",
   "execution_count": 16,
   "metadata": {
    "collapsed": true
   },
   "outputs": [],
   "source": [
    "DaytonCuse = [\"#Dayton\" ,\"#Flyers\", \"#TrueTeam\", \"#GoFlyers\", \"#Syracuse\", \"#OrangeCrush\" ,\"#CuseMode\" ,\"#StLouis\"]\n",
    "infile = 'converted/firstroufriday2nd.csv'\n",
    "outfile = 'separated/DaytonSyracuse.csv'\n",
    "filtertweets(infile,outfile,DaytonCuse)"
   ]
  },
  {
   "cell_type": "code",
   "execution_count": 18,
   "metadata": {
    "collapsed": false
   },
   "outputs": [
    {
     "data": {
      "text/plain": [
       "True"
      ]
     },
     "execution_count": 18,
     "metadata": {},
     "output_type": "execute_result"
    }
   ],
   "source": [
    "NovaAsheville = [\"#VillanovavsAsheville\" ,\n",
    "                 \"#Villanova\", \"#Nova\" ,\"#NovaMBB\",\n",
    "                 \"#NovaNation\", \"#LetsMarchNova\" ,\"#OurTownOurTeam\",\n",
    "                 \"#Bulldogs\" ,\"#Cinderella\", \"#UNCAsheville\", \"#Asheville\"]\n",
    "outfile = 'separated/VillanovaAsheville.csv'\n",
    "filtertweets(infile,outfile,NovaAsheville)"
   ]
  },
  {
   "cell_type": "code",
   "execution_count": 19,
   "metadata": {
    "collapsed": false
   },
   "outputs": [
    {
     "data": {
      "text/plain": [
       "True"
      ]
     },
     "execution_count": 19,
     "metadata": {},
     "output_type": "execute_result"
    }
   ],
   "source": [
    "OregonVCU = [\"#OregonStatevsVCU\", \"#Rams\", \"#Beavers\" ,\n",
    "                \"#LetsGoVCU\", \"#VCU\" ,\"#OregonState\", \n",
    "                \"#oregonstatebasketball\", \"#BeaverNation\" ,\"#GoBeavs\"]\n",
    "outfile = 'separated/OregonStateVCU.csv'\n",
    "filtertweets(infile,outfile,OregonVCU)"
   ]
  },
  {
   "cell_type": "code",
   "execution_count": 20,
   "metadata": {
    "collapsed": false
   },
   "outputs": [
    {
     "data": {
      "text/plain": [
       "True"
      ]
     },
     "execution_count": 20,
     "metadata": {},
     "output_type": "execute_result"
    }
   ],
   "source": [
    "CalHawaii = [\"#CalvsHawaii\" ,\"#Cal\", \"#LetsDance\" ,\"#GoldenBears\",\n",
    "                \"#RainbowWarriors\", \"#Hawaii\" ,\"#GoBears\",\n",
    "                \"#CalFamily\", \"#HawaiiMBB\" ,\"#RoadWarriors\" ,\"#GoBows\"]\n",
    "outfile= 'separated/CalHawaii.csv'\n",
    "filtertweets(infile,outfile,CalHawaii)"
   ]
  },
  {
   "cell_type": "code",
   "execution_count": 23,
   "metadata": {
    "collapsed": false
   },
   "outputs": [
    {
     "data": {
      "text/plain": [
       "True"
      ]
     },
     "execution_count": 23,
     "metadata": {},
     "output_type": "execute_result"
    }
   ],
   "source": [
    "msumtsutags = '#MSUvsMTSU #MSU #MichiganState \\\n",
    "    #MiddleTennesseeState #MTSU \\\n",
    "    #BlueRaiders #DancingRaiders #Spartans #GoGreen #GoWhite'.split()\n",
    "outfile = 'separated/MichStateMiddTenn.csv'\n",
    "filtertweets(infile,outfile,msumtsutags)"
   ]
  },
  {
   "cell_type": "code",
   "execution_count": 27,
   "metadata": {
    "collapsed": false
   },
   "outputs": [
    {
     "data": {
      "text/plain": [
       "True"
      ]
     },
     "execution_count": 27,
     "metadata": {},
     "output_type": "execute_result"
    }
   ],
   "source": [
    "iowatempletags = '#IowavsTemple #Hawkeyes\\\n",
    "                    #Iowa #Temple #Owls #BeatIowa #TUMBB'.split()\n",
    "outfile = 'separated/IowaTemple.csv'\n",
    "filtertweets(infile, outfile, iowatempletags)"
   ]
  },
  {
   "cell_type": "code",
   "execution_count": 44,
   "metadata": {
    "collapsed": false
   },
   "outputs": [
    {
     "data": {
      "text/plain": [
       "True"
      ]
     },
     "execution_count": 44,
     "metadata": {},
     "output_type": "execute_result"
    }
   ],
   "source": [
    "OkCSU = \"#OklahomavsCSU #Oklahoma #OU #Sooners\\\n",
    "        #CSUB #OUvsCSUB #BuddyBuckets #CSUBelieve\\\n",
    "        #AllRunners\".split()\n",
    "outfile = 'separated/OklaCSU.csv'\n",
    "filtertweets(infile,outfile,OkCSU)"
   ]
  },
  {
   "cell_type": "code",
   "execution_count": 30,
   "metadata": {
    "collapsed": false
   },
   "outputs": [
    {
     "data": {
      "text/plain": [
       "True"
      ]
     },
     "execution_count": 30,
     "metadata": {},
     "output_type": "execute_result"
    }
   ],
   "source": [
    "mdsdsu = '#MarylandvsSDSU #WeWill\\\n",
    "            #Maryland #Terrapins #SDSU\\\n",
    "            #Jackrabbits #MarchTogether'.split()\n",
    "outfile = 'separated/MarylandSDSU.csv'\n",
    "filtertweets(infile,outfile,mdsdsu)"
   ]
  },
  {
   "cell_type": "code",
   "execution_count": 32,
   "metadata": {
    "collapsed": false
   },
   "outputs": [
    {
     "data": {
      "text/plain": [
       "True"
      ]
     },
     "execution_count": 32,
     "metadata": {},
     "output_type": "execute_result"
    }
   ],
   "source": [
    "wiscopitt = '#WisconsinvsPittsburgh #Badgers\\\n",
    "                #Panthers #Wisconsin #Pittsburgh\\\n",
    "                #MakeEmBelieve #Fieldof64\\\n",
    "                #WisconsinBasketball #H2P'.split()\n",
    "outfile='separated/WiscoPit.csv'\n",
    "filtertweets(infile,outfile,wiscopitt)"
   ]
  },
  {
   "cell_type": "code",
   "execution_count": 35,
   "metadata": {
    "collapsed": false
   },
   "outputs": [
    {
     "data": {
      "text/plain": [
       "True"
      ]
     },
     "execution_count": 35,
     "metadata": {},
     "output_type": "execute_result"
    }
   ],
   "source": [
    "WVUSFA = '#WVUvsSFA #WestVirginia #WVU #HailWV #PressVirginia\\\n",
    "#Mountaineers #Lumberjacks #SFA #AxeEm'.split()\n",
    "outfile = 'separated/WvuSFA.csv'\n",
    "filtertweets(infile,outfile,WVUSFA)"
   ]
  },
  {
   "cell_type": "code",
   "execution_count": 36,
   "metadata": {
    "collapsed": false
   },
   "outputs": [
    {
     "data": {
      "text/plain": [
       "True"
      ]
     },
     "execution_count": 36,
     "metadata": {},
     "output_type": "execute_result"
    }
   ],
   "source": [
    "aggies = '#A&MvGreenBay #TexasA&M #Aggies #Gigem\\\n",
    "            #TAMU #12thMan #SFA #AggieHoops #RP40 #HLMBB \\\n",
    "            #ContinueTheRise #GreenBay'.split()\n",
    "outfile = 'separated/TexasGB.csv'\n",
    "filtertweets(infile,outfile,aggies)"
   ]
  },
  {
   "cell_type": "code",
   "execution_count": 37,
   "metadata": {
    "collapsed": false
   },
   "outputs": [
    {
     "data": {
      "text/plain": [
       "True"
      ]
     },
     "execution_count": 37,
     "metadata": {},
     "output_type": "execute_result"
    }
   ],
   "source": [
    "oregonHC = '#OregonvsHolyCross #Oregon #Ducks\\\n",
    "            #GoDucks #HolyCross #Crusaders #RiseTogether'.split()\n",
    "outfile = 'separated/OregonHC.csv'\n",
    "filtertweets(infile,outfile,oregonHC)"
   ]
  },
  {
   "cell_type": "code",
   "execution_count": 39,
   "metadata": {
    "collapsed": false
   },
   "outputs": [
    {
     "data": {
      "text/plain": [
       "True"
      ]
     },
     "execution_count": 39,
     "metadata": {},
     "output_type": "execute_result"
    }
   ],
   "source": [
    "xavierWeb = '#XaviervsWeberState #Xavier #Musketeers \\\n",
    "                    #LetsGoX #LetsMarch #Wildcats\\\n",
    "                    #WeberState #WeAreWeber #BigSkyMBB'.split()\n",
    "outfile='separated/XavierWeberState.csv'\n",
    "filtertweets(infile,outfile,xavierWeb)"
   ]
  },
  {
   "cell_type": "code",
   "execution_count": 40,
   "metadata": {
    "collapsed": false
   },
   "outputs": [
    {
     "data": {
      "text/plain": [
       "True"
      ]
     },
     "execution_count": 40,
     "metadata": {},
     "output_type": "execute_result"
    }
   ],
   "source": [
    "ndMich = '#NotreDamevsMichigan #NotreDame\\\n",
    "            #Michigan #UMich #NotDoneYet #FightingIrish\\\n",
    "            #Wolverines #Squad100 #GoBlue'.split()\n",
    "outfile='separated/NDMichigan.csv'\n",
    "filtertweets(infile,outfile,ndMich)"
   ]
  },
  {
   "cell_type": "code",
   "execution_count": 41,
   "metadata": {
    "collapsed": false
   },
   "outputs": [
    {
     "data": {
      "text/plain": [
       "True"
      ]
     },
     "execution_count": 41,
     "metadata": {},
     "output_type": "execute_result"
    }
   ],
   "source": [
    "texNI = '#TexasvsNorthernIowa #UT #NorthernIowa #Longhorns\\\n",
    "            #HookEm #Horns #Panthers #PantherNation\\\n",
    "            #UNI #UTvsUNI #UNIFight'.split()\n",
    "outfile='separated/TexasNorthernIowa.csv'\n",
    "filtertweets(infile,outfile,texNI)"
   ]
  },
  {
   "cell_type": "code",
   "execution_count": 43,
   "metadata": {
    "collapsed": false,
    "scrolled": true
   },
   "outputs": [
    {
     "data": {
      "text/plain": [
       "True"
      ]
     },
     "execution_count": 43,
     "metadata": {},
     "output_type": "execute_result"
    }
   ],
   "source": [
    "stJoeCinc = '#StJoesvsCincy #Cincinnati #Cincy #StJoes\\\n",
    "                #Hawks #BearCats #Dancin6\\\n",
    "                #StJosephs #THWND'.split()\n",
    "outfile='separated/StJosephsCincinnati.csv'\n",
    "filtertweets(infile,outfile,stJoeCinc)"
   ]
  }
 ],
 "metadata": {
  "kernelspec": {
   "display_name": "Python 2",
   "language": "python",
   "name": "python2"
  },
  "language_info": {
   "codemirror_mode": {
    "name": "ipython",
    "version": 2
   },
   "file_extension": ".py",
   "mimetype": "text/x-python",
   "name": "python",
   "nbconvert_exporter": "python",
   "pygments_lexer": "ipython2",
   "version": "2.7.11"
  }
 },
 "nbformat": 4,
 "nbformat_minor": 0
}

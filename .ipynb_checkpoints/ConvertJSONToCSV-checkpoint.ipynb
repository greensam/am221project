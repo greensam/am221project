{
 "cells": [
  {
   "cell_type": "code",
   "execution_count": 27,
   "metadata": {
    "collapsed": true
   },
   "outputs": [],
   "source": [
    "from tweetreader import TweetReader\n",
    "import thread\n",
    "import threading"
   ]
  },
  {
   "cell_type": "code",
   "execution_count": 28,
   "metadata": {
    "collapsed": true
   },
   "outputs": [],
   "source": [
    "fnames = ['firstroufriday2nd.json','friday2-18.json', 'friday25.json', 'friday2nd.json', 'saturday3-26.json',\n",
    "'sunday.json','sunday27.json','thursday3-24.json']"
   ]
  },
  {
   "cell_type": "code",
   "execution_count": 29,
   "metadata": {
    "collapsed": false
   },
   "outputs": [],
   "source": [
    "infiles = ['firstround/'+n for n in fnames]\n",
    "outfiles = [\"converted/\" + n.split('.')[0] + \".csv\" for n in fnames]"
   ]
  },
  {
   "cell_type": "code",
   "execution_count": 11,
   "metadata": {
    "collapsed": false
   },
   "outputs": [],
   "source": [
    "trs = [TweetReader(i,o) for (i,o) in zip(infiles,outfiles)]"
   ]
  },
  {
   "cell_type": "code",
   "execution_count": 12,
   "metadata": {
    "collapsed": false
   },
   "outputs": [
    {
     "name": "stdout",
     "output_type": "stream",
     "text": [
      "[<tweetreader.TweetReader instance at 0x1096c4248>, <tweetreader.TweetReader instance at 0x1096f1fc8>, <tweetreader.TweetReader instance at 0x1096f1440>, <tweetreader.TweetReader instance at 0x109776878>, <tweetreader.TweetReader instance at 0x109776200>, <tweetreader.TweetReader instance at 0x1097761b8>, <tweetreader.TweetReader instance at 0x109776440>, <tweetreader.TweetReader instance at 0x109776950>]\n",
      "['__doc__', '__init__', '__iter__', '__module__', 'base', 'clean_and_write', 'clean_and_write_all', 'infile', 'infile_str', 'init_outfile', 'line_count', 'next', 'outfile', 'outfile_str', 'read_and_clean', 'update_outfile', 'write']\n"
     ]
    }
   ],
   "source": [
    "print trs\n",
    "print dir(trs[0])"
   ]
  },
  {
   "cell_type": "code",
   "execution_count": 22,
   "metadata": {
    "collapsed": true
   },
   "outputs": [],
   "source": [
    "def clean(obj):\n",
    "    return {'text':obj['text'].strip('\\\"'), 'timestamp':obj['created_at']}"
   ]
  },
  {
   "cell_type": "code",
   "execution_count": 21,
   "metadata": {
    "collapsed": false,
    "scrolled": false
   },
   "outputs": [
    {
     "name": "stdout",
     "output_type": "stream",
     "text": [
      "hit end of input file\n",
      "Converted 0 tweets from source file firstround/firstroufriday2nd.json                 to output file converted/firstroufriday2nd.csv\n",
      "0 write attempts failed\n",
      "hit end of input file\n",
      "Converted 0 tweets from source file firstround/friday2-18.json                 to output file converted/friday2-18.csv\n",
      "0 write attempts failed\n",
      "hit end of input file\n",
      "Converted 0 tweets from source file firstround/friday25.json                 to output file converted/friday25.csv\n",
      "0 write attempts failed\n",
      "hit end of input file\n",
      "Converted 0 tweets from source file firstround/friday2nd.json                 to output file converted/friday2nd.csv\n",
      "0 write attempts failed\n",
      "hit end of input file\n",
      "Converted 0 tweets from source file firstround/saturday3-26.json                 to output file converted/saturday3-26.csv\n",
      "0 write attempts failed\n",
      "hit end of input file\n",
      "Converted 0 tweets from source file firstround/sunday.json                 to output file converted/sunday.csv\n",
      "0 write attempts failed\n",
      "hit end of input file\n",
      "Converted 0 tweets from source file firstround/sunday27.json                 to output file converted/sunday27.csv\n",
      "0 write attempts failed\n",
      "hit end of input file\n",
      "Converted 0 tweets from source file firstround/thursday3-24.json                 to output file converted/thursday3-24.csv\n",
      "0 write attempts failed\n"
     ]
    }
   ],
   "source": [
    "threads = [tr.clean_and_write_all(clean) for tr in trs]"
   ]
  },
  {
   "cell_type": "code",
   "execution_count": 32,
   "metadata": {
    "collapsed": true
   },
   "outputs": [],
   "source": [
    "tr = TweetReader('firstround/firstroufriday2nd.json','converted/firstroufriday2nd.csv')"
   ]
  },
  {
   "cell_type": "code",
   "execution_count": 33,
   "metadata": {
    "collapsed": false
   },
   "outputs": [
    {
     "name": "stdout",
     "output_type": "stream",
     "text": [
      "Hit 500000, total: 500000\n",
      "Hit 500000, total: 1000000\n",
      "Hit 500000, total: 1500000\n",
      "Hit 500000, total: 2000000\n",
      "Hit 500000, total: 2500000\n",
      "Hit 500000, total: 3000000\n",
      "Hit 500000, total: 3500000\n",
      "Hit 500000, total: 4000000\n",
      "Hit 500000, total: 4500000\n",
      "Hit 500000, total: 5000000\n",
      "Hit 500000, total: 5500000\n",
      "Hit 500000, total: 6000000\n",
      "Hit 500000, total: 6500000\n",
      "Hit 500000, total: 7000000\n",
      "Hit 500000, total: 7500000\n",
      "Hit 500000, total: 8000000\n",
      "Hit 500000, total: 8500000\n",
      "Hit 500000, total: 9000000\n",
      "Hit 500000, total: 9500000\n",
      "Hit 500000, total: 10000000\n",
      "Hit 500000, total: 10500000\n",
      "Hit 500000, total: 11000000\n",
      "Hit 500000, total: 11500000\n",
      "Hit 500000, total: 12000000\n",
      "Hit 500000, total: 12500000\n",
      "Hit 500000, total: 13000000\n",
      "Hit 500000, total: 13500000\n",
      "Hit 500000, total: 14000000\n",
      "Hit 500000, total: 14500000\n",
      "Hit 500000, total: 15000000\n",
      "Hit 500000, total: 15500000\n",
      "Hit 500000, total: 16000000\n",
      "Hit 500000, total: 16500000\n",
      "Hit 500000, total: 17000000\n",
      "Hit 500000, total: 17500000\n",
      "Hit 500000, total: 18000000\n",
      "Hit 500000, total: 18500000\n",
      "Hit 500000, total: 19000000\n",
      "Hit 500000, total: 19500000\n",
      "Hit 500000, total: 20000000\n",
      "Hit 500000, total: 20500000\n",
      "Hit 500000, total: 21000000\n",
      "Hit 500000, total: 21500000\n",
      "Hit 500000, total: 22000000\n",
      "Hit 500000, total: 22500000\n",
      "Hit 500000, total: 23000000\n",
      "Hit 500000, total: 23500000\n",
      "Hit 500000, total: 24000000\n",
      "Hit 500000, total: 24500000\n",
      "Hit 500000, total: 25000000\n",
      "Hit 500000, total: 25500000\n",
      "Hit 500000, total: 26000000\n",
      "Hit 500000, total: 26500000\n",
      "Hit 500000, total: 27000000\n",
      "Hit 500000, total: 27500000\n",
      "Hit 500000, total: 28000000\n",
      "Hit 500000, total: 28500000\n",
      "Hit 500000, total: 29000000\n",
      "Hit 500000, total: 29500000\n",
      "Hit 500000, total: 30000000\n",
      "Hit 500000, total: 30500000\n",
      "Hit 500000, total: 31000000\n",
      "Hit 500000, total: 31500000\n",
      "Hit 500000, total: 32000000\n",
      "Hit 500000, total: 32500000\n",
      "Hit 500000, total: 33000000\n",
      "Hit 500000, total: 33500000\n",
      "Hit 500000, total: 34000000\n",
      "Hit 500000, total: 34500000\n",
      "Hit 500000, total: 35000000\n",
      "Hit 500000, total: 35500000\n",
      "Hit 500000, total: 36000000\n",
      "Hit 500000, total: 36500000\n",
      "Hit 500000, total: 37000000\n",
      "Hit 500000, total: 37500000\n",
      "Hit 500000, total: 38000000\n",
      "Hit 500000, total: 38500000\n",
      "Hit 500000, total: 39000000\n",
      "Hit 500000, total: 39500000\n",
      "Hit 500000, total: 40000000\n",
      "Hit 500000, total: 40500000\n",
      "Hit 500000, total: 41000000\n",
      "Hit 500000, total: 41500000\n",
      "Hit 500000, total: 42000000\n",
      "Hit 500000, total: 42500000\n",
      "Hit 500000, total: 43000000\n",
      "Hit 500000, total: 43500000\n",
      "Hit 500000, total: 44000000\n",
      "Hit 500000, total: 44500000\n",
      "Hit 500000, total: 45000000\n",
      "Hit 500000, total: 45500000\n",
      "Hit 500000, total: 46000000\n",
      "Hit 500000, total: 46500000\n",
      "Hit 500000, total: 47000000\n",
      "Hit 500000, total: 47500000\n",
      "hit end of input file\n",
      "hit end of input file\n",
      "Converted 238282 tweets from source file firstround/firstroufriday2nd.json                 to output file converted/firstroufriday2nd.csv\n",
      "0 write attempts failed\n"
     ]
    }
   ],
   "source": [
    "tr.clean_and_write_all(clean)"
   ]
  },
  {
   "cell_type": "code",
   "execution_count": null,
   "metadata": {
    "collapsed": true
   },
   "outputs": [],
   "source": []
  }
 ],
 "metadata": {
  "kernelspec": {
   "display_name": "Python 2",
   "language": "python",
   "name": "python2"
  },
  "language_info": {
   "codemirror_mode": {
    "name": "ipython",
    "version": 2
   },
   "file_extension": ".py",
   "mimetype": "text/x-python",
   "name": "python",
   "nbconvert_exporter": "python",
   "pygments_lexer": "ipython2",
   "version": "2.7.11"
  }
 },
 "nbformat": 4,
 "nbformat_minor": 0
}
